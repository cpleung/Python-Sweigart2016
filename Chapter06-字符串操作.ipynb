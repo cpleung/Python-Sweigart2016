{
 "cells": [
  {
   "cell_type": "markdown",
   "id": "208b0fe2",
   "metadata": {},
   "source": [
    "# 转义字符\n",
    "\n",
    "|转义字符 |打印为|\n",
    "|:---|:---|\n",
    "|`\\'`|单引号|\n",
    "|`\\\"`|双引号|\n",
    "|`\\t`|制表号|\n",
    "|`\\n`|换行号|\n",
    "|`\\\\`|倒斜杠|"
   ]
  },
  {
   "cell_type": "code",
   "execution_count": 1,
   "id": "5484a14b",
   "metadata": {},
   "outputs": [
    {
     "name": "stdout",
     "output_type": "stream",
     "text": [
      "Hello there!\n",
      "How are you?\n"
     ]
    }
   ],
   "source": [
    "print('Hello there!\\nHow are you?')"
   ]
  },
  {
   "cell_type": "markdown",
   "id": "28786f1e",
   "metadata": {},
   "source": [
    "# 原始字符\n",
    "\n",
    "在字符串开始的引号之前加上 r，使它成为原始字符串，完全忽略所有的转义字符."
   ]
  },
  {
   "cell_type": "code",
   "execution_count": 2,
   "id": "abdcd7f5",
   "metadata": {},
   "outputs": [
    {
     "name": "stdout",
     "output_type": "stream",
     "text": [
      "Hello there!\\nHow are you?\n"
     ]
    }
   ],
   "source": [
    "print(r'Hello there!\\nHow are you?')"
   ]
  },
  {
   "cell_type": "markdown",
   "id": "08b87714",
   "metadata": {},
   "source": [
    "## 三重引号"
   ]
  },
  {
   "cell_type": "code",
   "execution_count": 3,
   "id": "d1d1e2c2",
   "metadata": {},
   "outputs": [
    {
     "name": "stdout",
     "output_type": "stream",
     "text": [
      "Dear Alice,\n",
      "\n",
      "Eve's cat has been arrested for catnapping, cat burglary, and extrotion.\n",
      "\n",
      "Sincerely,\n",
      "Bob\n"
     ]
    }
   ],
   "source": [
    "print('''Dear Alice,\n",
    "\n",
    "Eve's cat has been arrested for catnapping, cat burglary, and extrotion.\n",
    "\n",
    "Sincerely,\n",
    "Bob''')"
   ]
  },
  {
   "cell_type": "markdown",
   "id": "327c23f9",
   "metadata": {},
   "source": [
    "## 多行注释"
   ]
  },
  {
   "cell_type": "code",
   "execution_count": 4,
   "id": "694e6268",
   "metadata": {},
   "outputs": [
    {
     "name": "stdout",
     "output_type": "stream",
     "text": [
      "Hello!\n"
     ]
    }
   ],
   "source": [
    "def spam():\n",
    "    \"\"\" This is a multiline comment to help\n",
    "    explain what the spam() function does.\"\"\"\n",
    "    print('Hello!')\n",
    "\n",
    "spam()"
   ]
  },
  {
   "cell_type": "markdown",
   "id": "d14e4c64",
   "metadata": {},
   "source": [
    "# 有用的字符串方法\n",
    "\n",
    "## upper(), lower()\n",
    "\n",
    "upper()和 lower()字符串方法返回一个新字符串，其中原字符串的所有字母都被相应地转换为大写或小写。字符串中非字母字符保持不变。\n",
    "原字符串没有改变。"
   ]
  },
  {
   "cell_type": "code",
   "execution_count": 5,
   "id": "c0040b07",
   "metadata": {},
   "outputs": [
    {
     "data": {
      "text/plain": [
       "'HELLO WORLD!'"
      ]
     },
     "execution_count": 5,
     "metadata": {},
     "output_type": "execute_result"
    }
   ],
   "source": [
    "spam = 'Hello world!'\n",
    "spam.upper()"
   ]
  },
  {
   "cell_type": "code",
   "execution_count": 6,
   "id": "bb64d0e5",
   "metadata": {},
   "outputs": [
    {
     "data": {
      "text/plain": [
       "'Hello world!'"
      ]
     },
     "execution_count": 6,
     "metadata": {},
     "output_type": "execute_result"
    }
   ],
   "source": [
    "spam"
   ]
  },
  {
   "cell_type": "code",
   "execution_count": 7,
   "id": "c0f599e5",
   "metadata": {},
   "outputs": [
    {
     "data": {
      "text/plain": [
       "'hello world!'"
      ]
     },
     "execution_count": 7,
     "metadata": {},
     "output_type": "execute_result"
    }
   ],
   "source": [
    "spam.lower()"
   ]
  },
  {
   "cell_type": "code",
   "execution_count": 8,
   "id": "f9ee03a7",
   "metadata": {},
   "outputs": [
    {
     "data": {
      "text/plain": [
       "'Hello world!'"
      ]
     },
     "execution_count": 8,
     "metadata": {},
     "output_type": "execute_result"
    }
   ],
   "source": [
    "spam"
   ]
  },
  {
   "cell_type": "markdown",
   "id": "ceaee3a8",
   "metadata": {},
   "source": [
    "## isupper(), islower()\n",
    "\n",
    "如果字符串至少有一个字母， 并且所有字母都是大写或小写， isupper() 和 islower()方法就会相应地返回布尔值 True。否则，该方法返回 False。"
   ]
  },
  {
   "cell_type": "code",
   "execution_count": 9,
   "id": "99da3bf6",
   "metadata": {},
   "outputs": [
    {
     "data": {
      "text/plain": [
       "True"
      ]
     },
     "execution_count": 9,
     "metadata": {},
     "output_type": "execute_result"
    }
   ],
   "source": [
    "'hello888'.islower()"
   ]
  },
  {
   "cell_type": "code",
   "execution_count": 10,
   "id": "d2d0f4a3",
   "metadata": {},
   "outputs": [
    {
     "data": {
      "text/plain": [
       "False"
      ]
     },
     "execution_count": 10,
     "metadata": {},
     "output_type": "execute_result"
    }
   ],
   "source": [
    "'888'.islower()"
   ]
  },
  {
   "cell_type": "markdown",
   "id": "c209bbd1",
   "metadata": {},
   "source": [
    "## isX 方法\n",
    "\n",
    "- isalpha()返回 True，如果字符串只包含字母，并且非空；\n",
    "- isalnum()返回 True，如果字符串只包含字母和数字，并且非空；\n",
    "- isdecimal()返回 True，如果字符串只包含数字字符，并且非空；\n",
    "- isspace()返回 True，如果字符串只包含空格、制表符和换行，并且非空；\n",
    "- istitle()返回 True，如果字符串仅包含以大写字母开头、后面都是小写字母的单词。"
   ]
  },
  {
   "cell_type": "code",
   "execution_count": 11,
   "id": "c975a460",
   "metadata": {},
   "outputs": [
    {
     "data": {
      "text/plain": [
       "True"
      ]
     },
     "execution_count": 11,
     "metadata": {},
     "output_type": "execute_result"
    }
   ],
   "source": [
    "'Hello World!'.istitle()"
   ]
  },
  {
   "cell_type": "code",
   "execution_count": 12,
   "id": "ab52e41f",
   "metadata": {},
   "outputs": [
    {
     "data": {
      "text/plain": [
       "False"
      ]
     },
     "execution_count": 12,
     "metadata": {},
     "output_type": "execute_result"
    }
   ],
   "source": [
    "'Hello world'.istitle()"
   ]
  },
  {
   "cell_type": "markdown",
   "id": "0a210e6b",
   "metadata": {},
   "source": [
    "## startswitch(), endswith()\n",
    "\n",
    "startswith()和 endswith()方法返回 True，如果它们所调用的字符串以该方法传入的字符串开始或结束。否则，方法返回 False。"
   ]
  },
  {
   "cell_type": "code",
   "execution_count": 13,
   "id": "af104a8c",
   "metadata": {},
   "outputs": [
    {
     "data": {
      "text/plain": [
       "True"
      ]
     },
     "execution_count": 13,
     "metadata": {},
     "output_type": "execute_result"
    }
   ],
   "source": [
    "'Hello world!'.startswith('Hello')"
   ]
  },
  {
   "cell_type": "code",
   "execution_count": 14,
   "id": "5bbe70b8",
   "metadata": {},
   "outputs": [
    {
     "data": {
      "text/plain": [
       "True"
      ]
     },
     "execution_count": 14,
     "metadata": {},
     "output_type": "execute_result"
    }
   ],
   "source": [
    "'Hello world!'.endswith('ld!')"
   ]
  },
  {
   "cell_type": "markdown",
   "id": "470437e0",
   "metadata": {},
   "source": [
    "## join(), split()\n",
    "\n",
    "join()方法在一个字符串上调用，参数是一个字符串列表，返回一个 字符串。返回的字符串由传入的列表中每个字符串连接而成。\n",
    "\n",
    "split()正好相反。"
   ]
  },
  {
   "cell_type": "code",
   "execution_count": 15,
   "id": "1fedb761",
   "metadata": {},
   "outputs": [
    {
     "data": {
      "text/plain": [
       "'cats, rats, bats'"
      ]
     },
     "execution_count": 15,
     "metadata": {},
     "output_type": "execute_result"
    }
   ],
   "source": [
    "', '.join(['cats', 'rats', 'bats'])"
   ]
  },
  {
   "cell_type": "code",
   "execution_count": 16,
   "id": "76bd9753",
   "metadata": {},
   "outputs": [
    {
     "data": {
      "text/plain": [
       "'cats***rats***bats'"
      ]
     },
     "execution_count": 16,
     "metadata": {},
     "output_type": "execute_result"
    }
   ],
   "source": [
    "'***'.join(['cats', 'rats', 'bats'])"
   ]
  },
  {
   "cell_type": "code",
   "execution_count": 17,
   "id": "ff6fb77e",
   "metadata": {},
   "outputs": [
    {
     "data": {
      "text/plain": [
       "['cats', 'rats', 'bats']"
      ]
     },
     "execution_count": 17,
     "metadata": {},
     "output_type": "execute_result"
    }
   ],
   "source": [
    "'cats***rats***bats'.split('***')"
   ]
  },
  {
   "cell_type": "code",
   "execution_count": 18,
   "id": "3feea2f1",
   "metadata": {},
   "outputs": [
    {
     "data": {
      "text/plain": [
       "['cats', 'rats', 'bats']"
      ]
     },
     "execution_count": 18,
     "metadata": {},
     "output_type": "execute_result"
    }
   ],
   "source": [
    "'cats, rats, bats'.split(', ')"
   ]
  },
  {
   "cell_type": "markdown",
   "id": "4c21e574",
   "metadata": {},
   "source": [
    "一个常见的利用 split() 的技巧是，将一段话中的每一行提取成列表中的一项."
   ]
  },
  {
   "cell_type": "code",
   "execution_count": 19,
   "id": "0f3dccc8",
   "metadata": {},
   "outputs": [
    {
     "data": {
      "text/plain": [
       "['Dear Alice,',\n",
       " 'How have you been? I am fine.',\n",
       " 'There is a container in the fridge',\n",
       " 'that is labeled \"Milk Experiment\".',\n",
       " '',\n",
       " 'Please do not drink it.',\n",
       " 'Sincerely,',\n",
       " 'Bob']"
      ]
     },
     "execution_count": 19,
     "metadata": {},
     "output_type": "execute_result"
    }
   ],
   "source": [
    "spam = '''Dear Alice,\n",
    "How have you been? I am fine.\n",
    "There is a container in the fridge\n",
    "that is labeled \"Milk Experiment\".\n",
    "\n",
    "Please do not drink it.\n",
    "Sincerely,\n",
    "Bob'''\n",
    "spam.split('\\n')"
   ]
  },
  {
   "cell_type": "markdown",
   "id": "e0730d1a",
   "metadata": {},
   "source": [
    "## rjust(), ljust(), center() 方法对齐文本"
   ]
  },
  {
   "cell_type": "code",
   "execution_count": 20,
   "id": "4cea62db",
   "metadata": {},
   "outputs": [
    {
     "data": {
      "text/plain": [
       "'     Hello'"
      ]
     },
     "execution_count": 20,
     "metadata": {},
     "output_type": "execute_result"
    }
   ],
   "source": [
    "'Hello'.rjust(10)"
   ]
  },
  {
   "cell_type": "code",
   "execution_count": 21,
   "id": "535d5c16",
   "metadata": {},
   "outputs": [
    {
     "data": {
      "text/plain": [
       "'-----Hello'"
      ]
     },
     "execution_count": 21,
     "metadata": {},
     "output_type": "execute_result"
    }
   ],
   "source": [
    "'Hello'.rjust(10,'-')"
   ]
  },
  {
   "cell_type": "code",
   "execution_count": 22,
   "id": "fed2a322",
   "metadata": {},
   "outputs": [
    {
     "data": {
      "text/plain": [
       "10"
      ]
     },
     "execution_count": 22,
     "metadata": {},
     "output_type": "execute_result"
    }
   ],
   "source": [
    "len('Hello'.rjust(10,'-'))"
   ]
  },
  {
   "cell_type": "code",
   "execution_count": 23,
   "id": "00cb1a58",
   "metadata": {},
   "outputs": [
    {
     "data": {
      "text/plain": [
       "'   Hello   '"
      ]
     },
     "execution_count": 23,
     "metadata": {},
     "output_type": "execute_result"
    }
   ],
   "source": [
    "'Hello'.center(11)"
   ]
  },
  {
   "cell_type": "code",
   "execution_count": 24,
   "id": "6ad017a4",
   "metadata": {},
   "outputs": [
    {
     "data": {
      "text/plain": [
       "11"
      ]
     },
     "execution_count": 24,
     "metadata": {},
     "output_type": "execute_result"
    }
   ],
   "source": [
    "len('Hello'.center(11))"
   ]
  },
  {
   "cell_type": "code",
   "execution_count": 25,
   "id": "15d60b76",
   "metadata": {},
   "outputs": [
    {
     "data": {
      "text/plain": [
       "'---Hello---'"
      ]
     },
     "execution_count": 25,
     "metadata": {},
     "output_type": "execute_result"
    }
   ],
   "source": [
    "'Hello'.center(11,'-')"
   ]
  },
  {
   "cell_type": "markdown",
   "id": "dd8d3a11",
   "metadata": {},
   "source": [
    "## strip(), rstrip(), lstrip() 删除空白字符\n",
    "\n",
    "字符串左边、右边或两边的空白字符（空格、制表符和换行符）"
   ]
  },
  {
   "cell_type": "code",
   "execution_count": 26,
   "id": "625c0d82",
   "metadata": {},
   "outputs": [
    {
     "data": {
      "text/plain": [
       "'Hello World'"
      ]
     },
     "execution_count": 26,
     "metadata": {},
     "output_type": "execute_result"
    }
   ],
   "source": [
    "' Hello World\\n'.strip()"
   ]
  },
  {
   "cell_type": "code",
   "execution_count": 27,
   "id": "6cd1d80e",
   "metadata": {},
   "outputs": [
    {
     "data": {
      "text/plain": [
       "'Hello World\\n'"
      ]
     },
     "execution_count": 27,
     "metadata": {},
     "output_type": "execute_result"
    }
   ],
   "source": [
    "' Hello World\\n'.lstrip()"
   ]
  },
  {
   "cell_type": "code",
   "execution_count": 28,
   "id": "6ba37a64",
   "metadata": {},
   "outputs": [
    {
     "data": {
      "text/plain": [
       "' Hello World'"
      ]
     },
     "execution_count": 28,
     "metadata": {},
     "output_type": "execute_result"
    }
   ],
   "source": [
    "' Hello World\\n'.rstrip()"
   ]
  },
  {
   "cell_type": "markdown",
   "id": "cb7056e9",
   "metadata": {},
   "source": [
    "# 用 pyperclip 模块拷贝粘贴字符串\n",
    "\n",
    "pyperclip 模块有 copy()和 paste()函数，可以向计算机的剪贴板发送文本，或从它接收文本。\n",
    "\n",
    "Anaconda [官网](https://anaconda.org/conda-forge/pyperclip) 上介绍安装该模块的方式：在终端机上输入：\n",
    "\n",
    "```\n",
    "conda install -c conda-forge pyperclip\n",
    "```"
   ]
  },
  {
   "cell_type": "code",
   "execution_count": 29,
   "id": "570a21d9",
   "metadata": {},
   "outputs": [],
   "source": [
    "import pyperclip"
   ]
  },
  {
   "cell_type": "markdown",
   "id": "104f169c",
   "metadata": {},
   "source": [
    "当某个程序改变了剪贴板的内容，paste()函数就会返回它。例如，如果将这句话\n",
    "```\n",
    "For example, if I copied this sentence to the clipboard and then called past(), it would look like this:\n",
    "```\n",
    "复制到剪贴板，然后调用 paste()，则会在 python 中复制出这段话。"
   ]
  },
  {
   "cell_type": "code",
   "execution_count": 30,
   "id": "b1d726d5",
   "metadata": {},
   "outputs": [
    {
     "data": {
      "text/plain": [
       "'* Lists of animals\\n* Lists of aquarium life\\n* Lists of biologists by a abbreviation\\n* Lists of cultivars'"
      ]
     },
     "execution_count": 30,
     "metadata": {},
     "output_type": "execute_result"
    }
   ],
   "source": [
    "pyperclip.paste()"
   ]
  },
  {
   "cell_type": "code",
   "execution_count": 31,
   "id": "f7fe5784",
   "metadata": {},
   "outputs": [],
   "source": [
    "spam = 'test'\n",
    "pyperclip.copy(spam) #运行这条命令后，电脑的剪贴板就有 test 这个单词，粘贴即可看到"
   ]
  },
  {
   "cell_type": "markdown",
   "id": "f1bfb0d0",
   "metadata": {},
   "source": [
    "下面是一个例子：\n",
    "\n",
    "将以下的一段话复制到剪贴板中：\n",
    "```\n",
    "Lists of animals\n",
    "Lists of aquarium life\n",
    "Lists of biologists by a abbreviation\n",
    "Lists of cultivars\n",
    "```\n",
    "运行下面的命令，就能在每一行的开头加‘*’号，并且该结果粘贴到剪贴板上。"
   ]
  },
  {
   "cell_type": "code",
   "execution_count": 32,
   "id": "baaae858",
   "metadata": {},
   "outputs": [],
   "source": [
    "text = pyperclip.paste()\n",
    "line = text.split('\\n')\n",
    "for i in range (len(line)):\n",
    "    line[i] = '* ' + line[i]\n",
    "    \n",
    "pyperclip.copy('\\n'.join(line))"
   ]
  },
  {
   "cell_type": "markdown",
   "id": "16184c03",
   "metadata": {},
   "source": [
    "运行上述命令后，粘贴出来的就是下面的东西：\n",
    "\n",
    "```\n",
    "* Lists of animals\n",
    "* Lists of aquarium life\n",
    "* Lists of biologists by a abbreviation\n",
    "* Lists of cultivars\n",
    "```"
   ]
  },
  {
   "cell_type": "code",
   "execution_count": null,
   "id": "c2d3a890",
   "metadata": {},
   "outputs": [],
   "source": []
  }
 ],
 "metadata": {
  "kernelspec": {
   "display_name": "Python 3 (ipykernel)",
   "language": "python",
   "name": "python3"
  },
  "language_info": {
   "codemirror_mode": {
    "name": "ipython",
    "version": 3
   },
   "file_extension": ".py",
   "mimetype": "text/x-python",
   "name": "python",
   "nbconvert_exporter": "python",
   "pygments_lexer": "ipython3",
   "version": "3.7.6"
  }
 },
 "nbformat": 4,
 "nbformat_minor": 5
}
