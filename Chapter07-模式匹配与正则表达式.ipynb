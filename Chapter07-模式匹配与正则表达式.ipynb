{
 "cells": [
  {
   "cell_type": "markdown",
   "id": "ec4a13cb",
   "metadata": {},
   "source": [
    "Python 中所有正则表达式的函数都在 re 模块中。"
   ]
  },
  {
   "cell_type": "code",
   "execution_count": 1,
   "id": "7ab0b9f9",
   "metadata": {},
   "outputs": [],
   "source": [
    "import re"
   ]
  },
  {
   "cell_type": "markdown",
   "id": "5980dfa6",
   "metadata": {},
   "source": [
    "# 1. 用正则表达式查找文本模式\n",
    "\n",
    "现在的任务是，检查一个字符串是否具有电话号码的形式，比如：415-555-4242，也就是判断字符串是否 \\d\\d\\d-\\d\\d\\d-\\d\\d\\d\\d 的格式，其中 \\d  是一个正则表达式，表示一位数字（0到9）字符。"
   ]
  },
  {
   "cell_type": "code",
   "execution_count": 4,
   "id": "db8e9d8b",
   "metadata": {},
   "outputs": [],
   "source": [
    "phoneNumRegex = re.compile(r'\\d\\d\\d-\\d\\d\\d-\\d\\d\\d\\d')"
   ]
  },
  {
   "cell_type": "markdown",
   "id": "d5eaa3c0",
   "metadata": {},
   "source": [
    "注意：\n",
    "\n",
    "- 向 `re.compile()` 传入一个字符串值，表示正则表达式，它将返回一个 Regex 模式对象.\n",
    "- 回忆第6章，在字符串前面加`r`表示该字符串是原始字符串，里面的`\\`并不是转义字符. 如果不加 `r`，那么将写成 `re.compile('\\\\d\\\\d\\\\d-\\\\d\\\\d\\\\d-\\\\d\\\\d\\\\d\\\\d')`\n",
    "\n",
    "Regex 对象的 `search()` 方法，能够查找传入的字符串中，所有符合该正则表达式的匹配。\n",
    "\n",
    "如果字符串中没有找到该正则表达式模式，`search()` 方法将返回 None。\n",
    "\n",
    "如果找到了该模式， `search()` 方法将返回一个 Match 对象。Match 对象有一个 `group()` 方法，它返回被查找字符串中实际匹配的文本（稍后解释）。"
   ]
  },
  {
   "cell_type": "code",
   "execution_count": 5,
   "id": "c2810bbd",
   "metadata": {},
   "outputs": [
    {
     "name": "stdout",
     "output_type": "stream",
     "text": [
      "Phone number found: 415-555-4242\n"
     ]
    }
   ],
   "source": [
    "mo = phoneNumRegex.search('My number is 415-555-4242.')\n",
    "print('Phone number found: ' + mo.group())"
   ]
  },
  {
   "cell_type": "markdown",
   "id": "7ddbf3f0",
   "metadata": {},
   "source": [
    "**总结使用正则表达式有几个步骤：**\n",
    "\n",
    "1. 用 `import re` 导入正则表达式模块。 \n",
    "2. 用 `re.compile()`函数创建一个 Regex 对象（记得使用原始字符串）。\n",
    "3. 向 Regex 对象的 `search()` 方法传入想查找的字符串。它返回一个 Match 对象。 \n",
    "4. 调用 Match 对象的 `group()`方法，返回实际匹配文本的字符串。"
   ]
  },
  {
   "cell_type": "markdown",
   "id": "bf43ce15",
   "metadata": {},
   "source": [
    "# 利用括号分组\n",
    "\n",
    "1. 添加括号将在正则表达式中创建“分组”： (\\d\\d\\d)-(\\d\\d\\d-\\d\\d\\d\\d)\n",
    "2. 第一对括号是第 1 组。第二对括号是第 2 组。向 group() 匹配对象方法传入整数 1 或 2，就可以取得匹配文本的不同部分。向 group()方法传 入 0 或不传入参数 ，将返回整个匹配的文本。\n",
    "\n",
    "**注意**\n",
    "\n",
    "1. 括号`()`在正则表达式中有特殊的含义，但是如果你需要在文本中匹配括号`()`，那么就需要用倒斜杠对`(`和`)`进行字符转义。\n",
    "2. 如果正则表达式中没有分组，那么命令 `group(1)` 会出错，`groups()` 会返回空的元组。"
   ]
  },
  {
   "cell_type": "code",
   "execution_count": 7,
   "id": "58af3813",
   "metadata": {},
   "outputs": [
    {
     "data": {
      "text/plain": [
       "'415'"
      ]
     },
     "execution_count": 7,
     "metadata": {},
     "output_type": "execute_result"
    }
   ],
   "source": [
    "phoneNumRegex = re.compile(r'(\\d\\d\\d)-(\\d\\d\\d-\\d\\d\\d\\d)')\n",
    "mo = phoneNumRegex.search('My number is 415-555-4242.')\n",
    "mo.group(1)"
   ]
  },
  {
   "cell_type": "code",
   "execution_count": 8,
   "id": "8e9a3875",
   "metadata": {},
   "outputs": [
    {
     "data": {
      "text/plain": [
       "'555-4242'"
      ]
     },
     "execution_count": 8,
     "metadata": {},
     "output_type": "execute_result"
    }
   ],
   "source": [
    "mo.group(2)"
   ]
  },
  {
   "cell_type": "code",
   "execution_count": 9,
   "id": "1230d2a5",
   "metadata": {},
   "outputs": [
    {
     "data": {
      "text/plain": [
       "'415-555-4242'"
      ]
     },
     "execution_count": 9,
     "metadata": {},
     "output_type": "execute_result"
    }
   ],
   "source": [
    "mo.group()"
   ]
  },
  {
   "cell_type": "markdown",
   "id": "e3fbae1b",
   "metadata": {},
   "source": [
    "如果想要一次就获取所有的分组，请使用 groups()方法，返回多个值的元组。"
   ]
  },
  {
   "cell_type": "code",
   "execution_count": 10,
   "id": "225689fd",
   "metadata": {},
   "outputs": [
    {
     "data": {
      "text/plain": [
       "('415', '555-4242')"
      ]
     },
     "execution_count": 10,
     "metadata": {},
     "output_type": "execute_result"
    }
   ],
   "source": [
    "mo.groups()"
   ]
  },
  {
   "cell_type": "markdown",
   "id": "210a6d5f",
   "metadata": {},
   "source": [
    "# 用管道匹配多个分组\n",
    "\n",
    "字符`|`称为管道。例如 `r'Batman|Tina Fey'` 将匹配 `Batman` 或 `Tina Fey`。如果两者都在被查找的字符串中，则返回第一次出现的作为 Match 对象返回。"
   ]
  },
  {
   "cell_type": "code",
   "execution_count": 29,
   "id": "f78eb00f",
   "metadata": {},
   "outputs": [
    {
     "data": {
      "text/plain": [
       "'Batman'"
      ]
     },
     "execution_count": 29,
     "metadata": {},
     "output_type": "execute_result"
    }
   ],
   "source": [
    "heroRegex = re.compile(r'Batman|Tina Fey')\n",
    "mo1 = heroRegex.search('Batman and Tina Fey')\n",
    "mo1.group()"
   ]
  },
  {
   "cell_type": "code",
   "execution_count": 30,
   "id": "353ce2ec",
   "metadata": {},
   "outputs": [
    {
     "ename": "IndexError",
     "evalue": "no such group",
     "output_type": "error",
     "traceback": [
      "\u001b[0;31m---------------------------------------------------------------------------\u001b[0m",
      "\u001b[0;31mIndexError\u001b[0m                                Traceback (most recent call last)",
      "\u001b[0;32m/var/folders/0s/vp6102qx53d1ktkfr7t2_xk00000gn/T/ipykernel_27712/1012058834.py\u001b[0m in \u001b[0;36m<module>\u001b[0;34m\u001b[0m\n\u001b[0;32m----> 1\u001b[0;31m \u001b[0mmo1\u001b[0m\u001b[0;34m.\u001b[0m\u001b[0mgroup\u001b[0m\u001b[0;34m(\u001b[0m\u001b[0;36m1\u001b[0m\u001b[0;34m)\u001b[0m\u001b[0;34m\u001b[0m\u001b[0;34m\u001b[0m\u001b[0m\n\u001b[0m",
      "\u001b[0;31mIndexError\u001b[0m: no such group"
     ]
    }
   ],
   "source": [
    "mo1.group(1)"
   ]
  },
  {
   "cell_type": "code",
   "execution_count": 31,
   "id": "c9fc0d1f",
   "metadata": {},
   "outputs": [
    {
     "data": {
      "text/plain": [
       "()"
      ]
     },
     "execution_count": 31,
     "metadata": {},
     "output_type": "execute_result"
    }
   ],
   "source": [
    "mo1.groups() #因为正则表达式中没有用括号分组，所有返回空的元组。"
   ]
  },
  {
   "cell_type": "code",
   "execution_count": 32,
   "id": "03c8daf8",
   "metadata": {},
   "outputs": [
    {
     "data": {
      "text/plain": [
       "'Batmobile'"
      ]
     },
     "execution_count": 32,
     "metadata": {},
     "output_type": "execute_result"
    }
   ],
   "source": [
    "batRegex = re.compile(r'Bat(man|mobile|copter|bat)')\n",
    "mo = batRegex.search('Batmobile lost a wheel')\n",
    "mo.group()"
   ]
  },
  {
   "cell_type": "code",
   "execution_count": 20,
   "id": "33e30082",
   "metadata": {},
   "outputs": [
    {
     "data": {
      "text/plain": [
       "'mobile'"
      ]
     },
     "execution_count": 20,
     "metadata": {},
     "output_type": "execute_result"
    }
   ],
   "source": [
    "mo.group(1)"
   ]
  },
  {
   "cell_type": "code",
   "execution_count": 21,
   "id": "76081079",
   "metadata": {},
   "outputs": [
    {
     "data": {
      "text/plain": [
       "('mobile',)"
      ]
     },
     "execution_count": 21,
     "metadata": {},
     "output_type": "execute_result"
    }
   ],
   "source": [
    "mo.groups()"
   ]
  },
  {
   "cell_type": "markdown",
   "id": "d0b4b767",
   "metadata": {},
   "source": [
    "# 用问号实现可选匹配"
   ]
  },
  {
   "cell_type": "code",
   "execution_count": 22,
   "id": "adb5519b",
   "metadata": {},
   "outputs": [
    {
     "data": {
      "text/plain": [
       "'Batman'"
      ]
     },
     "execution_count": 22,
     "metadata": {},
     "output_type": "execute_result"
    }
   ],
   "source": [
    "batRegex = re.compile(r'Bat(wo)?man')\n",
    "mo1 = batRegex.search('The Adventures of Batman')\n",
    "mo1.group()"
   ]
  },
  {
   "cell_type": "code",
   "execution_count": 25,
   "id": "43688212",
   "metadata": {},
   "outputs": [
    {
     "data": {
      "text/plain": [
       "(None,)"
      ]
     },
     "execution_count": 25,
     "metadata": {},
     "output_type": "execute_result"
    }
   ],
   "source": [
    "mo1.groups()"
   ]
  },
  {
   "cell_type": "code",
   "execution_count": 26,
   "id": "5c5f3686",
   "metadata": {},
   "outputs": [
    {
     "data": {
      "text/plain": [
       "'Batwoman'"
      ]
     },
     "execution_count": 26,
     "metadata": {},
     "output_type": "execute_result"
    }
   ],
   "source": [
    "mo2 = batRegex.search('The Adventures of Batwoman')\n",
    "mo2.group()"
   ]
  },
  {
   "cell_type": "code",
   "execution_count": 27,
   "id": "52d772f7",
   "metadata": {},
   "outputs": [
    {
     "data": {
      "text/plain": [
       "'wo'"
      ]
     },
     "execution_count": 27,
     "metadata": {},
     "output_type": "execute_result"
    }
   ],
   "source": [
    "mo2.group(1)"
   ]
  },
  {
   "cell_type": "code",
   "execution_count": 28,
   "id": "4d7f89e4",
   "metadata": {},
   "outputs": [
    {
     "data": {
      "text/plain": [
       "('wo',)"
      ]
     },
     "execution_count": 28,
     "metadata": {},
     "output_type": "execute_result"
    }
   ],
   "source": [
    "mo2.groups()"
   ]
  },
  {
   "cell_type": "markdown",
   "id": "fa90cb8a",
   "metadata": {},
   "source": [
    "# 用星号匹配零次或多次"
   ]
  },
  {
   "cell_type": "code",
   "execution_count": 42,
   "id": "8f355855",
   "metadata": {},
   "outputs": [
    {
     "data": {
      "text/plain": [
       "'Batwowowowoman'"
      ]
     },
     "execution_count": 42,
     "metadata": {},
     "output_type": "execute_result"
    }
   ],
   "source": [
    "batRegex = re.compile(r'Bat(wo)*man')\n",
    "mo3 = batRegex.search('The Adventures of Batwowowowoman and Batwoman')\n",
    "mo3.group()"
   ]
  },
  {
   "cell_type": "code",
   "execution_count": 43,
   "id": "6671ce76",
   "metadata": {},
   "outputs": [
    {
     "data": {
      "text/plain": [
       "'wo'"
      ]
     },
     "execution_count": 43,
     "metadata": {},
     "output_type": "execute_result"
    }
   ],
   "source": [
    "mo3.group(1)"
   ]
  },
  {
   "cell_type": "code",
   "execution_count": 41,
   "id": "369313e7",
   "metadata": {},
   "outputs": [
    {
     "data": {
      "text/plain": [
       "('wo',)"
      ]
     },
     "execution_count": 41,
     "metadata": {},
     "output_type": "execute_result"
    }
   ],
   "source": [
    "mo3.groups()"
   ]
  },
  {
   "cell_type": "markdown",
   "id": "83ebe0f2",
   "metadata": {},
   "source": [
    "# 用加号匹配一次或多次"
   ]
  },
  {
   "cell_type": "code",
   "execution_count": 45,
   "id": "5011ed46",
   "metadata": {},
   "outputs": [
    {
     "data": {
      "text/plain": [
       "'Batwowowoman'"
      ]
     },
     "execution_count": 45,
     "metadata": {},
     "output_type": "execute_result"
    }
   ],
   "source": [
    "batRegex = re.compile(r'Bat(wo)+man')\n",
    "mo1 = batRegex.search('The adventures of Batman and Batwowowoman')\n",
    "mo1.group()"
   ]
  },
  {
   "cell_type": "code",
   "execution_count": 49,
   "id": "0cf9b7d2",
   "metadata": {},
   "outputs": [
    {
     "data": {
      "text/plain": [
       "True"
      ]
     },
     "execution_count": 49,
     "metadata": {},
     "output_type": "execute_result"
    }
   ],
   "source": [
    "mo2 = batRegex.search('The adventures of Batman')\n",
    "mo2 == None"
   ]
  },
  {
   "cell_type": "markdown",
   "id": "2f70f997",
   "metadata": {},
   "source": [
    "# 用花括号匹配特定次数\n",
    "\n",
    "例如 \n",
    "- `(Ha){3}` 将匹配字符串 `HaHaHa`，但不匹配 `HaHa`.\n",
    "- `(Ha){3,5}` 将匹配字符串`HaHaHa`、`HaHaHaHa` 和`HaHaHaHaHa`.\n",
    "- `(Ha){3,}` 将匹配字符串`Ha`至少连续出现3次或以上.\n",
    "- `(Ha){,5}` 将匹配字符串`Ha`至少连续出现0次到5次."
   ]
  },
  {
   "cell_type": "code",
   "execution_count": 55,
   "id": "8fc4c2bb",
   "metadata": {},
   "outputs": [
    {
     "data": {
      "text/plain": [
       "'HaHaHa'"
      ]
     },
     "execution_count": 55,
     "metadata": {},
     "output_type": "execute_result"
    }
   ],
   "source": [
    "haRegex = re.compile(r'(Ha){3,5}')\n",
    "mo1 = haRegex.search('HaHa and HaHaHa and HaHaHaHa and HaHaHaHaHa and HaHaHaHaHaHa')\n",
    "mo1.group()"
   ]
  },
  {
   "cell_type": "code",
   "execution_count": 56,
   "id": "d4f4a473",
   "metadata": {},
   "outputs": [
    {
     "data": {
      "text/plain": [
       "('Ha',)"
      ]
     },
     "execution_count": 56,
     "metadata": {},
     "output_type": "execute_result"
    }
   ],
   "source": [
    "mo1.groups()"
   ]
  },
  {
   "cell_type": "code",
   "execution_count": 57,
   "id": "bd0fa243",
   "metadata": {},
   "outputs": [
    {
     "data": {
      "text/plain": [
       "'Ha'"
      ]
     },
     "execution_count": 57,
     "metadata": {},
     "output_type": "execute_result"
    }
   ],
   "source": [
    "mo1.group(1) #注意运行 mo1.group(2)则出错"
   ]
  },
  {
   "cell_type": "markdown",
   "id": "f09d0fba",
   "metadata": {},
   "source": [
    "# 贪心和非贪心匹配"
   ]
  },
  {
   "cell_type": "code",
   "execution_count": 58,
   "id": "dd62a0cb",
   "metadata": {},
   "outputs": [
    {
     "data": {
      "text/plain": [
       "'HaHaHaHaHa'"
      ]
     },
     "execution_count": 58,
     "metadata": {},
     "output_type": "execute_result"
    }
   ],
   "source": [
    "haRegex = re.compile(r'(Ha){3,5}')\n",
    "mo1 = haRegex.search('HaHaHaHaHaHaHaHaHaHaHa')\n",
    "mo1.group()"
   ]
  },
  {
   "cell_type": "code",
   "execution_count": 60,
   "id": "0008c986",
   "metadata": {},
   "outputs": [
    {
     "data": {
      "text/plain": [
       "'HaHaHa'"
      ]
     },
     "execution_count": 60,
     "metadata": {},
     "output_type": "execute_result"
    }
   ],
   "source": [
    "haRegex = re.compile(r'(Ha){3,5}?') # 加了 ? 表示用非贪心匹配，不加默认用贪心匹配。\n",
    "mo1 = haRegex.search('HaHaHaHaHaHaHaHaHaHaHa')\n",
    "mo1.group()"
   ]
  },
  {
   "cell_type": "markdown",
   "id": "1e8a93ac",
   "metadata": {},
   "source": [
    "# findall() 方法\n",
    "\n",
    "\n",
    "除了 search 方法外，Regex 对象也有一个 findall()方法\n",
    "\n",
    "- search()将返回一个 Match 对象，包含被查找字符串中的“第一次”匹配的文本，后面出现的匹配不再查找。\n",
    "- findall()方法将返回由字符串组成的列表，包含被查找字符串中的所有匹配。\n",
    "\n",
    "**注意**\n",
    "\n",
    "- 当正则表达式中无分组时，findall() 返回一个字符串的列表\n",
    "- 当正则表达式中有分组时，findall() 返回一个字符串元组的列表。"
   ]
  },
  {
   "cell_type": "code",
   "execution_count": 61,
   "id": "50694ec2",
   "metadata": {},
   "outputs": [
    {
     "data": {
      "text/plain": [
       "'415-555-9999'"
      ]
     },
     "execution_count": 61,
     "metadata": {},
     "output_type": "execute_result"
    }
   ],
   "source": [
    "phoneNumRegex = re.compile(r'\\d\\d\\d-\\d\\d\\d-\\d\\d\\d\\d')\n",
    "mo = phoneNumRegex.search('Cell: 415-555-9999, work: 212-555-0000')\n",
    "mo.group()"
   ]
  },
  {
   "cell_type": "code",
   "execution_count": 62,
   "id": "b27eea71",
   "metadata": {},
   "outputs": [
    {
     "data": {
      "text/plain": [
       "['415-555-9999', '212-555-0000']"
      ]
     },
     "execution_count": 62,
     "metadata": {},
     "output_type": "execute_result"
    }
   ],
   "source": [
    "phoneNumRegex.findall('Cell: 415-555-9999, work: 212-555-0000')"
   ]
  },
  {
   "cell_type": "code",
   "execution_count": 63,
   "id": "f587be0c",
   "metadata": {},
   "outputs": [
    {
     "data": {
      "text/plain": [
       "[('415', '555', '9999'), ('212', '555', '0000')]"
      ]
     },
     "execution_count": 63,
     "metadata": {},
     "output_type": "execute_result"
    }
   ],
   "source": [
    "phoneNumRegex = re.compile(r'(\\d\\d\\d)-(\\d\\d\\d)-(\\d\\d\\d\\d)')\n",
    "phoneNumRegex.findall('Cell: 415-555-9999, work: 212-555-0000')"
   ]
  },
  {
   "cell_type": "code",
   "execution_count": null,
   "id": "7a500829",
   "metadata": {},
   "outputs": [],
   "source": []
  }
 ],
 "metadata": {
  "kernelspec": {
   "display_name": "Python 3 (ipykernel)",
   "language": "python",
   "name": "python3"
  },
  "language_info": {
   "codemirror_mode": {
    "name": "ipython",
    "version": 3
   },
   "file_extension": ".py",
   "mimetype": "text/x-python",
   "name": "python",
   "nbconvert_exporter": "python",
   "pygments_lexer": "ipython3",
   "version": "3.7.6"
  }
 },
 "nbformat": 4,
 "nbformat_minor": 5
}
