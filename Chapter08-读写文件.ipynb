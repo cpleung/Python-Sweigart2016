{
 "cells": [
  {
   "cell_type": "markdown",
   "id": "ba0fab2b",
   "metadata": {},
   "source": [
    "# 斜杆\n",
    "\n",
    "在 Windows 上，路径书写使用倒斜杠 `\\` 作为文件夹之间的分隔符，但在 OS X 和 Linux 上，使用正斜杠 `/` 作为它们的路径分隔符。\n",
    "\n",
    "使用 os.path.join() 函数可以自动根据所在系统生成合适的文件路径。"
   ]
  },
  {
   "cell_type": "code",
   "execution_count": 1,
   "id": "3e1d40b5",
   "metadata": {},
   "outputs": [
    {
     "data": {
      "text/plain": [
       "'usr/bin/spam'"
      ]
     },
     "execution_count": 1,
     "metadata": {},
     "output_type": "execute_result"
    }
   ],
   "source": [
    "import os\n",
    "os.path.join('usr','bin','spam')"
   ]
  },
  {
   "cell_type": "code",
   "execution_count": 2,
   "id": "63c170c8",
   "metadata": {},
   "outputs": [
    {
     "name": "stdout",
     "output_type": "stream",
     "text": [
      "usr/bin/spam/accounts.txt\n",
      "usr/bin/spam/details.csv\n",
      "usr/bin/spam/invite.docx\n"
     ]
    }
   ],
   "source": [
    "myFiles = ['accounts.txt', 'details.csv', 'invite.docx']\n",
    "for filename in myFiles:\n",
    "    print(os.path.join('usr','bin','spam',filename))"
   ]
  },
  {
   "cell_type": "markdown",
   "id": "1fb92e41",
   "metadata": {},
   "source": [
    "os.path.sep 返回当前系统中正确的文件夹分割斜杠"
   ]
  },
  {
   "cell_type": "code",
   "execution_count": 31,
   "id": "5ae57dc7",
   "metadata": {},
   "outputs": [
    {
     "data": {
      "text/plain": [
       "'/'"
      ]
     },
     "execution_count": 31,
     "metadata": {},
     "output_type": "execute_result"
    }
   ],
   "source": [
    "os.path.sep"
   ]
  },
  {
   "cell_type": "markdown",
   "id": "91b46331",
   "metadata": {},
   "source": [
    "# 当前工作目录\n",
    "\n",
    "* 利用 os.getcwd()函数， 可以取得当前工作路径的字符串。\n",
    "* 利用 os.chdir()函数， 可以取改变前工作路径的字符串。但如果目标的工作目录不存在，则会显示错误。"
   ]
  },
  {
   "cell_type": "code",
   "execution_count": 8,
   "id": "74303273",
   "metadata": {},
   "outputs": [
    {
     "data": {
      "text/plain": [
       "'/Users/liangzhuobin/Github/Python-Sweigart2016'"
      ]
     },
     "execution_count": 8,
     "metadata": {},
     "output_type": "execute_result"
    }
   ],
   "source": [
    "spam = os.getcwd()\n",
    "spam"
   ]
  },
  {
   "cell_type": "code",
   "execution_count": 9,
   "id": "2070075f",
   "metadata": {},
   "outputs": [
    {
     "data": {
      "text/plain": [
       "'/Users/liangzhuobin/Github'"
      ]
     },
     "execution_count": 9,
     "metadata": {},
     "output_type": "execute_result"
    }
   ],
   "source": [
    "os.chdir('/Users/liangzhuobin/Github')\n",
    "os.getcwd()"
   ]
  },
  {
   "cell_type": "code",
   "execution_count": 11,
   "id": "c78746bf",
   "metadata": {},
   "outputs": [
    {
     "data": {
      "text/plain": [
       "True"
      ]
     },
     "execution_count": 11,
     "metadata": {},
     "output_type": "execute_result"
    }
   ],
   "source": [
    "os.chdir(spam)\n",
    "os.getcwd() == spam"
   ]
  },
  {
   "cell_type": "markdown",
   "id": "12707c5d",
   "metadata": {},
   "source": [
    "# 绝对路径和相对路径\n",
    "\n",
    "单个的句点 `.` 用作文件夹目名称时，是“这个目录”的缩写，两个句点 `..` 意思是父文件夹。"
   ]
  },
  {
   "cell_type": "markdown",
   "id": "adaaa293",
   "metadata": {},
   "source": [
    "# 用 os.makedirs() 创建文件夹\n",
    "\n",
    "当中间文件不存在时， os.makedirs() 将创建中间文件夹，确保完整路径名存在。"
   ]
  },
  {
   "cell_type": "code",
   "execution_count": 12,
   "id": "e2bb97a7",
   "metadata": {},
   "outputs": [],
   "source": [
    "os.makedirs('./test/chapter08')"
   ]
  },
  {
   "cell_type": "markdown",
   "id": "b981003f",
   "metadata": {},
   "source": [
    "# os.path 模块\n",
    "\n",
    "os.path 是 os 模块中的模块，包含了许多与文件名和文件路径相关的有用函数。例如，前面的 os.path.join() 就是这个模块中的函数。\n",
    "\n",
    "## 处理绝对路径和相对路径\n",
    "\n",
    "* os.path.abspath(path)将返回参数的绝对路径的字符串。这是将相对路径转换为绝对路径的简便方法。\n",
    "\n",
    "* os.path.isabs(path)，如果参数是一个绝对路径，就返回 True，如果参数是一个相对路径，就返回 False。\n",
    "\n",
    "* os.path.relpath(path, start)将返回从 start 路径到 path 的相对路径的字符串。 如果没有提供 start，就使用当前工作目录作为开始路径。"
   ]
  },
  {
   "cell_type": "code",
   "execution_count": 24,
   "id": "17b093b2",
   "metadata": {},
   "outputs": [
    {
     "data": {
      "text/plain": [
       "'/Users/liangzhuobin/Github/Python-Sweigart2016'"
      ]
     },
     "execution_count": 24,
     "metadata": {},
     "output_type": "execute_result"
    }
   ],
   "source": [
    "os.getcwd()"
   ]
  },
  {
   "cell_type": "code",
   "execution_count": 23,
   "id": "c814d94d",
   "metadata": {},
   "outputs": [
    {
     "data": {
      "text/plain": [
       "'/Users/liangzhuobin/ham'"
      ]
     },
     "execution_count": 23,
     "metadata": {},
     "output_type": "execute_result"
    }
   ],
   "source": [
    "os.path.abspath('../../ham')"
   ]
  },
  {
   "cell_type": "code",
   "execution_count": 21,
   "id": "94ecd61e",
   "metadata": {},
   "outputs": [
    {
     "data": {
      "text/plain": [
       "'../../eggs'"
      ]
     },
     "execution_count": 21,
     "metadata": {},
     "output_type": "execute_result"
    }
   ],
   "source": [
    "os.path.relpath('/Users/spam/eggs', '/Users/spam/ham/abc')"
   ]
  },
  {
   "cell_type": "markdown",
   "id": "a9579c51",
   "metadata": {},
   "source": [
    "* os.path.dirname(path)将返回一个字符串，它包含 path 参数中最后一个斜杠之前的所有内容。\n",
    "* os.path.basename(path)将返回一个字符串，它包含 path 参数中最后一个斜杠之后的所有内容。\n",
    "* os.path.split()，获得上述两个字符串组成的元组。"
   ]
  },
  {
   "cell_type": "code",
   "execution_count": 32,
   "id": "3758835d",
   "metadata": {},
   "outputs": [
    {
     "data": {
      "text/plain": [
       "'/User/spam/eggs'"
      ]
     },
     "execution_count": 32,
     "metadata": {},
     "output_type": "execute_result"
    }
   ],
   "source": [
    "testPath = '/User/spam/eggs/test.txt'\n",
    "os.path.dirname(testPath)"
   ]
  },
  {
   "cell_type": "code",
   "execution_count": 33,
   "id": "9e2dc4dd",
   "metadata": {},
   "outputs": [
    {
     "data": {
      "text/plain": [
       "'test.txt'"
      ]
     },
     "execution_count": 33,
     "metadata": {},
     "output_type": "execute_result"
    }
   ],
   "source": [
    "os.path.basename(testPath)"
   ]
  },
  {
   "cell_type": "code",
   "execution_count": 34,
   "id": "f0218e35",
   "metadata": {},
   "outputs": [
    {
     "data": {
      "text/plain": [
       "('/User/spam/eggs', 'test.txt')"
      ]
     },
     "execution_count": 34,
     "metadata": {},
     "output_type": "execute_result"
    }
   ],
   "source": [
    "os.path.split(testPath)"
   ]
  },
  {
   "cell_type": "markdown",
   "id": "b16008e7",
   "metadata": {},
   "source": [
    "在一个文件路径中的各个文件夹的字符串提取成一个列表：使用 split()字符串方法，并根据 os.path.sep 中的字符串进行分割。在 OS X 和 Linux 系统上，返回的列表头上有一个空字符串。"
   ]
  },
  {
   "cell_type": "code",
   "execution_count": 35,
   "id": "4f6006d6",
   "metadata": {},
   "outputs": [
    {
     "data": {
      "text/plain": [
       "['', 'User', 'spam', 'eggs', 'test.txt']"
      ]
     },
     "execution_count": 35,
     "metadata": {},
     "output_type": "execute_result"
    }
   ],
   "source": [
    "testPath.split(os.path.sep)"
   ]
  },
  {
   "cell_type": "markdown",
   "id": "1de50e04",
   "metadata": {},
   "source": [
    "## 查看文件大小和文件夹内容\n",
    "\n",
    "* os.path.getsize(path)将返回 path 参数中文件的字节数。\n",
    "* os.listdir(path)将返回文件名字符串的列表，包含 path 参数中的每个文件。"
   ]
  },
  {
   "cell_type": "code",
   "execution_count": 36,
   "id": "609ebcc5",
   "metadata": {},
   "outputs": [
    {
     "data": {
      "text/plain": [
       "416"
      ]
     },
     "execution_count": 36,
     "metadata": {},
     "output_type": "execute_result"
    }
   ],
   "source": [
    "os.path.getsize(os.getcwd())"
   ]
  },
  {
   "cell_type": "code",
   "execution_count": 37,
   "id": "3213c965",
   "metadata": {},
   "outputs": [
    {
     "data": {
      "text/plain": [
       "['Chapter04-列表.ipynb',\n",
       " 'Chapter07-模式匹配与正则表达式.ipynb',\n",
       " 'test',\n",
       " 'Chapter01-Python基础.ipynb',\n",
       " 'Chapter03-函数.ipynb',\n",
       " 'Chapter02-控制流.ipynb',\n",
       " '.ipynb_checkpoints',\n",
       " 'Chapter06-字符串操作.ipynb',\n",
       " '.git',\n",
       " 'Chapter05-字典和结构化数据.ipynb',\n",
       " 'Chapter08-读写文件.ipynb']"
      ]
     },
     "execution_count": 37,
     "metadata": {},
     "output_type": "execute_result"
    }
   ],
   "source": [
    "os.listdir(os.getcwd())"
   ]
  },
  {
   "cell_type": "code",
   "execution_count": 42,
   "id": "8d4f7b21",
   "metadata": {},
   "outputs": [
    {
     "name": "stdout",
     "output_type": "stream",
     "text": [
      "122865\n"
     ]
    }
   ],
   "source": [
    "# 计算当前文件夹中所有文件的总大小。\n",
    "\n",
    "totalSize = 0\n",
    "for filename in os.listdir(os.getcwd()):\n",
    "    totalSize += os.path.getsize(os.path.join(os.getcwd(), filename))\n",
    "    \n",
    "print(totalSize)"
   ]
  },
  {
   "cell_type": "markdown",
   "id": "b5525ebc",
   "metadata": {},
   "source": [
    "# 检查路径有效性\n",
    "\n",
    "* os.path.exists(path)：如果 path 参数所指的文件或文件夹存在，返回 True， 否则返回 False。\n",
    "* os.path.isfile(path)：如果 path 参数存在，并且是一个文件，返回 True，否则返回 False。\n",
    "* os.path.isdir(path)：如果 path 参数存在，并且是一个文件夹，返回 True， 否则返回 False。"
   ]
  },
  {
   "cell_type": "code",
   "execution_count": 44,
   "id": "9ec0bc82",
   "metadata": {},
   "outputs": [
    {
     "data": {
      "text/plain": [
       "True"
      ]
     },
     "execution_count": 44,
     "metadata": {},
     "output_type": "execute_result"
    }
   ],
   "source": [
    "os.path.exists(os.path.join(os.getcwd(),'test'))"
   ]
  },
  {
   "cell_type": "code",
   "execution_count": 45,
   "id": "d67fdd50",
   "metadata": {},
   "outputs": [
    {
     "data": {
      "text/plain": [
       "False"
      ]
     },
     "execution_count": 45,
     "metadata": {},
     "output_type": "execute_result"
    }
   ],
   "source": [
    "os.path.isfile(os.path.join(os.getcwd(),'test'))"
   ]
  },
  {
   "cell_type": "code",
   "execution_count": 46,
   "id": "52dc735e",
   "metadata": {},
   "outputs": [
    {
     "data": {
      "text/plain": [
       "True"
      ]
     },
     "execution_count": 46,
     "metadata": {},
     "output_type": "execute_result"
    }
   ],
   "source": [
    "os.path.isdir(os.path.join(os.getcwd(),'test'))"
   ]
  },
  {
   "cell_type": "code",
   "execution_count": 47,
   "id": "9f35c326",
   "metadata": {},
   "outputs": [
    {
     "data": {
      "text/plain": [
       "True"
      ]
     },
     "execution_count": 47,
     "metadata": {},
     "output_type": "execute_result"
    }
   ],
   "source": [
    "os.path.isfile(os.path.join(os.getcwd(),'Chapter01-Python基础.ipynb'))"
   ]
  },
  {
   "cell_type": "markdown",
   "id": "21e62fdc",
   "metadata": {},
   "source": [
    "## 文件读写过程\n",
    "\n",
    "先介绍**纯文本文件**的读写过程，有3个步骤：\n",
    "1. 调用 open()函数，返回一个 File 对象。 \n",
    "2. 调用 File 对象的 read()或 write()方法。\n",
    "3. 调用 File 对象的 close()方法，关闭该文件。"
   ]
  },
  {
   "cell_type": "code",
   "execution_count": 49,
   "id": "0ccf808a",
   "metadata": {},
   "outputs": [
    {
     "data": {
      "text/plain": [
       "'/Users/liangzhuobin/Github/Python-Sweigart2016/test/chapter08'"
      ]
     },
     "execution_count": 49,
     "metadata": {},
     "output_type": "execute_result"
    }
   ],
   "source": [
    "testDir = os.path.join(os.getcwd(),'test','chapter08')\n",
    "testDir"
   ]
  },
  {
   "cell_type": "code",
   "execution_count": 50,
   "id": "a3ebcab7",
   "metadata": {},
   "outputs": [],
   "source": [
    "helloFile = open(os.path.join(testDir,'hello.txt'))"
   ]
  },
  {
   "cell_type": "code",
   "execution_count": 51,
   "id": "a7123bf1",
   "metadata": {},
   "outputs": [
    {
     "data": {
      "text/plain": [
       "'Hello World!'"
      ]
     },
     "execution_count": 51,
     "metadata": {},
     "output_type": "execute_result"
    }
   ],
   "source": [
    "helloContent = helloFile.read()\n",
    "helloContent"
   ]
  },
  {
   "cell_type": "markdown",
   "id": "66ac3932",
   "metadata": {},
   "source": [
    "readlines()方法，从该文件取得一个字符串的列表。列表中的每个字符串就是文本中的每一行。"
   ]
  },
  {
   "cell_type": "code",
   "execution_count": 52,
   "id": "bbbdb8c5",
   "metadata": {},
   "outputs": [
    {
     "data": {
      "text/plain": [
       "[\"When, in disgrace with fortune and men's eyes,\\n\",\n",
       " 'I all alone beweep my outcast state,\\n',\n",
       " 'And trouble deaf heaven with my bootless cries,\\n',\n",
       " 'And look upon myself and curse my fate,']"
      ]
     },
     "execution_count": 52,
     "metadata": {},
     "output_type": "execute_result"
    }
   ],
   "source": [
    "sonnetFile = open(os.path.join(testDir,'sonnet29.txt'))\n",
    "sonnetFile.readlines()"
   ]
  },
  {
   "cell_type": "markdown",
   "id": "c4a4040c",
   "metadata": {},
   "source": [
    "# 写入文件\n",
    "\n",
    "* 将'w'作为第二个参数传递给 open()，以写模式打开该文件。写模式将覆写原有的文件。\n",
    "* 将'a'作为第二个参数传递给 open()，以添加模式打开该文件。添加模式将在已有文件的末尾添加文本。\n",
    "\n",
    "如果传递给 open()的文件名不存在，写模式和添加模式都会创建一个新的空文件。在读取或写入文件后，调用 close()方法，然后才能再次打开该文件。"
   ]
  },
  {
   "cell_type": "code",
   "execution_count": 54,
   "id": "2573c709",
   "metadata": {},
   "outputs": [
    {
     "data": {
      "text/plain": [
       "13"
      ]
     },
     "execution_count": 54,
     "metadata": {},
     "output_type": "execute_result"
    }
   ],
   "source": [
    "baconFile = open(os.path.join(testDir,'bacon.txt'), 'w')\n",
    "baconFile.write('Hello world!\\n')"
   ]
  },
  {
   "cell_type": "code",
   "execution_count": 55,
   "id": "6dae337f",
   "metadata": {},
   "outputs": [
    {
     "data": {
      "text/plain": [
       "25"
      ]
     },
     "execution_count": 55,
     "metadata": {},
     "output_type": "execute_result"
    }
   ],
   "source": [
    "baconFile.close()\n",
    "baconFile = open(os.path.join(testDir,'bacon.txt'), 'a')\n",
    "baconFile.write('Bacon is not a vegetable.')"
   ]
  },
  {
   "cell_type": "code",
   "execution_count": 57,
   "id": "8fef1acc",
   "metadata": {},
   "outputs": [
    {
     "name": "stdout",
     "output_type": "stream",
     "text": [
      "Hello world!\n",
      "Bacon is not a vegetable.\n"
     ]
    }
   ],
   "source": [
    "baconFile.close()\n",
    "baconFile = open(os.path.join(testDir,'bacon.txt'))\n",
    "content = baconFile.read()\n",
    "baconFile.close()\n",
    "print(content)"
   ]
  },
  {
   "cell_type": "markdown",
   "id": "0cb68f28",
   "metadata": {},
   "source": [
    "# 用 shelve 模块保存变量\n",
    "\n",
    "利用 shelve 模块，你可以将 Python 程序中的变量保存到二进制的 shelf 文件中。 例如，如果运行一个程序，并输入了一些配置设置，就可以将这 些设置保存到一个 shelf 文件，然后让程序下一次运行时加载它们。"
   ]
  },
  {
   "cell_type": "code",
   "execution_count": 58,
   "id": "aa77ed54",
   "metadata": {},
   "outputs": [],
   "source": [
    "import shelve"
   ]
  },
  {
   "cell_type": "code",
   "execution_count": 59,
   "id": "3acad110",
   "metadata": {},
   "outputs": [],
   "source": [
    "shelfFile = shelve.open(os.path.join(testDir, 'mydata')) # 文件 'mydata' 不存在，则自动新建\n",
    "cats = ['Zophie', 'Pooka', 'Simon']\n",
    "shelfFile['cats'] = cats                                 # 将列表保存在 shelfFile 中， 作为键'cats'关联的值（就像在字典中一样）\n",
    "shelfFile.close()"
   ]
  },
  {
   "cell_type": "markdown",
   "id": "537d7a3a",
   "metadata": {},
   "source": [
    "testDir 路径下新建了一个二进制 mydata.db 文件（如果是 Window 系统，则是 mydata.bak、mydata.dat 和 mydata.dir 三个文件）。\n",
    "\n",
    "你的程序稍后可以使用 shelve 模块，重新打开这些文件并取出数据。shelf 值不必用读模式或写模式打开，因为它们在打开后，既能读又能写。"
   ]
  },
  {
   "cell_type": "code",
   "execution_count": 63,
   "id": "1a1ba4da",
   "metadata": {},
   "outputs": [
    {
     "data": {
      "text/plain": [
       "shelve.DbfilenameShelf"
      ]
     },
     "execution_count": 63,
     "metadata": {},
     "output_type": "execute_result"
    }
   ],
   "source": [
    "shelfFile = shelve.open(os.path.join(testDir, 'mydata'))\n",
    "type(shelfFile)"
   ]
  },
  {
   "cell_type": "code",
   "execution_count": 64,
   "id": "422f98c3",
   "metadata": {},
   "outputs": [
    {
     "data": {
      "text/plain": [
       "['Zophie', 'Pooka', 'Simon']"
      ]
     },
     "execution_count": 64,
     "metadata": {},
     "output_type": "execute_result"
    }
   ],
   "source": [
    "shelfFile['cats']"
   ]
  },
  {
   "cell_type": "markdown",
   "id": "a1ca73ea",
   "metadata": {},
   "source": [
    "就像字典一样，shelf 值有 keys()和 values()方法，返回 shelf 中键和值的类似列表的值。因为不是真正的列表，所以应该将它们传递给 list()函数，才能得列表的形式。"
   ]
  },
  {
   "cell_type": "code",
   "execution_count": 65,
   "id": "e30f4fea",
   "metadata": {},
   "outputs": [
    {
     "data": {
      "text/plain": [
       "['cats']"
      ]
     },
     "execution_count": 65,
     "metadata": {},
     "output_type": "execute_result"
    }
   ],
   "source": [
    "list(shelfFile.keys())"
   ]
  },
  {
   "cell_type": "code",
   "execution_count": 66,
   "id": "8d2c4302",
   "metadata": {},
   "outputs": [
    {
     "data": {
      "text/plain": [
       "[['Zophie', 'Pooka', 'Simon']]"
      ]
     },
     "execution_count": 66,
     "metadata": {},
     "output_type": "execute_result"
    }
   ],
   "source": [
    "list(shelfFile.values())"
   ]
  },
  {
   "cell_type": "code",
   "execution_count": 67,
   "id": "843f4abb",
   "metadata": {},
   "outputs": [],
   "source": [
    "shelfFile.close()"
   ]
  },
  {
   "cell_type": "markdown",
   "id": "08e7642a",
   "metadata": {},
   "source": [
    "# 用 pprint.pformat() 函数保存变量\n",
    "\n",
    "pprint.pformat()函数将返回文本字符串，但不打印它。 这个字符串不仅是易于阅读的格式，同时也是语法上正确的 Python 代码。可以将它写入.py 文件。该文件将成为你自己的模块，如果你需要使用存储在其中的变量，就可以导入它。"
   ]
  },
  {
   "cell_type": "code",
   "execution_count": 72,
   "id": "9f9c5bfd",
   "metadata": {},
   "outputs": [
    {
     "data": {
      "text/plain": [
       "\"[{'desc': 'chubby', 'name': 'Zophie'}, {'desc': 'fluffy', 'name': 'Pooka'}]\""
      ]
     },
     "execution_count": 72,
     "metadata": {},
     "output_type": "execute_result"
    }
   ],
   "source": [
    "import pprint\n",
    "cats =[{'name':'Zophie', 'desc':'chubby'}, {'name':'Pooka', 'desc':'fluffy'}]\n",
    "pprint.pformat(cats)"
   ]
  },
  {
   "cell_type": "code",
   "execution_count": 81,
   "id": "c03c1693",
   "metadata": {},
   "outputs": [
    {
     "data": {
      "text/plain": [
       "83"
      ]
     },
     "execution_count": 81,
     "metadata": {},
     "output_type": "execute_result"
    }
   ],
   "source": [
    "fileObj = open('myCats.py', 'w')\n",
    "fileObj.write('cats = ' + pprint.pformat(cats) + '\\n')"
   ]
  },
  {
   "cell_type": "code",
   "execution_count": 82,
   "id": "06744039",
   "metadata": {},
   "outputs": [],
   "source": [
    "fileObj.close()"
   ]
  },
  {
   "cell_type": "markdown",
   "id": "a505f429",
   "metadata": {},
   "source": [
    "import 语句导入的模块本身就是 Python 脚本。如果来自 pprint.pformat() 的字符串保存为一个.py 文件，该文件就是一个可以导入的模块，像其他模块一样。\n",
    "\n",
    "由于 Python 脚本本身也是带有.py 文件扩展名的文本文件，所以你的 Python 程序甚至可以生成其他 Python 程序。然后可以将这些文件导入到脚本中。"
   ]
  },
  {
   "cell_type": "code",
   "execution_count": 86,
   "id": "00e05948",
   "metadata": {},
   "outputs": [],
   "source": [
    "import myCats     # 保证 myCats.py 在 os.getcwd() 路径下，否则出差。"
   ]
  },
  {
   "cell_type": "code",
   "execution_count": 87,
   "id": "d4f0efca",
   "metadata": {},
   "outputs": [
    {
     "data": {
      "text/plain": [
       "[{'desc': 'chubby', 'name': 'Zophie'}, {'desc': 'fluffy', 'name': 'Pooka'}]"
      ]
     },
     "execution_count": 87,
     "metadata": {},
     "output_type": "execute_result"
    }
   ],
   "source": [
    "myCats.cats"
   ]
  },
  {
   "cell_type": "code",
   "execution_count": 88,
   "id": "b9f0dda1",
   "metadata": {},
   "outputs": [
    {
     "data": {
      "text/plain": [
       "{'desc': 'chubby', 'name': 'Zophie'}"
      ]
     },
     "execution_count": 88,
     "metadata": {},
     "output_type": "execute_result"
    }
   ],
   "source": [
    "myCats.cats[0]"
   ]
  },
  {
   "cell_type": "code",
   "execution_count": 89,
   "id": "c2e58012",
   "metadata": {},
   "outputs": [
    {
     "data": {
      "text/plain": [
       "'Zophie'"
      ]
     },
     "execution_count": 89,
     "metadata": {},
     "output_type": "execute_result"
    }
   ],
   "source": [
    "myCats.cats[0]['name']"
   ]
  },
  {
   "cell_type": "code",
   "execution_count": null,
   "id": "3ba2948c",
   "metadata": {},
   "outputs": [],
   "source": []
  }
 ],
 "metadata": {
  "kernelspec": {
   "display_name": "Python 3 (ipykernel)",
   "language": "python",
   "name": "python3"
  },
  "language_info": {
   "codemirror_mode": {
    "name": "ipython",
    "version": 3
   },
   "file_extension": ".py",
   "mimetype": "text/x-python",
   "name": "python",
   "nbconvert_exporter": "python",
   "pygments_lexer": "ipython3",
   "version": "3.7.6"
  }
 },
 "nbformat": 4,
 "nbformat_minor": 5
}
