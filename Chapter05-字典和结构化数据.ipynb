{
 "cells": [
  {
   "cell_type": "code",
   "execution_count": 1,
   "id": "da5bfcae",
   "metadata": {},
   "outputs": [
    {
     "data": {
      "text/plain": [
       "'fat'"
      ]
     },
     "execution_count": 1,
     "metadata": {},
     "output_type": "execute_result"
    }
   ],
   "source": [
    "myCat = {'size':'fat', 'color':'gray', 'disposition':'loud'}\n",
    "myCat['size']"
   ]
  },
  {
   "cell_type": "code",
   "execution_count": 2,
   "id": "0ab41504",
   "metadata": {},
   "outputs": [
    {
     "data": {
      "text/plain": [
       "{'size': 'fat', 'color': 'gray', 'disposition': 'loud', 'weight': 'heavy'}"
      ]
     },
     "execution_count": 2,
     "metadata": {},
     "output_type": "execute_result"
    }
   ],
   "source": [
    "myCat['weight'] = 'heavy' #增加键-值\n",
    "myCat"
   ]
  },
  {
   "cell_type": "markdown",
   "id": "aa7fa4b2",
   "metadata": {},
   "source": [
    "## keys(), values(), items() 方法"
   ]
  },
  {
   "cell_type": "code",
   "execution_count": 3,
   "id": "4fa51282",
   "metadata": {},
   "outputs": [
    {
     "data": {
      "text/plain": [
       "dict_values(['fat', 'gray', 'loud', 'heavy'])"
      ]
     },
     "execution_count": 3,
     "metadata": {},
     "output_type": "execute_result"
    }
   ],
   "source": [
    "myCat.values()"
   ]
  },
  {
   "cell_type": "code",
   "execution_count": 4,
   "id": "81f228ce",
   "metadata": {},
   "outputs": [
    {
     "name": "stdout",
     "output_type": "stream",
     "text": [
      "fat\n",
      "gray\n",
      "loud\n",
      "heavy\n"
     ]
    }
   ],
   "source": [
    "for v in myCat.values():\n",
    "    print(v)"
   ]
  },
  {
   "cell_type": "code",
   "execution_count": 5,
   "id": "9c072fde",
   "metadata": {},
   "outputs": [
    {
     "data": {
      "text/plain": [
       "['fat', 'gray', 'loud', 'heavy']"
      ]
     },
     "execution_count": 5,
     "metadata": {},
     "output_type": "execute_result"
    }
   ],
   "source": [
    "list(myCat.values()) #将 values 转换为 list 类型"
   ]
  },
  {
   "cell_type": "code",
   "execution_count": 6,
   "id": "6d6acecf",
   "metadata": {},
   "outputs": [
    {
     "data": {
      "text/plain": [
       "dict_keys(['size', 'color', 'disposition', 'weight'])"
      ]
     },
     "execution_count": 6,
     "metadata": {},
     "output_type": "execute_result"
    }
   ],
   "source": [
    "myCat.keys()"
   ]
  },
  {
   "cell_type": "code",
   "execution_count": 7,
   "id": "128d31df",
   "metadata": {},
   "outputs": [
    {
     "name": "stdout",
     "output_type": "stream",
     "text": [
      "size\n",
      "color\n",
      "disposition\n",
      "weight\n"
     ]
    }
   ],
   "source": [
    "for v in myCat.keys():\n",
    "    print(v)"
   ]
  },
  {
   "cell_type": "code",
   "execution_count": 8,
   "id": "b2c5dc25",
   "metadata": {},
   "outputs": [
    {
     "data": {
      "text/plain": [
       "['size', 'color', 'disposition', 'weight']"
      ]
     },
     "execution_count": 8,
     "metadata": {},
     "output_type": "execute_result"
    }
   ],
   "source": [
    "list(myCat.keys()) #将 keys 转换为 list 类型"
   ]
  },
  {
   "cell_type": "code",
   "execution_count": 9,
   "id": "474401e8",
   "metadata": {},
   "outputs": [
    {
     "data": {
      "text/plain": [
       "dict_items([('size', 'fat'), ('color', 'gray'), ('disposition', 'loud'), ('weight', 'heavy')])"
      ]
     },
     "execution_count": 9,
     "metadata": {},
     "output_type": "execute_result"
    }
   ],
   "source": [
    "myCat.items()"
   ]
  },
  {
   "cell_type": "code",
   "execution_count": 10,
   "id": "8d1bfbeb",
   "metadata": {},
   "outputs": [
    {
     "name": "stdout",
     "output_type": "stream",
     "text": [
      "('size', 'fat')\n",
      "('color', 'gray')\n",
      "('disposition', 'loud')\n",
      "('weight', 'heavy')\n"
     ]
    }
   ],
   "source": [
    "for v in myCat.items():\n",
    "    print(v)"
   ]
  },
  {
   "cell_type": "code",
   "execution_count": 11,
   "id": "e04c1700",
   "metadata": {},
   "outputs": [
    {
     "data": {
      "text/plain": [
       "[('size', 'fat'),\n",
       " ('color', 'gray'),\n",
       " ('disposition', 'loud'),\n",
       " ('weight', 'heavy')]"
      ]
     },
     "execution_count": 11,
     "metadata": {},
     "output_type": "execute_result"
    }
   ],
   "source": [
    "list(myCat.items()) #将 items 转换为 list 类型。但要留意的是，每一项都是由键-值构成的元组"
   ]
  },
  {
   "cell_type": "markdown",
   "id": "d796785e",
   "metadata": {},
   "source": [
    "## 多重赋值技巧"
   ]
  },
  {
   "cell_type": "code",
   "execution_count": 12,
   "id": "559778ea",
   "metadata": {},
   "outputs": [
    {
     "name": "stdout",
     "output_type": "stream",
     "text": [
      "Key: size Value: fat\n",
      "Key: color Value: gray\n",
      "Key: disposition Value: loud\n",
      "Key: weight Value: heavy\n"
     ]
    }
   ],
   "source": [
    "for k, v in myCat.items():\n",
    "    print('Key: ' + k + ' Value: ' + v)"
   ]
  },
  {
   "cell_type": "markdown",
   "id": "15e0b5ed",
   "metadata": {},
   "source": [
    "## 检查字典中是否存在键或值"
   ]
  },
  {
   "cell_type": "code",
   "execution_count": 13,
   "id": "2e51aedb",
   "metadata": {},
   "outputs": [
    {
     "data": {
      "text/plain": [
       "True"
      ]
     },
     "execution_count": 13,
     "metadata": {},
     "output_type": "execute_result"
    }
   ],
   "source": [
    "'loud' in myCat.values()"
   ]
  },
  {
   "cell_type": "code",
   "execution_count": 14,
   "id": "750711c1",
   "metadata": {},
   "outputs": [
    {
     "data": {
      "text/plain": [
       "False"
      ]
     },
     "execution_count": 14,
     "metadata": {},
     "output_type": "execute_result"
    }
   ],
   "source": [
    "'abc' in myCat.keys()"
   ]
  },
  {
   "cell_type": "code",
   "execution_count": 15,
   "id": "c9aab714",
   "metadata": {},
   "outputs": [
    {
     "data": {
      "text/plain": [
       "False"
      ]
     },
     "execution_count": 15,
     "metadata": {},
     "output_type": "execute_result"
    }
   ],
   "source": [
    "'abc' in myCat"
   ]
  },
  {
   "cell_type": "markdown",
   "id": "6d2c13a3",
   "metadata": {},
   "source": [
    "`'abc' in myCat` 与 `'abc' in myCat.keys()` 是一样的，前者只是后者的简写。"
   ]
  },
  {
   "cell_type": "markdown",
   "id": "62cfc90a",
   "metadata": {},
   "source": [
    "## get() 方法\n",
    "\n",
    "get()方法，它有两个参数：要取得其值的键，以及如果该键不存在时，返回的备用值。\n",
    "\n",
    "get()方法返回的默认值是 0。\n",
    "\n",
    "**注意** get() 不改变原字典。"
   ]
  },
  {
   "cell_type": "code",
   "execution_count": 16,
   "id": "ad438619",
   "metadata": {},
   "outputs": [
    {
     "data": {
      "text/plain": [
       "'fat'"
      ]
     },
     "execution_count": 16,
     "metadata": {},
     "output_type": "execute_result"
    }
   ],
   "source": [
    "myCat.get('size', 5)"
   ]
  },
  {
   "cell_type": "code",
   "execution_count": 17,
   "id": "6c1ad203",
   "metadata": {},
   "outputs": [
    {
     "data": {
      "text/plain": [
       "5"
      ]
     },
     "execution_count": 17,
     "metadata": {},
     "output_type": "execute_result"
    }
   ],
   "source": [
    "myCat.get('猫仔', 5)"
   ]
  },
  {
   "cell_type": "code",
   "execution_count": 18,
   "id": "b6d7a81d",
   "metadata": {},
   "outputs": [
    {
     "data": {
      "text/plain": [
       "{'size': 'fat', 'color': 'gray', 'disposition': 'loud', 'weight': 'heavy'}"
      ]
     },
     "execution_count": 18,
     "metadata": {},
     "output_type": "execute_result"
    }
   ],
   "source": [
    "myCat"
   ]
  },
  {
   "cell_type": "markdown",
   "id": "bf4dc8a8",
   "metadata": {},
   "source": [
    "# setdefault() 方法\n",
    "\n",
    "如果键不存在，则在字典中增加键-值。如果该键确实存在，方法就会返回键的值。"
   ]
  },
  {
   "cell_type": "code",
   "execution_count": 19,
   "id": "40315456",
   "metadata": {},
   "outputs": [
    {
     "data": {
      "text/plain": [
       "5"
      ]
     },
     "execution_count": 19,
     "metadata": {},
     "output_type": "execute_result"
    }
   ],
   "source": [
    "myCat.setdefault('猫仔',5) # 键 猫仔 不存在，所以字典将增加键-值 猫仔 和 5"
   ]
  },
  {
   "cell_type": "code",
   "execution_count": 20,
   "id": "cbcd835b",
   "metadata": {},
   "outputs": [
    {
     "data": {
      "text/plain": [
       "{'size': 'fat',\n",
       " 'color': 'gray',\n",
       " 'disposition': 'loud',\n",
       " 'weight': 'heavy',\n",
       " '猫仔': 5}"
      ]
     },
     "execution_count": 20,
     "metadata": {},
     "output_type": "execute_result"
    }
   ],
   "source": [
    "myCat"
   ]
  },
  {
   "cell_type": "code",
   "execution_count": 21,
   "id": "2ff2a384",
   "metadata": {},
   "outputs": [
    {
     "data": {
      "text/plain": [
       "'fat'"
      ]
     },
     "execution_count": 21,
     "metadata": {},
     "output_type": "execute_result"
    }
   ],
   "source": [
    "myCat.setdefault('size', 'big') # 键 size 已存在，所以不会改变该值"
   ]
  },
  {
   "cell_type": "markdown",
   "id": "49c6353a",
   "metadata": {},
   "source": [
    "下面是利用字典这一数据类型，计算一句/一段话中，各个字符出现的次数."
   ]
  },
  {
   "cell_type": "code",
   "execution_count": 22,
   "id": "65ce1534",
   "metadata": {},
   "outputs": [
    {
     "name": "stdout",
     "output_type": "stream",
     "text": [
      "{'I': 1, 't': 6, ' ': 13, 'w': 2, 'a': 4, 's': 3, 'b': 1, 'r': 5, 'i': 6, 'g': 2, 'h': 3, 'c': 3, 'o': 2, 'l': 3, 'd': 3, 'y': 1, 'n': 4, 'A': 1, 'p': 1, ',': 1, 'e': 5, 'k': 2, '.': 1}\n"
     ]
    }
   ],
   "source": [
    "message = 'It was a bright cold day in April, and the clocks were striking thirteen.'\n",
    "count = {}\n",
    "for character in message:\n",
    "    count.setdefault(character, 0)\n",
    "    count[character] = count[character] + 1\n",
    "\n",
    "print(count)"
   ]
  },
  {
   "cell_type": "markdown",
   "id": "5c44a12f",
   "metadata": {},
   "source": [
    "## 漂亮打印\n",
    "\n",
    "导入 pprint 模块，可以使用 pprint()和 pformat()函数，它们将“漂亮 打印”一个字典的字。比如可讲上一例的 print 改为："
   ]
  },
  {
   "cell_type": "code",
   "execution_count": 23,
   "id": "042fb1c0",
   "metadata": {},
   "outputs": [
    {
     "name": "stdout",
     "output_type": "stream",
     "text": [
      "{' ': 13,\n",
      " ',': 1,\n",
      " '.': 1,\n",
      " 'A': 1,\n",
      " 'I': 1,\n",
      " 'a': 4,\n",
      " 'b': 1,\n",
      " 'c': 3,\n",
      " 'd': 3,\n",
      " 'e': 5,\n",
      " 'g': 2,\n",
      " 'h': 3,\n",
      " 'i': 6,\n",
      " 'k': 2,\n",
      " 'l': 3,\n",
      " 'n': 4,\n",
      " 'o': 2,\n",
      " 'p': 1,\n",
      " 'r': 5,\n",
      " 's': 3,\n",
      " 't': 6,\n",
      " 'w': 2,\n",
      " 'y': 1}\n"
     ]
    }
   ],
   "source": [
    "import pprint\n",
    "pprint.pprint(count)"
   ]
  },
  {
   "cell_type": "markdown",
   "id": "ba449e7c",
   "metadata": {},
   "source": [
    "如果希望得到漂亮打印的文本作为字符串，而不是显示在屏幕上，那就调用 pprint.pformat()。"
   ]
  },
  {
   "cell_type": "code",
   "execution_count": 24,
   "id": "898bb9cf",
   "metadata": {},
   "outputs": [
    {
     "data": {
      "text/plain": [
       "\"{' ': 13,\\n ',': 1,\\n '.': 1,\\n 'A': 1,\\n 'I': 1,\\n 'a': 4,\\n 'b': 1,\\n 'c': 3,\\n 'd': 3,\\n 'e': 5,\\n 'g': 2,\\n 'h': 3,\\n 'i': 6,\\n 'k': 2,\\n 'l': 3,\\n 'n': 4,\\n 'o': 2,\\n 'p': 1,\\n 'r': 5,\\n 's': 3,\\n 't': 6,\\n 'w': 2,\\n 'y': 1}\""
      ]
     },
     "execution_count": 24,
     "metadata": {},
     "output_type": "execute_result"
    }
   ],
   "source": [
    "a = pprint.pformat(count)\n",
    "a"
   ]
  },
  {
   "cell_type": "code",
   "execution_count": 25,
   "id": "879fc856",
   "metadata": {},
   "outputs": [
    {
     "name": "stdout",
     "output_type": "stream",
     "text": [
      "{' ': 13,\n",
      " ',': 1,\n",
      " '.': 1,\n",
      " 'A': 1,\n",
      " 'I': 1,\n",
      " 'a': 4,\n",
      " 'b': 1,\n",
      " 'c': 3,\n",
      " 'd': 3,\n",
      " 'e': 5,\n",
      " 'g': 2,\n",
      " 'h': 3,\n",
      " 'i': 6,\n",
      " 'k': 2,\n",
      " 'l': 3,\n",
      " 'n': 4,\n",
      " 'o': 2,\n",
      " 'p': 1,\n",
      " 'r': 5,\n",
      " 's': 3,\n",
      " 't': 6,\n",
      " 'w': 2,\n",
      " 'y': 1}\n"
     ]
    }
   ],
   "source": [
    "print(a)"
   ]
  },
  {
   "cell_type": "markdown",
   "id": "f04f3397",
   "metadata": {},
   "source": [
    "## 练习\n",
    "\n",
    "写一个名为 displayInventory()的函数，它接受任何可能的物品清单，如：字典值 `{'rope': 1, 'torch': 6, 'gold coin': 42, 'dagger': 1, 'arrow': 12}`，并显示如下：\n",
    "\n",
    "```\n",
    "Inventory:\n",
    "12 arrow \n",
    "42 gold coin \n",
    "1 rope \n",
    "6 torch \n",
    "1 dagger \n",
    "Total number of items: 62\n",
    "```"
   ]
  },
  {
   "cell_type": "code",
   "execution_count": 26,
   "id": "57d014b9",
   "metadata": {},
   "outputs": [
    {
     "name": "stdout",
     "output_type": "stream",
     "text": [
      "Inventory:\n",
      "1 rope\n",
      "6 torch\n",
      "42 gold coin\n",
      "1 dagger\n",
      "12 arrow\n",
      "Total number of items: 62\n"
     ]
    }
   ],
   "source": [
    "def show_dict_term(some_dict):\n",
    "    print('Inventory:')\n",
    "    total = 0\n",
    "    for k, v in some_dict.items():\n",
    "        print(str(v) + ' ' + k)\n",
    "        total = total + v\n",
    "    print('Total number of items: ' + str(total))\n",
    "    \n",
    "some_dict = {'rope': 1, 'torch': 6, 'gold coin': 42, 'dagger': 1, 'arrow': 12}\n",
    "show_dict_term(some_dict)"
   ]
  },
  {
   "cell_type": "code",
   "execution_count": null,
   "id": "7a88fab9",
   "metadata": {},
   "outputs": [],
   "source": []
  }
 ],
 "metadata": {
  "kernelspec": {
   "display_name": "python_learning",
   "language": "python",
   "name": "python_learning"
  },
  "language_info": {
   "codemirror_mode": {
    "name": "ipython",
    "version": 3
   },
   "file_extension": ".py",
   "mimetype": "text/x-python",
   "name": "python",
   "nbconvert_exporter": "python",
   "pygments_lexer": "ipython3",
   "version": "3.9.13"
  }
 },
 "nbformat": 4,
 "nbformat_minor": 5
}
