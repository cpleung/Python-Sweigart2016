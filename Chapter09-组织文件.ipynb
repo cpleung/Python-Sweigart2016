{
 "cells": [
  {
   "cell_type": "markdown",
   "id": "5c183aca",
   "metadata": {},
   "source": [
    "# shutil 模块\n",
    "\n",
    "shutil（或称为 shell 工具）模块中包含一些函数，让你在 Python 程序中复制、 移动、改名和删除文件。要使用 shutil 的函数，首先需要 import shutil。"
   ]
  },
  {
   "cell_type": "code",
   "execution_count": 1,
   "id": "afb9816c",
   "metadata": {},
   "outputs": [],
   "source": [
    "import shutil, os"
   ]
  },
  {
   "cell_type": "code",
   "execution_count": 2,
   "id": "37597a9b",
   "metadata": {},
   "outputs": [
    {
     "data": {
      "text/plain": [
       "'/Users/liangzhuobin/Github/Python-Sweigart2016'"
      ]
     },
     "execution_count": 2,
     "metadata": {},
     "output_type": "execute_result"
    }
   ],
   "source": [
    "os.getcwd()"
   ]
  },
  {
   "cell_type": "markdown",
   "id": "a7dbed4a",
   "metadata": {},
   "source": [
    "## 复制文件和文件夹\n",
    "\n",
    "`shutil.copy(source, destination)`，将路径 source 处的文件复制到路径 destination 处的文件夹（source 和 destination 都是字符串）。如果 destination 是一个文件名，它将作为被复制文件的新名字。该函数返回一个字符串，表示被复制文件的路径。"
   ]
  },
  {
   "cell_type": "code",
   "execution_count": 3,
   "id": "dce081cf",
   "metadata": {},
   "outputs": [
    {
     "data": {
      "text/plain": [
       "'./test/chapter09/myCats.py'"
      ]
     },
     "execution_count": 3,
     "metadata": {},
     "output_type": "execute_result"
    }
   ],
   "source": [
    "shutil.copy('myCats.py', './test/chapter09')"
   ]
  },
  {
   "cell_type": "markdown",
   "id": "995f7c7b",
   "metadata": {},
   "source": [
    "`shutil.copy()` 将复制一个文件，`shutil.copytree()` 将复制整个文件夹。\n",
    "\n",
    "`shutil.copytree(source, destination)`，将路径 source 处的文件夹，包括它的所有文件和子文件夹，复制到路径 destination 处的文件夹。source 和 destination 参数都是字符串。该函数返回一个字符串，是新复制的文件夹的路径。"
   ]
  },
  {
   "cell_type": "markdown",
   "id": "4bbffd50",
   "metadata": {},
   "source": [
    "## 文件和文件夹的移动和改名\n",
    "\n",
    "`shutil.move(source, destination)`， 将路径 source 处的文件（夹）**移动**到路径 destination，并返回新位置的绝对路径的字符串。**移动** 后，原来位置上的文件不再存在。\n",
    "\n",
    "设 destination = ./test/abc/def，并假设 source 是指向一个文件（如 source = ./myCats.py）\n",
    "\n",
    "* 如果 destination 中的路径 `./test/abc` **不**存在，则出错\n",
    "* 如果 destination 中的路径 `./test/abc` 存在，但 `def` 是一个**不存在**的文件夹，则 source 文件将**移动**到 `./test/abc` 中，并被命名为 `def`（注意，这是一个没有后缀的文件）。\n",
    "* 如果 destination 中的路径 `./test/abc` 存在，而 `def` 是一个存在的文件夹，则 source 文件将**移动**到 `./test/abc/def` 中，。\n",
    "* 如果 destination 中的路径 `./test/abc` 存在，而 `def` 是一个文件名（有后缀），则 source 文件将**移动**到 `./test/abc` 中，并被命名为 `def`。如果文件 `def` 原本已经存在，则被覆写。"
   ]
  },
  {
   "cell_type": "markdown",
   "id": "84154b9e",
   "metadata": {},
   "source": [
    "# 永久删除文件和文件夹\n",
    "\n",
    "利用 os 模块中的函数，可以删除一个文件或一个空文件夹。但利用 shutil 模块， 可以删除一个文件夹及其所有的内容。\n",
    "\n",
    "* 用 os.unlink(path) 将删除 path 处的文件。\n",
    "* 调用 os.rmdir(path) 将删除 path 处的文件夹。该文件夹必须为空，其中没有任何文件和文件夹。\n",
    "* 调用 shutil.rmtree(path) 将删除 path 处的文件夹，它包含的所有文件和文件夹都会被删除。\n",
    "\n",
    "这些命令**不可恢复地删除文件和文件夹**，所以在程序中使用这些函数时要小心！可以第一次运行程序时，注释掉这些调用， 并且加上 print() 显示将会被删除的文件。这样可以检查是否正确。\n",
    "\n",
    "```python\n",
    "import os\n",
    "for filename in os.listdir():\n",
    "    if filename.endswith('.rxt'):\n",
    "        #os.unlink(filename) \n",
    "        print(filename)\n",
    "```"
   ]
  },
  {
   "cell_type": "markdown",
   "id": "68550129",
   "metadata": {},
   "source": [
    "## 用 send2trash 模块安全地删除\n",
    "\n",
    "删除文件和文件夹的更好方法，是使用第三方的 send2trash 模块。在 conda 下的安装方法：\n",
    "\n",
    "`conda install -c conda-forge send2trash`\n",
    "\n",
    "利用 send2trash，比 Python 常规的删除函数要安全得多，因为它会将文件夹和文件发送到计算机的垃圾箱或回收站，而不是永久删除它们。"
   ]
  },
  {
   "cell_type": "code",
   "execution_count": 4,
   "id": "ce51d34d",
   "metadata": {},
   "outputs": [],
   "source": [
    "import send2trash"
   ]
  },
  {
   "cell_type": "code",
   "execution_count": 5,
   "id": "2bf47292",
   "metadata": {},
   "outputs": [
    {
     "data": {
      "text/plain": [
       "25"
      ]
     },
     "execution_count": 5,
     "metadata": {},
     "output_type": "execute_result"
    }
   ],
   "source": [
    "baconFile = open('bacon.txt','a') # creates the file\n",
    "baconFile.write('Bacon is not a vegetable.')"
   ]
  },
  {
   "cell_type": "code",
   "execution_count": 6,
   "id": "3e4bdbf3",
   "metadata": {},
   "outputs": [],
   "source": [
    "baconFile.close()\n",
    "send2trash.send2trash('bacon.txt')"
   ]
  },
  {
   "cell_type": "markdown",
   "id": "9a61f52c",
   "metadata": {},
   "source": [
    "一般来说，总是应该使用 send2trash.send2trash()函数来删除文件和文件夹。虽然它将文件发送到垃圾箱，让你稍后能够恢复它们，但是这不像永久删除文件，不会释放磁盘空间。如果你希望程序释放磁盘空间，就要用 os 和 shutil 来删除文件和文件夹。请注意，send2trash()函数只能将文件送到垃圾箱，不能从中恢复文件。"
   ]
  },
  {
   "cell_type": "markdown",
   "id": "12cf8e1a",
   "metadata": {},
   "source": [
    "# 历遍目录树\n"
   ]
  },
  {
   "cell_type": "code",
   "execution_count": 9,
   "id": "115b3002",
   "metadata": {},
   "outputs": [
    {
     "name": "stdout",
     "output_type": "stream",
     "text": [
      "The current folder is ./\n",
      "SUBFOLDER OF ./: test\n",
      "SUBFOLDER OF ./: __pycache__\n",
      "SUBFOLDER OF ./: .ipynb_checkpoints\n",
      "SUBFOLDER OF ./: .git\n",
      "FILE INSIDE ./: myCats.py\n",
      "FILE INSIDE ./: Chapter04-列表.ipynb\n",
      "FILE INSIDE ./: Chapter07-模式匹配与正则表达式.ipynb\n",
      "FILE INSIDE ./: .DS_Store\n",
      "FILE INSIDE ./: Chapter01-Python基础.ipynb\n",
      "FILE INSIDE ./: Chapter03-函数.ipynb\n",
      "FILE INSIDE ./: Chapter02-控制流.ipynb\n",
      "FILE INSIDE ./: Chapter09-组织文件.ipynb\n",
      "FILE INSIDE ./: Chapter06-字符串操作.ipynb\n",
      "FILE INSIDE ./: Chapter05-字典和结构化数据.ipynb\n",
      "FILE INSIDE ./: Chapter08-读写文件.ipynb\n",
      " \n",
      "The current folder is ./test\n",
      "SUBFOLDER OF ./test: chapter08\n",
      "SUBFOLDER OF ./test: chapter09\n",
      "FILE INSIDE ./test: .DS_Store\n",
      "FILE INSIDE ./test: eggs\n",
      " \n",
      "The current folder is ./test/chapter08\n",
      "FILE INSIDE ./test/chapter08: myCats.py\n",
      "FILE INSIDE ./test/chapter08: sonnet29.txt\n",
      "FILE INSIDE ./test/chapter08: bacon.txt\n",
      "FILE INSIDE ./test/chapter08: mydata.db\n",
      "FILE INSIDE ./test/chapter08: hello.txt\n",
      " \n",
      "The current folder is ./test/chapter09\n",
      "FILE INSIDE ./test/chapter09: myCats.py\n",
      "FILE INSIDE ./test/chapter09: .DS_Store\n",
      " \n",
      "The current folder is ./__pycache__\n",
      "FILE INSIDE ./__pycache__: myCats.cpython-37.pyc\n",
      " \n",
      "The current folder is ./.ipynb_checkpoints\n",
      "FILE INSIDE ./.ipynb_checkpoints: Chapter08-读写文件-checkpoint.ipynb\n",
      "FILE INSIDE ./.ipynb_checkpoints: Chapter03-函数-checkpoint.ipynb\n",
      "FILE INSIDE ./.ipynb_checkpoints: Chapter02-控制流-checkpoint.ipynb\n",
      "FILE INSIDE ./.ipynb_checkpoints: Chapter05-字典和结构化数据-checkpoint.ipynb\n",
      "FILE INSIDE ./.ipynb_checkpoints: Chapter01-Python基础-checkpoint.ipynb\n",
      "FILE INSIDE ./.ipynb_checkpoints: Chapter06-字符串操作-checkpoint.ipynb\n",
      "FILE INSIDE ./.ipynb_checkpoints: Chapter09-组织文件-checkpoint.ipynb\n",
      "FILE INSIDE ./.ipynb_checkpoints: Chapter04-列表-checkpoint.ipynb\n",
      "FILE INSIDE ./.ipynb_checkpoints: Chapter07-模式匹配与正则表达式-checkpoint.ipynb\n",
      " \n",
      "The current folder is ./.git\n",
      "SUBFOLDER OF ./.git: objects\n",
      "SUBFOLDER OF ./.git: info\n",
      "SUBFOLDER OF ./.git: logs\n",
      "SUBFOLDER OF ./.git: hooks\n",
      "SUBFOLDER OF ./.git: refs\n",
      "SUBFOLDER OF ./.git: branches\n",
      "FILE INSIDE ./.git: config\n",
      "FILE INSIDE ./.git: HEAD\n",
      "FILE INSIDE ./.git: description\n",
      "FILE INSIDE ./.git: index\n",
      "FILE INSIDE ./.git: COMMIT_EDITMSG\n",
      "FILE INSIDE ./.git: FETCH_HEAD\n",
      " \n",
      "The current folder is ./.git/objects\n",
      "SUBFOLDER OF ./.git/objects: 68\n",
      "SUBFOLDER OF ./.git/objects: 03\n",
      "SUBFOLDER OF ./.git/objects: a3\n",
      "SUBFOLDER OF ./.git/objects: ae\n",
      "SUBFOLDER OF ./.git/objects: c0\n",
      "SUBFOLDER OF ./.git/objects: c6\n",
      "SUBFOLDER OF ./.git/objects: pack\n",
      "SUBFOLDER OF ./.git/objects: 16\n",
      "SUBFOLDER OF ./.git/objects: 9a\n",
      "SUBFOLDER OF ./.git/objects: info\n",
      "SUBFOLDER OF ./.git/objects: 06\n",
      "SUBFOLDER OF ./.git/objects: 52\n",
      "SUBFOLDER OF ./.git/objects: b8\n",
      "SUBFOLDER OF ./.git/objects: de\n",
      "SUBFOLDER OF ./.git/objects: b0\n",
      "SUBFOLDER OF ./.git/objects: 2b\n",
      "SUBFOLDER OF ./.git/objects: 7a\n",
      "SUBFOLDER OF ./.git/objects: 8e\n",
      " \n",
      "The current folder is ./.git/objects/68\n",
      "FILE INSIDE ./.git/objects/68: 88db59edf8ede77e304c9a755927c75972e9d6\n",
      " \n",
      "The current folder is ./.git/objects/03\n",
      "FILE INSIDE ./.git/objects/03: 7f1c86de449c5e2978e352faec35c63fcfddc7\n",
      " \n",
      "The current folder is ./.git/objects/a3\n",
      "FILE INSIDE ./.git/objects/a3: 29a9a8df158ec1db00838e857d3d11b869aa08\n",
      " \n",
      "The current folder is ./.git/objects/ae\n",
      "FILE INSIDE ./.git/objects/ae: 36f367b49aee33f05b1ae5056e9a7385f8dddb\n",
      " \n",
      "The current folder is ./.git/objects/c0\n",
      "FILE INSIDE ./.git/objects/c0: 5978dd0728ba6e9bac4bdec95755e87360fdbe\n",
      " \n",
      "The current folder is ./.git/objects/c6\n",
      "FILE INSIDE ./.git/objects/c6: ba57dda0d4953a94d37e338339f5ba8bac0fe0\n",
      " \n",
      "The current folder is ./.git/objects/pack\n",
      " \n",
      "The current folder is ./.git/objects/16\n",
      "FILE INSIDE ./.git/objects/16: 6b4dcd53e1e2a7272b2e77450571fc1b649840\n",
      " \n",
      "The current folder is ./.git/objects/9a\n",
      "FILE INSIDE ./.git/objects/9a: 3264041ba89e1effca0d2c72b550814957cc0a\n",
      " \n",
      "The current folder is ./.git/objects/info\n",
      " \n",
      "The current folder is ./.git/objects/06\n",
      "FILE INSIDE ./.git/objects/06: 6939dff6aacc2342317db9482b397fc891ad75\n",
      " \n",
      "The current folder is ./.git/objects/52\n",
      "FILE INSIDE ./.git/objects/52: 03c9fd625b3954b2aae2450718d500bceeeef4\n",
      " \n",
      "The current folder is ./.git/objects/b8\n",
      "FILE INSIDE ./.git/objects/b8: 1327378d0ebd4881edf66eabfa00e7e5d990ea\n",
      " \n",
      "The current folder is ./.git/objects/de\n",
      "FILE INSIDE ./.git/objects/de: eb188025fc0dd128b9c588d5f6b17746605f6e\n",
      " \n",
      "The current folder is ./.git/objects/b0\n",
      "FILE INSIDE ./.git/objects/b0: 1e4eccc515d7e2f8c492070924b58f1a0eac0d\n",
      " \n",
      "The current folder is ./.git/objects/2b\n",
      "FILE INSIDE ./.git/objects/2b: b5bb8b76800fc923e0b55620157584a5957faa\n",
      " \n",
      "The current folder is ./.git/objects/7a\n",
      "FILE INSIDE ./.git/objects/7a: 0c0c4135d5d3f9a2ab1a0b3d962416766cc49e\n",
      " \n",
      "The current folder is ./.git/objects/8e\n",
      "FILE INSIDE ./.git/objects/8e: 8bc3e9f9aa85e31aadf53ae5b4ade5c37d254b\n",
      " \n",
      "The current folder is ./.git/info\n",
      "FILE INSIDE ./.git/info: exclude\n",
      " \n",
      "The current folder is ./.git/logs\n",
      "SUBFOLDER OF ./.git/logs: refs\n",
      "FILE INSIDE ./.git/logs: HEAD\n",
      " \n",
      "The current folder is ./.git/logs/refs\n",
      "SUBFOLDER OF ./.git/logs/refs: heads\n",
      "SUBFOLDER OF ./.git/logs/refs: remotes\n",
      " \n",
      "The current folder is ./.git/logs/refs/heads\n",
      "FILE INSIDE ./.git/logs/refs/heads: main\n",
      " \n",
      "The current folder is ./.git/logs/refs/remotes\n",
      "SUBFOLDER OF ./.git/logs/refs/remotes: origin\n",
      " \n",
      "The current folder is ./.git/logs/refs/remotes/origin\n",
      "FILE INSIDE ./.git/logs/refs/remotes/origin: main\n",
      " \n",
      "The current folder is ./.git/hooks\n",
      "FILE INSIDE ./.git/hooks: commit-msg.sample\n",
      "FILE INSIDE ./.git/hooks: pre-rebase.sample\n",
      "FILE INSIDE ./.git/hooks: pre-commit.sample\n",
      "FILE INSIDE ./.git/hooks: applypatch-msg.sample\n",
      "FILE INSIDE ./.git/hooks: fsmonitor-watchman.sample\n",
      "FILE INSIDE ./.git/hooks: pre-receive.sample\n",
      "FILE INSIDE ./.git/hooks: prepare-commit-msg.sample\n",
      "FILE INSIDE ./.git/hooks: post-update.sample\n",
      "FILE INSIDE ./.git/hooks: pre-merge-commit.sample\n",
      "FILE INSIDE ./.git/hooks: pre-applypatch.sample\n",
      "FILE INSIDE ./.git/hooks: pre-push.sample\n",
      "FILE INSIDE ./.git/hooks: update.sample\n",
      "FILE INSIDE ./.git/hooks: push-to-checkout.sample\n",
      " \n",
      "The current folder is ./.git/refs\n",
      "SUBFOLDER OF ./.git/refs: heads\n",
      "SUBFOLDER OF ./.git/refs: tags\n",
      "SUBFOLDER OF ./.git/refs: remotes\n",
      " \n",
      "The current folder is ./.git/refs/heads\n",
      "FILE INSIDE ./.git/refs/heads: main\n",
      " \n",
      "The current folder is ./.git/refs/tags\n",
      " \n",
      "The current folder is ./.git/refs/remotes\n",
      "SUBFOLDER OF ./.git/refs/remotes: origin\n",
      " \n",
      "The current folder is ./.git/refs/remotes/origin\n",
      "FILE INSIDE ./.git/refs/remotes/origin: main\n",
      " \n",
      "The current folder is ./.git/branches\n",
      " \n"
     ]
    }
   ],
   "source": [
    "for folderName, subfolders, filenames in os.walk('./'):\n",
    "    print('The current folder is ' + folderName)\n",
    "    \n",
    "    for subfolder in subfolders:\n",
    "        print('SUBFOLDER OF ' + folderName + ': ' + subfolder)\n",
    "    for filename in filenames:\n",
    "        print('FILE INSIDE ' + folderName + ': ' + filename)\n",
    "        \n",
    "    print(' ')"
   ]
  },
  {
   "cell_type": "markdown",
   "id": "0d509d19",
   "metadata": {},
   "source": [
    "上述命令，将历遍以 `./` 开头的路径下的所有文件夹（包括子文件夹、子子文件夹，等等）。每当走到一个文件夹时，打印该文件夹的名字（`folderName`），然后打印该文件夹下的所有子文件夹名（`subfolder`）和文件名（`filename`）。"
   ]
  },
  {
   "cell_type": "markdown",
   "id": "9c3968e6",
   "metadata": {},
   "source": [
    "# 用 zipfile 模块压缩文件\n",
    "\n",
    "## 读取和解压缩 zip 文件\n",
    "\n",
    "要读取 ZIP 文件的内容，首先必须创建一个 ZipFile 对象（请注意大写首字母 Z 和 F）"
   ]
  },
  {
   "cell_type": "code",
   "execution_count": 13,
   "id": "75bd83c1",
   "metadata": {},
   "outputs": [],
   "source": [
    "import zipfile\n",
    "os.chdir('./test') # move to the folder with zip file"
   ]
  },
  {
   "cell_type": "code",
   "execution_count": 20,
   "id": "8cc3fa6f",
   "metadata": {},
   "outputs": [],
   "source": [
    "testZip = zipfile.ZipFile('Automate_the_Boring_Stuff_2e_onlinematerials.zip') # 创建一个 ZipFile 对象"
   ]
  },
  {
   "cell_type": "code",
   "execution_count": 21,
   "id": "3c50f94d",
   "metadata": {},
   "outputs": [
    {
     "data": {
      "text/plain": [
       "['automate_online-materials/',\n",
       " 'automate_online-materials/alarm.wav',\n",
       " 'automate_online-materials/allMyCats1.py',\n",
       " 'automate_online-materials/allMyCats2.py',\n",
       " 'automate_online-materials/backupToZip.py',\n",
       " 'automate_online-materials/birthdays.py',\n",
       " 'automate_online-materials/boxPrint.py',\n",
       " 'automate_online-materials/buggyAddingProgram.py',\n",
       " 'automate_online-materials/bulletPointAdder.py',\n",
       " 'automate_online-materials/calcProd.py',\n",
       " 'automate_online-materials/catlogo.png',\n",
       " 'automate_online-materials/catnapping.py',\n",
       " 'automate_online-materials/census2010.py',\n",
       " 'automate_online-materials/censuspopdata.xlsx',\n",
       " 'automate_online-materials/characterCount.py',\n",
       " 'automate_online-materials/coinFlip.py',\n",
       " 'automate_online-materials/combinedminutes.pdf',\n",
       " 'automate_online-materials/combinePdfs.py',\n",
       " 'automate_online-materials/countdown.py',\n",
       " 'automate_online-materials/demo.docx',\n",
       " 'automate_online-materials/dictionary.txt',\n",
       " 'automate_online-materials/dimensions.xlsx',\n",
       " 'automate_online-materials/downloadXkcd.py',\n",
       " 'automate_online-materials/duesRecords.xlsx',\n",
       " 'automate_online-materials/encrypted.pdf',\n",
       " 'automate_online-materials/encryptedminutes.pdf',\n",
       " 'automate_online-materials/errorExample.py',\n",
       " 'automate_online-materials/example.csv',\n",
       " 'automate_online-materials/example.html',\n",
       " 'automate_online-materials/example.xlsx',\n",
       " 'automate_online-materials/example.zip',\n",
       " 'automate_online-materials/excelSpreadsheets.zip',\n",
       " 'automate_online-materials/exitExample.py',\n",
       " 'automate_online-materials/factorialLog.py',\n",
       " 'automate_online-materials/fiveTimes.py',\n",
       " 'automate_online-materials/formFiller.py',\n",
       " 'automate_online-materials/freezeExample.xlsx',\n",
       " 'automate_online-materials/getDocxText.py',\n",
       " 'automate_online-materials/guessTheNumber.py',\n",
       " 'automate_online-materials/guests.txt',\n",
       " 'automate_online-materials/headings.docx',\n",
       " 'automate_online-materials/hello.py',\n",
       " 'automate_online-materials/helloFunc.py',\n",
       " 'automate_online-materials/helloFunc2.py',\n",
       " 'automate_online-materials/helloworld.docx',\n",
       " 'automate_online-materials/inventory.py',\n",
       " 'automate_online-materials/isPhoneNumber.py',\n",
       " 'automate_online-materials/littleKid.py',\n",
       " 'automate_online-materials/lucky.py',\n",
       " 'automate_online-materials/magic8Ball.py',\n",
       " 'automate_online-materials/magic8Ball2.py',\n",
       " 'automate_online-materials/mapIt.py',\n",
       " 'automate_online-materials/mcb.pyw',\n",
       " 'automate_online-materials/meetingminutes.pdf',\n",
       " 'automate_online-materials/meetingminutes2.pdf',\n",
       " 'automate_online-materials/merged.xlsx',\n",
       " 'automate_online-materials/mouseNow.py',\n",
       " 'automate_online-materials/mouseNow2.py',\n",
       " 'automate_online-materials/multidownloadXkcd.py',\n",
       " 'automate_online-materials/multipleParagraphs.docx',\n",
       " 'automate_online-materials/myPets.py',\n",
       " 'automate_online-materials/passingReference.py',\n",
       " 'automate_online-materials/phoneAndEmail.py',\n",
       " 'automate_online-materials/picnicTable.py',\n",
       " 'automate_online-materials/prettyCharacterCount.py',\n",
       " 'automate_online-materials/printRandom.py',\n",
       " 'automate_online-materials/produceSales.xlsx',\n",
       " 'automate_online-materials/pw.py',\n",
       " 'automate_online-materials/randomQuizGenerator.py',\n",
       " 'automate_online-materials/readCensusExcel.py',\n",
       " 'automate_online-materials/readDocx.py',\n",
       " 'automate_online-materials/removeCsvHeader.py',\n",
       " 'automate_online-materials/removeCsvHeader.zip',\n",
       " 'automate_online-materials/renameDates.py',\n",
       " 'automate_online-materials/resizeAndAddLogo.py',\n",
       " 'automate_online-materials/restyled.docx',\n",
       " 'automate_online-materials/sameName.py',\n",
       " 'automate_online-materials/sameName2.py',\n",
       " 'automate_online-materials/sameName3.py',\n",
       " 'automate_online-materials/sameName4.py',\n",
       " 'automate_online-materials/sampleChart.xlsx',\n",
       " 'automate_online-materials/sendDuesReminders.py',\n",
       " 'automate_online-materials/stopwatch.py',\n",
       " 'automate_online-materials/styled.xlsx',\n",
       " 'automate_online-materials/styles.xlsx',\n",
       " 'automate_online-materials/swordfish.py',\n",
       " 'automate_online-materials/textMyself.py',\n",
       " 'automate_online-materials/threadDemo.py',\n",
       " 'automate_online-materials/ticTacToe.py',\n",
       " 'automate_online-materials/twoPage.docx',\n",
       " 'automate_online-materials/updatedProduceSales.xlsx',\n",
       " 'automate_online-materials/updateProduce.py',\n",
       " 'automate_online-materials/validateInput.py',\n",
       " 'automate_online-materials/vampire.py',\n",
       " 'automate_online-materials/vampire2.py',\n",
       " 'automate_online-materials/watermark.pdf',\n",
       " 'automate_online-materials/zeroDivide.py',\n",
       " 'automate_online-materials/zophie.png',\n",
       " 'automate_online-materials/getOpenWeather.py',\n",
       " 'automate_online-materials/abcdCallStack.py',\n",
       " 'automate_online-materials/convertWordToPDF.py',\n",
       " 'automate_online-materials/conway.py',\n",
       " 'automate_online-materials/threadedDownloadXkcd.py',\n",
       " 'automate_online-materials/globalStatement.py',\n",
       " 'automate_online-materials/idiot.py',\n",
       " 'automate_online-materials/infiniteLoop.py',\n",
       " 'automate_online-materials/localGlobalSameName.py',\n",
       " 'automate_online-materials/multiplicationquiz.py',\n",
       " 'automate_online-materials/rpsGame.py',\n",
       " 'automate_online-materials/sameNameError.py',\n",
       " 'automate_online-materials/sameNameLocalGlobal.py',\n",
       " 'automate_online-materials/searchpypi.py',\n",
       " 'automate_online-materials/spiralDraw.py',\n",
       " 'automate_online-materials/yourname.py',\n",
       " 'automate_online-materials/yourname2.py',\n",
       " 'automate_online-materials/zigzag.py',\n",
       " 'automate_online-materials/tictactoe_complete.py',\n",
       " 'automate_online-materials/myZombie.py',\n",
       " 'automate_online-materials/exampleWithHeader.csv',\n",
       " 'automate_online-materials/automate-linux-requirements.txt',\n",
       " 'automate_online-materials/automate-mac-requirements.txt',\n",
       " 'automate_online-materials/automate-win-requirements.txt']"
      ]
     },
     "execution_count": 21,
     "metadata": {},
     "output_type": "execute_result"
    }
   ],
   "source": [
    "testZip.namelist()"
   ]
  },
  {
   "cell_type": "code",
   "execution_count": 24,
   "id": "8d3390e7",
   "metadata": {},
   "outputs": [],
   "source": [
    "dictInfo = testZip.getinfo('automate_online-materials/dictionary.txt')"
   ]
  },
  {
   "cell_type": "code",
   "execution_count": 25,
   "id": "c08e4163",
   "metadata": {},
   "outputs": [
    {
     "data": {
      "text/plain": [
       "454061"
      ]
     },
     "execution_count": 25,
     "metadata": {},
     "output_type": "execute_result"
    }
   ],
   "source": [
    "dictInfo.file_size # 该文件 automate_online-materials/dictionary.txt 的原始大小"
   ]
  },
  {
   "cell_type": "code",
   "execution_count": 26,
   "id": "07ee9b06",
   "metadata": {},
   "outputs": [
    {
     "data": {
      "text/plain": [
       "126834"
      ]
     },
     "execution_count": 26,
     "metadata": {},
     "output_type": "execute_result"
    }
   ],
   "source": [
    "dictInfo.compress_size # 该文件 automate_online-materials/dictionary.txt 压缩后的大小"
   ]
  },
  {
   "cell_type": "code",
   "execution_count": 27,
   "id": "dc8ed0e9",
   "metadata": {},
   "outputs": [
    {
     "data": {
      "text/plain": [
       "'testzip/automate_online-materials/dictionary.txt'"
      ]
     },
     "execution_count": 27,
     "metadata": {},
     "output_type": "execute_result"
    }
   ],
   "source": [
    "testZip.extract('automate_online-materials/dictionary.txt', './testzip') "
   ]
  },
  {
   "cell_type": "markdown",
   "id": "51533392",
   "metadata": {},
   "source": [
    "ZipFile 对象的 extract()方法从 ZIP 文件中解压缩单个文件。 extract()的第二个参数是可选，表示将文件解压缩到指定的文件夹，而不是当前工作目录。如果第二个参数指定的文件夹不存在，Python 就会创建它。extract() 的返回值是被压缩后文件的路径。"
   ]
  },
  {
   "cell_type": "markdown",
   "id": "f94511cc",
   "metadata": {},
   "source": [
    "`extractall()` 方法从 ZIP 文件中解压缩所有文件和文件夹，放到当前工作目录中。如运行：\n",
    "\n",
    "`testZip.extractall()`"
   ]
  },
  {
   "cell_type": "markdown",
   "id": "8274b87b",
   "metadata": {},
   "source": [
    "## 创建和添加到 zip 文件"
   ]
  },
  {
   "cell_type": "code",
   "execution_count": 28,
   "id": "3c09117e",
   "metadata": {},
   "outputs": [],
   "source": [
    "newZip = zipfile.ZipFile('new.zip', 'w') # 创建 ZipFile 对象，必须传入 'w' 作为第二个参数，new.zip 是新 zip 文件的名字。\n",
    "newZip.write('dictionary.txt', compress_type=zipfile.ZIP_DEFLATED) # dictionary.txt 是要压缩的文件，第二个参数是“压缩类型”参数，它告诉计算机使用怎样的算法来压缩文件。可以总是将这个值设置为 zipfile.ZIP_DEFLATED（这指定了 deflate 压缩 算法，它对各种类型的数据都很有效）\n",
    "newZip.close()"
   ]
  },
  {
   "cell_type": "markdown",
   "id": "b09801c0",
   "metadata": {},
   "source": [
    "# 项目：将带有美国风格日期的文件改名为欧洲风格日期\n",
    "\n",
    "假设现在有上千个文件， 文件名包含美国风格的日期 （MM-DD-YYYY），需要将它们改名为欧洲风格的日期（DD-MM-YYYY）。\n",
    "\n",
    "思路：\n",
    "\n",
    "* 创建一个正则表达式，可以识别美国风格日期的文本模式。\n",
    "\n",
    "* 调用 os.listdir()，找出工作目录中的所有文件。\n",
    "\n",
    "* 循环遍历每个文件名，利用该正则表达式检查它是否包含日期。\n",
    "\n",
    "* 如果它包含日期，用 shutil.move()对该文件改名。"
   ]
  },
  {
   "cell_type": "code",
   "execution_count": 1,
   "id": "88c8d1e2",
   "metadata": {},
   "outputs": [],
   "source": [
    "import shutil, os, re"
   ]
  },
  {
   "cell_type": "markdown",
   "id": "89bbc9a8",
   "metadata": {},
   "source": [
    "## Step 1: 创建能匹配美式日期的正则表达式"
   ]
  },
  {
   "cell_type": "code",
   "execution_count": 2,
   "id": "4929650a",
   "metadata": {},
   "outputs": [],
   "source": [
    "datePattern = re.compile(r\"\"\"^(.*?) # all text before the date\n",
    "    ((0|1)?\\d) -                    # one or two digits for the month\n",
    "    ((0|1|2|3)?\\d) -                # one or two digits for the day\n",
    "    ((19|20)\\d\\d)                   # four digits for the year\n",
    "    (.*?)$                          # all text after the date\n",
    "    \"\"\", re.VERBOSE)"
   ]
  },
  {
   "cell_type": "markdown",
   "id": "0aabbf3d",
   "metadata": {},
   "source": [
    "## Step 2: 识别文件中的日期部分，并对文件改名\n",
    "\n",
    "正则表达式中的分组编号方式，每遇到一个左括号就计数加一。"
   ]
  },
  {
   "cell_type": "code",
   "execution_count": 3,
   "id": "2d146b2b",
   "metadata": {},
   "outputs": [],
   "source": [
    "for amerFilename in os.listdir('.'):\n",
    "    mo = datePattern.search(amerFilename)\n",
    "    \n",
    "    # Skip files without a date.\n",
    "    if mo == None:\n",
    "        continue\n",
    "        \n",
    "    # Get the different parts of the filename.\n",
    "    beforePart = mo.group(1)\n",
    "    monthPart = mo.group(2)\n",
    "    dayPart = mo.group(4)\n",
    "    yearPart = mo.group(6)\n",
    "    afterPart = mo.group(8)\n",
    "    \n",
    "    # Form the European-style filename.\n",
    "    euroFilename = beforePart + dayPart + '-' + monthPart + '-' + yearPart + afterPart\n",
    "    \n",
    "    # Get the full, absolute file paths\n",
    "    absWorkingDir = os.path.abspath('.')\n",
    "    amerFilename = os.path.join(absWorkingDir, amerFilename)\n",
    "    euroFilename = os.path.join(absWorkingDir, euroFilename)\n",
    "    \n",
    "    # Rename the files.\n",
    "    print('Renaming \"%s\" to \"%s\"...' (amerFilename, euroFilename))\n",
    "    #shutil.move(amerFilename, euroFilename) # uncomment after testing"
   ]
  },
  {
   "cell_type": "code",
   "execution_count": null,
   "id": "a8700e25",
   "metadata": {},
   "outputs": [],
   "source": []
  }
 ],
 "metadata": {
  "kernelspec": {
   "display_name": "Python 3 (ipykernel)",
   "language": "python",
   "name": "python3"
  },
  "language_info": {
   "codemirror_mode": {
    "name": "ipython",
    "version": 3
   },
   "file_extension": ".py",
   "mimetype": "text/x-python",
   "name": "python",
   "nbconvert_exporter": "python",
   "pygments_lexer": "ipython3",
   "version": "3.7.6"
  }
 },
 "nbformat": 4,
 "nbformat_minor": 5
}
