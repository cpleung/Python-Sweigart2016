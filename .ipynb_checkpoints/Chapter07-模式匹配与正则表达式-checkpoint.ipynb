{
 "cells": [
  {
   "cell_type": "markdown",
   "id": "ec4a13cb",
   "metadata": {},
   "source": [
    "Python 中所有正则表达式的函数都在 re 模块中。"
   ]
  },
  {
   "cell_type": "code",
   "execution_count": 1,
   "id": "7ab0b9f9",
   "metadata": {},
   "outputs": [],
   "source": [
    "import re"
   ]
  },
  {
   "cell_type": "markdown",
   "id": "5980dfa6",
   "metadata": {},
   "source": [
    "# 1. 用正则表达式查找文本模式\n",
    "\n",
    "现在的任务是，检查一个字符串是否具有电话号码的形式，比如：415-555-4242，也就是判断字符串是否 \\d\\d\\d-\\d\\d\\d-\\d\\d\\d\\d 的格式，其中 \\d  是一个正则表达式，表示一位数字（0到9）字符。"
   ]
  },
  {
   "cell_type": "code",
   "execution_count": 2,
   "id": "db8e9d8b",
   "metadata": {},
   "outputs": [],
   "source": [
    "phoneNumRegex = re.compile(r'\\d\\d\\d-\\d\\d\\d-\\d\\d\\d\\d')"
   ]
  },
  {
   "cell_type": "markdown",
   "id": "d5eaa3c0",
   "metadata": {},
   "source": [
    "注意：\n",
    "\n",
    "- 向 `re.compile()` 传入一个字符串值，表示正则表达式，它将返回一个 Regex 模式对象.\n",
    "- 回忆第6章，在字符串前面加`r`表示该字符串是原始字符串，里面的`\\`并不是转义字符. 如果不加 `r`，那么将写成 `re.compile('\\\\d\\\\d\\\\d-\\\\d\\\\d\\\\d-\\\\d\\\\d\\\\d\\\\d')`\n",
    "\n",
    "Regex 对象的 `search()` 方法，能够查找传入的字符串中，所有符合该正则表达式的匹配。\n",
    "\n",
    "如果字符串中没有找到该正则表达式模式，`search()` 方法将返回 None。\n",
    "\n",
    "如果找到了该模式， `search()` 方法将返回一个 Match 对象。Match 对象有一个 `group()` 方法，它返回被查找字符串中实际匹配的文本（稍后解释）。"
   ]
  },
  {
   "cell_type": "code",
   "execution_count": 3,
   "id": "c2810bbd",
   "metadata": {},
   "outputs": [
    {
     "name": "stdout",
     "output_type": "stream",
     "text": [
      "Phone number found: 415-555-4242\n"
     ]
    }
   ],
   "source": [
    "mo = phoneNumRegex.search('My number is 415-555-4242.')\n",
    "print('Phone number found: ' + mo.group())"
   ]
  },
  {
   "cell_type": "markdown",
   "id": "7ddbf3f0",
   "metadata": {},
   "source": [
    "**总结使用正则表达式有几个步骤：**\n",
    "\n",
    "1. 用 `import re` 导入正则表达式模块。 \n",
    "2. 用 `re.compile()`函数创建一个 Regex 对象（记得使用原始字符串）。\n",
    "3. 向 Regex 对象的 `search()` 方法传入想查找的字符串。它返回一个 Match 对象。 \n",
    "4. 调用 Match 对象的 `group()`方法，返回实际匹配文本的字符串。"
   ]
  },
  {
   "cell_type": "markdown",
   "id": "bf43ce15",
   "metadata": {},
   "source": [
    "# 利用括号分组\n",
    "\n",
    "1. 添加括号将在正则表达式中创建“分组”： (\\d\\d\\d)-(\\d\\d\\d-\\d\\d\\d\\d)\n",
    "2. 第一对括号是第 1 组。第二对括号是第 2 组。向 group() 匹配对象方法传入整数 1 或 2，就可以取得匹配文本的不同部分。向 group()方法传 入 0 或不传入参数 ，将返回整个匹配的文本。\n",
    "\n",
    "**注意**\n",
    "\n",
    "1. 括号`()`在正则表达式中有特殊的含义，但是如果你需要在文本中匹配括号`()`，那么就需要用倒斜杠对`(`和`)`进行字符转义。\n",
    "2. 如果正则表达式中没有分组，那么命令 `group(1)` 会出错，`groups()` 会返回空的元组。"
   ]
  },
  {
   "cell_type": "code",
   "execution_count": 4,
   "id": "58af3813",
   "metadata": {},
   "outputs": [
    {
     "data": {
      "text/plain": [
       "'415'"
      ]
     },
     "execution_count": 4,
     "metadata": {},
     "output_type": "execute_result"
    }
   ],
   "source": [
    "phoneNumRegex = re.compile(r'(\\d\\d\\d)-(\\d\\d\\d-\\d\\d\\d\\d)')\n",
    "mo = phoneNumRegex.search('My number is 415-555-4242.')\n",
    "mo.group(1)"
   ]
  },
  {
   "cell_type": "code",
   "execution_count": 5,
   "id": "8e9a3875",
   "metadata": {},
   "outputs": [
    {
     "data": {
      "text/plain": [
       "'555-4242'"
      ]
     },
     "execution_count": 5,
     "metadata": {},
     "output_type": "execute_result"
    }
   ],
   "source": [
    "mo.group(2)"
   ]
  },
  {
   "cell_type": "code",
   "execution_count": 6,
   "id": "1230d2a5",
   "metadata": {},
   "outputs": [
    {
     "data": {
      "text/plain": [
       "'415-555-4242'"
      ]
     },
     "execution_count": 6,
     "metadata": {},
     "output_type": "execute_result"
    }
   ],
   "source": [
    "mo.group()"
   ]
  },
  {
   "cell_type": "markdown",
   "id": "e3fbae1b",
   "metadata": {},
   "source": [
    "如果想要一次就获取所有的分组，请使用 groups()方法，返回多个值的元组。"
   ]
  },
  {
   "cell_type": "code",
   "execution_count": 7,
   "id": "225689fd",
   "metadata": {},
   "outputs": [
    {
     "data": {
      "text/plain": [
       "('415', '555-4242')"
      ]
     },
     "execution_count": 7,
     "metadata": {},
     "output_type": "execute_result"
    }
   ],
   "source": [
    "mo.groups()"
   ]
  },
  {
   "cell_type": "markdown",
   "id": "210a6d5f",
   "metadata": {},
   "source": [
    "# 用管道匹配多个分组\n",
    "\n",
    "字符`|`称为管道。例如 `r'Batman|Tina Fey'` 将匹配 `Batman` 或 `Tina Fey`。如果两者都在被查找的字符串中，则返回第一次出现的作为 Match 对象返回。"
   ]
  },
  {
   "cell_type": "code",
   "execution_count": 8,
   "id": "f78eb00f",
   "metadata": {},
   "outputs": [
    {
     "data": {
      "text/plain": [
       "'Batman'"
      ]
     },
     "execution_count": 8,
     "metadata": {},
     "output_type": "execute_result"
    }
   ],
   "source": [
    "heroRegex = re.compile(r'Batman|Tina Fey')\n",
    "mo1 = heroRegex.search('Batman and Tina Fey')\n",
    "mo1.group()"
   ]
  },
  {
   "cell_type": "code",
   "execution_count": 9,
   "id": "353ce2ec",
   "metadata": {},
   "outputs": [
    {
     "ename": "IndexError",
     "evalue": "no such group",
     "output_type": "error",
     "traceback": [
      "\u001b[0;31m---------------------------------------------------------------------------\u001b[0m",
      "\u001b[0;31mIndexError\u001b[0m                                Traceback (most recent call last)",
      "\u001b[0;32m/var/folders/0s/vp6102qx53d1ktkfr7t2_xk00000gn/T/ipykernel_82041/1012058834.py\u001b[0m in \u001b[0;36m<module>\u001b[0;34m\u001b[0m\n\u001b[0;32m----> 1\u001b[0;31m \u001b[0mmo1\u001b[0m\u001b[0;34m.\u001b[0m\u001b[0mgroup\u001b[0m\u001b[0;34m(\u001b[0m\u001b[0;36m1\u001b[0m\u001b[0;34m)\u001b[0m\u001b[0;34m\u001b[0m\u001b[0;34m\u001b[0m\u001b[0m\n\u001b[0m",
      "\u001b[0;31mIndexError\u001b[0m: no such group"
     ]
    }
   ],
   "source": [
    "mo1.group(1)"
   ]
  },
  {
   "cell_type": "code",
   "execution_count": 10,
   "id": "c9fc0d1f",
   "metadata": {},
   "outputs": [
    {
     "data": {
      "text/plain": [
       "()"
      ]
     },
     "execution_count": 10,
     "metadata": {},
     "output_type": "execute_result"
    }
   ],
   "source": [
    "mo1.groups() #因为正则表达式中没有用括号分组，所有返回空的元组。"
   ]
  },
  {
   "cell_type": "code",
   "execution_count": 11,
   "id": "03c8daf8",
   "metadata": {},
   "outputs": [
    {
     "data": {
      "text/plain": [
       "'Batmobile'"
      ]
     },
     "execution_count": 11,
     "metadata": {},
     "output_type": "execute_result"
    }
   ],
   "source": [
    "batRegex = re.compile(r'Bat(man|mobile|copter|bat)')\n",
    "mo = batRegex.search('Batmobile lost a wheel')\n",
    "mo.group()"
   ]
  },
  {
   "cell_type": "code",
   "execution_count": 12,
   "id": "33e30082",
   "metadata": {},
   "outputs": [
    {
     "data": {
      "text/plain": [
       "'mobile'"
      ]
     },
     "execution_count": 12,
     "metadata": {},
     "output_type": "execute_result"
    }
   ],
   "source": [
    "mo.group(1)"
   ]
  },
  {
   "cell_type": "code",
   "execution_count": 13,
   "id": "76081079",
   "metadata": {},
   "outputs": [
    {
     "data": {
      "text/plain": [
       "('mobile',)"
      ]
     },
     "execution_count": 13,
     "metadata": {},
     "output_type": "execute_result"
    }
   ],
   "source": [
    "mo.groups()"
   ]
  },
  {
   "cell_type": "markdown",
   "id": "d0b4b767",
   "metadata": {},
   "source": [
    "# 用问号实现可选匹配"
   ]
  },
  {
   "cell_type": "code",
   "execution_count": 14,
   "id": "adb5519b",
   "metadata": {},
   "outputs": [
    {
     "data": {
      "text/plain": [
       "'Batman'"
      ]
     },
     "execution_count": 14,
     "metadata": {},
     "output_type": "execute_result"
    }
   ],
   "source": [
    "batRegex = re.compile(r'Bat(wo)?man')\n",
    "mo1 = batRegex.search('The Adventures of Batman')\n",
    "mo1.group()"
   ]
  },
  {
   "cell_type": "code",
   "execution_count": 25,
   "id": "43688212",
   "metadata": {},
   "outputs": [
    {
     "data": {
      "text/plain": [
       "(None,)"
      ]
     },
     "execution_count": 25,
     "metadata": {},
     "output_type": "execute_result"
    }
   ],
   "source": [
    "mo1.groups()"
   ]
  },
  {
   "cell_type": "code",
   "execution_count": 17,
   "id": "537f532f",
   "metadata": {},
   "outputs": [
    {
     "data": {
      "text/plain": [
       "True"
      ]
     },
     "execution_count": 17,
     "metadata": {},
     "output_type": "execute_result"
    }
   ],
   "source": [
    "mo1.group(1) == None"
   ]
  },
  {
   "cell_type": "code",
   "execution_count": 18,
   "id": "5c5f3686",
   "metadata": {},
   "outputs": [
    {
     "data": {
      "text/plain": [
       "'Batwoman'"
      ]
     },
     "execution_count": 18,
     "metadata": {},
     "output_type": "execute_result"
    }
   ],
   "source": [
    "mo2 = batRegex.search('The Adventures of Batwoman')\n",
    "mo2.group()"
   ]
  },
  {
   "cell_type": "code",
   "execution_count": 19,
   "id": "52d772f7",
   "metadata": {},
   "outputs": [
    {
     "data": {
      "text/plain": [
       "'wo'"
      ]
     },
     "execution_count": 19,
     "metadata": {},
     "output_type": "execute_result"
    }
   ],
   "source": [
    "mo2.group(1)"
   ]
  },
  {
   "cell_type": "code",
   "execution_count": 20,
   "id": "4d7f89e4",
   "metadata": {},
   "outputs": [
    {
     "data": {
      "text/plain": [
       "('wo',)"
      ]
     },
     "execution_count": 20,
     "metadata": {},
     "output_type": "execute_result"
    }
   ],
   "source": [
    "mo2.groups()"
   ]
  },
  {
   "cell_type": "markdown",
   "id": "fa90cb8a",
   "metadata": {},
   "source": [
    "# 用星号匹配零次或多次"
   ]
  },
  {
   "cell_type": "code",
   "execution_count": 21,
   "id": "8f355855",
   "metadata": {},
   "outputs": [
    {
     "data": {
      "text/plain": [
       "'Batwowowowoman'"
      ]
     },
     "execution_count": 21,
     "metadata": {},
     "output_type": "execute_result"
    }
   ],
   "source": [
    "batRegex = re.compile(r'Bat(wo)*man')\n",
    "mo3 = batRegex.search('The Adventures of Batwowowowoman and Batwoman')\n",
    "mo3.group()"
   ]
  },
  {
   "cell_type": "code",
   "execution_count": 22,
   "id": "6671ce76",
   "metadata": {},
   "outputs": [
    {
     "data": {
      "text/plain": [
       "'wo'"
      ]
     },
     "execution_count": 22,
     "metadata": {},
     "output_type": "execute_result"
    }
   ],
   "source": [
    "mo3.group(1)"
   ]
  },
  {
   "cell_type": "code",
   "execution_count": 23,
   "id": "369313e7",
   "metadata": {},
   "outputs": [
    {
     "data": {
      "text/plain": [
       "('wo',)"
      ]
     },
     "execution_count": 23,
     "metadata": {},
     "output_type": "execute_result"
    }
   ],
   "source": [
    "mo3.groups()"
   ]
  },
  {
   "cell_type": "markdown",
   "id": "83ebe0f2",
   "metadata": {},
   "source": [
    "# 用加号匹配一次或多次"
   ]
  },
  {
   "cell_type": "code",
   "execution_count": 24,
   "id": "5011ed46",
   "metadata": {},
   "outputs": [
    {
     "data": {
      "text/plain": [
       "'Batwowowoman'"
      ]
     },
     "execution_count": 24,
     "metadata": {},
     "output_type": "execute_result"
    }
   ],
   "source": [
    "batRegex = re.compile(r'Bat(wo)+man')\n",
    "mo1 = batRegex.search('The adventures of Batman and Batwowowoman')\n",
    "mo1.group()"
   ]
  },
  {
   "cell_type": "code",
   "execution_count": 49,
   "id": "0cf9b7d2",
   "metadata": {},
   "outputs": [
    {
     "data": {
      "text/plain": [
       "True"
      ]
     },
     "execution_count": 49,
     "metadata": {},
     "output_type": "execute_result"
    }
   ],
   "source": [
    "mo2 = batRegex.search('The adventures of Batman')\n",
    "mo2 == None"
   ]
  },
  {
   "cell_type": "markdown",
   "id": "2f70f997",
   "metadata": {},
   "source": [
    "# 用花括号匹配特定次数\n",
    "\n",
    "例如 \n",
    "- `(Ha){3}` 将匹配字符串 `HaHaHa`，但不匹配 `HaHa`.\n",
    "- `(Ha){3,5}` 将匹配字符串`HaHaHa`、`HaHaHaHa` 和`HaHaHaHaHa`.\n",
    "- `(Ha){3,}` 将匹配字符串`Ha`至少连续出现3次或以上.\n",
    "- `(Ha){,5}` 将匹配字符串`Ha`至少连续出现0次到5次."
   ]
  },
  {
   "cell_type": "code",
   "execution_count": 55,
   "id": "8fc4c2bb",
   "metadata": {},
   "outputs": [
    {
     "data": {
      "text/plain": [
       "'HaHaHa'"
      ]
     },
     "execution_count": 55,
     "metadata": {},
     "output_type": "execute_result"
    }
   ],
   "source": [
    "haRegex = re.compile(r'(Ha){3,5}')\n",
    "mo1 = haRegex.search('HaHa and HaHaHa and HaHaHaHa and HaHaHaHaHa and HaHaHaHaHaHa')\n",
    "mo1.group()"
   ]
  },
  {
   "cell_type": "code",
   "execution_count": 56,
   "id": "d4f4a473",
   "metadata": {},
   "outputs": [
    {
     "data": {
      "text/plain": [
       "('Ha',)"
      ]
     },
     "execution_count": 56,
     "metadata": {},
     "output_type": "execute_result"
    }
   ],
   "source": [
    "mo1.groups()"
   ]
  },
  {
   "cell_type": "code",
   "execution_count": 57,
   "id": "bd0fa243",
   "metadata": {},
   "outputs": [
    {
     "data": {
      "text/plain": [
       "'Ha'"
      ]
     },
     "execution_count": 57,
     "metadata": {},
     "output_type": "execute_result"
    }
   ],
   "source": [
    "mo1.group(1) #注意运行 mo1.group(2)则出错"
   ]
  },
  {
   "cell_type": "markdown",
   "id": "f09d0fba",
   "metadata": {},
   "source": [
    "# 贪心和非贪心匹配"
   ]
  },
  {
   "cell_type": "code",
   "execution_count": 58,
   "id": "dd62a0cb",
   "metadata": {},
   "outputs": [
    {
     "data": {
      "text/plain": [
       "'HaHaHaHaHa'"
      ]
     },
     "execution_count": 58,
     "metadata": {},
     "output_type": "execute_result"
    }
   ],
   "source": [
    "haRegex = re.compile(r'(Ha){3,5}')\n",
    "mo1 = haRegex.search('HaHaHaHaHaHaHaHaHaHaHa')\n",
    "mo1.group()"
   ]
  },
  {
   "cell_type": "code",
   "execution_count": 60,
   "id": "0008c986",
   "metadata": {},
   "outputs": [
    {
     "data": {
      "text/plain": [
       "'HaHaHa'"
      ]
     },
     "execution_count": 60,
     "metadata": {},
     "output_type": "execute_result"
    }
   ],
   "source": [
    "haRegex = re.compile(r'(Ha){3,5}?') # 加了 ? 表示用非贪心匹配，不加默认用贪心匹配。\n",
    "mo1 = haRegex.search('HaHaHaHaHaHaHaHaHaHaHa')\n",
    "mo1.group()"
   ]
  },
  {
   "cell_type": "markdown",
   "id": "1e8a93ac",
   "metadata": {},
   "source": [
    "# findall() 方法\n",
    "\n",
    "\n",
    "除了 search 方法外，Regex 对象也有一个 findall()方法\n",
    "\n",
    "- search()将返回一个 Match 对象，包含被查找字符串中的“第一次”匹配的文本，后面出现的匹配不再查找。\n",
    "- findall()方法将返回由字符串组成的列表，包含被查找字符串中的所有匹配。\n",
    "\n",
    "**注意**\n",
    "\n",
    "- 当正则表达式中无分组时，findall() 返回一个字符串的列表\n",
    "- 当正则表达式中有分组时，findall() 返回一个字符串元组的列表。"
   ]
  },
  {
   "cell_type": "code",
   "execution_count": 25,
   "id": "50694ec2",
   "metadata": {},
   "outputs": [
    {
     "data": {
      "text/plain": [
       "'415-555-9999'"
      ]
     },
     "execution_count": 25,
     "metadata": {},
     "output_type": "execute_result"
    }
   ],
   "source": [
    "phoneNumRegex = re.compile(r'\\d\\d\\d-\\d\\d\\d-\\d\\d\\d\\d')\n",
    "mo = phoneNumRegex.search('Cell: 415-555-9999, work: 212-555-0000')\n",
    "mo.group()"
   ]
  },
  {
   "cell_type": "code",
   "execution_count": 62,
   "id": "b27eea71",
   "metadata": {},
   "outputs": [
    {
     "data": {
      "text/plain": [
       "['415-555-9999', '212-555-0000']"
      ]
     },
     "execution_count": 62,
     "metadata": {},
     "output_type": "execute_result"
    }
   ],
   "source": [
    "phoneNumRegex.findall('Cell: 415-555-9999, work: 212-555-0000')"
   ]
  },
  {
   "cell_type": "code",
   "execution_count": 63,
   "id": "f587be0c",
   "metadata": {},
   "outputs": [
    {
     "data": {
      "text/plain": [
       "[('415', '555', '9999'), ('212', '555', '0000')]"
      ]
     },
     "execution_count": 63,
     "metadata": {},
     "output_type": "execute_result"
    }
   ],
   "source": [
    "phoneNumRegex = re.compile(r'(\\d\\d\\d)-(\\d\\d\\d)-(\\d\\d\\d\\d)')\n",
    "phoneNumRegex.findall('Cell: 415-555-9999, work: 212-555-0000')"
   ]
  },
  {
   "cell_type": "markdown",
   "id": "052da63a",
   "metadata": {},
   "source": [
    "# 字符分类\n",
    "\n",
    "|缩写字符分类|表示|\n",
    "|:---|:---|\n",
    "|`\\d`|0 到 9 的任何数字|\n",
    "|`\\D`|除 0 到 9 的数字以外的任何字符|\n",
    "|`\\w`|任何字母、数字或下划线字符（可以认为是匹配“单词”字符）|\n",
    "|`\\W`|除字母、数字和下划线以外的任何字符|\n",
    "|`\\s`|空格、制表符或换行符（可以认为是匹配“空白”字符）|\n",
    "|`\\S`|除空格、制表符和换行符以外的任何字符|"
   ]
  },
  {
   "cell_type": "code",
   "execution_count": 27,
   "id": "9d8fb20d",
   "metadata": {},
   "outputs": [
    {
     "data": {
      "text/plain": [
       "['12 drummers',\n",
       " '11 pipers',\n",
       " '10 lords',\n",
       " '9 ladies',\n",
       " '8 maids',\n",
       " '7 天鹅',\n",
       " '6 geese',\n",
       " '5 rings',\n",
       " '4 birds',\n",
       " '3 hens',\n",
       " '2 doves',\n",
       " '1 partridge']"
      ]
     },
     "execution_count": 27,
     "metadata": {},
     "output_type": "execute_result"
    }
   ],
   "source": [
    "xmasRegex = re.compile(r'\\d+\\s\\w+')\n",
    "xmasRegex.findall('12 drummers, 11 pipers, 10 lords, 9 ladies, 8 maids, 7 天鹅, 6 geese, 5 rings, 4 birds, 3 hens, 2 doves, 1 partridge')"
   ]
  },
  {
   "cell_type": "markdown",
   "id": "ed280dbc",
   "metadata": {},
   "source": [
    "# 建立自己的字符分类\n",
    "\n",
    "用方括号定义自己的字符分类，如：\n",
    "\n",
    "* 字符分类 `[0-5]` 只匹配数字 0 到 5，这比 输入(0|1|2|3|4|5)要短很多.\n",
    "* 字符分类 `[aeiouAEIOU]` 将匹配所有元音字符，不论大小写.\n",
    "* 字符分类 `[a-zA-Z0-9]` 将匹配所有小写字母、大写字母和数字。\n",
    "* 通过在字符分类的左方括号后加上一个插入字符（^），就可以得到“非字符类”."
   ]
  },
  {
   "cell_type": "code",
   "execution_count": 28,
   "id": "81b5da3e",
   "metadata": {},
   "outputs": [
    {
     "data": {
      "text/plain": [
       "['0', '1', '2', 'a', 'b', 'c', 'A', 'B', 'C']"
      ]
     },
     "execution_count": 28,
     "metadata": {},
     "output_type": "execute_result"
    }
   ],
   "source": [
    "strRegex = re.compile(r'[0-2a-cA-C]')\n",
    "strRegex.findall('012345, abcdef, ABCDEF')"
   ]
  },
  {
   "cell_type": "code",
   "execution_count": 29,
   "id": "1856f622",
   "metadata": {},
   "outputs": [
    {
     "data": {
      "text/plain": [
       "['3', '4', '5', ',', ' ', 'd', 'e', 'f', ',', ' ', 'D', 'E', 'F']"
      ]
     },
     "execution_count": 29,
     "metadata": {},
     "output_type": "execute_result"
    }
   ],
   "source": [
    "strRegex = re.compile(r'[^0-2a-cA-C]')\n",
    "strRegex.findall('012345, abcdef, ABCDEF')"
   ]
  },
  {
   "cell_type": "markdown",
   "id": "742333ac",
   "metadata": {},
   "source": [
    "# 插入字符和美元字符\n",
    "\n",
    "* 正则表达式的开始处使用插入符号`^`，表明匹配必须发生在被查找文本开始处。\n",
    "* 正则表达式的末尾加上美元符号，表示该字符串必 须以这个正则表达式的模式结束。\n",
    "* 同时使用^和美元号，表明整个字符串必须匹配该模式，也就是说，只匹配该字符串的某个子集是不够的。"
   ]
  },
  {
   "cell_type": "code",
   "execution_count": 30,
   "id": "3e8eefea",
   "metadata": {},
   "outputs": [
    {
     "data": {
      "text/plain": [
       "'Hello'"
      ]
     },
     "execution_count": 30,
     "metadata": {},
     "output_type": "execute_result"
    }
   ],
   "source": [
    "beginsWithHello = re.compile(r'^Hello')\n",
    "mo = beginsWithHello.search('Hello world!')\n",
    "mo.group()"
   ]
  },
  {
   "cell_type": "code",
   "execution_count": 32,
   "id": "43a1f039",
   "metadata": {},
   "outputs": [
    {
     "ename": "AttributeError",
     "evalue": "'NoneType' object has no attribute 'group'",
     "output_type": "error",
     "traceback": [
      "\u001b[0;31m---------------------------------------------------------------------------\u001b[0m",
      "\u001b[0;31mAttributeError\u001b[0m                            Traceback (most recent call last)",
      "\u001b[0;32m/var/folders/0s/vp6102qx53d1ktkfr7t2_xk00000gn/T/ipykernel_82041/547161287.py\u001b[0m in \u001b[0;36m<module>\u001b[0;34m\u001b[0m\n\u001b[1;32m      1\u001b[0m \u001b[0mmo1\u001b[0m \u001b[0;34m=\u001b[0m \u001b[0mbeginsWithHello\u001b[0m\u001b[0;34m.\u001b[0m\u001b[0msearch\u001b[0m\u001b[0;34m(\u001b[0m\u001b[0;34m'He says Hello world!'\u001b[0m\u001b[0;34m)\u001b[0m\u001b[0;34m\u001b[0m\u001b[0;34m\u001b[0m\u001b[0m\n\u001b[0;32m----> 2\u001b[0;31m \u001b[0mmo1\u001b[0m\u001b[0;34m.\u001b[0m\u001b[0mgroup\u001b[0m\u001b[0;34m(\u001b[0m\u001b[0;34m)\u001b[0m \u001b[0;34m==\u001b[0m \u001b[0;32mNone\u001b[0m\u001b[0;34m\u001b[0m\u001b[0;34m\u001b[0m\u001b[0m\n\u001b[0m",
      "\u001b[0;31mAttributeError\u001b[0m: 'NoneType' object has no attribute 'group'"
     ]
    }
   ],
   "source": [
    "mo1 = beginsWithHello.search('He says Hello world!')\n",
    "mo1.group()"
   ]
  },
  {
   "cell_type": "code",
   "execution_count": 33,
   "id": "fc393b58",
   "metadata": {},
   "outputs": [
    {
     "data": {
      "text/plain": [
       "True"
      ]
     },
     "execution_count": 33,
     "metadata": {},
     "output_type": "execute_result"
    }
   ],
   "source": [
    "mo1 == None"
   ]
  },
  {
   "cell_type": "code",
   "execution_count": 34,
   "id": "46a670db",
   "metadata": {},
   "outputs": [
    {
     "data": {
      "text/plain": [
       "<re.Match object; span=(0, 10), match='1234567890'>"
      ]
     },
     "execution_count": 34,
     "metadata": {},
     "output_type": "execute_result"
    }
   ],
   "source": [
    "wholeStringIsNum = re.compile(r'^\\d+$')\n",
    "wholeStringIsNum.search('1234567890')"
   ]
  },
  {
   "cell_type": "code",
   "execution_count": 36,
   "id": "57009473",
   "metadata": {},
   "outputs": [
    {
     "data": {
      "text/plain": [
       "'1234567890'"
      ]
     },
     "execution_count": 36,
     "metadata": {},
     "output_type": "execute_result"
    }
   ],
   "source": [
    "mo = wholeStringIsNum.search('1234567890')\n",
    "mo.group()"
   ]
  },
  {
   "cell_type": "code",
   "execution_count": 37,
   "id": "7a8a5bba",
   "metadata": {},
   "outputs": [
    {
     "data": {
      "text/plain": [
       "True"
      ]
     },
     "execution_count": 37,
     "metadata": {},
     "output_type": "execute_result"
    }
   ],
   "source": [
    "wholeStringIsNum.search('1234567890xyz') == None"
   ]
  },
  {
   "cell_type": "markdown",
   "id": "01469e2e",
   "metadata": {},
   "source": [
    "# 通配字符\n",
    "\n",
    "句点 `.` 称为通配符，匹配除了换行之外的所有字符. 要想连换行符也匹配，使用 `re.DOTALL`，后面在说明.\n",
    "\n",
    "要匹配真正的句点，就是用倒斜杠转义 `\\.`."
   ]
  },
  {
   "cell_type": "code",
   "execution_count": 38,
   "id": "77ecc2e6",
   "metadata": {},
   "outputs": [
    {
     "data": {
      "text/plain": [
       "['cat', 'hat', 'sat', 'lat', 'mat']"
      ]
     },
     "execution_count": 38,
     "metadata": {},
     "output_type": "execute_result"
    }
   ],
   "source": [
    "atRegex = re.compile(r'.at')\n",
    "atRegex.findall('The cat in the hat sat on the flat mat.')"
   ]
  },
  {
   "cell_type": "code",
   "execution_count": 39,
   "id": "3c4d3481",
   "metadata": {},
   "outputs": [
    {
     "data": {
      "text/plain": [
       "('Al', 'Sweigart')"
      ]
     },
     "execution_count": 39,
     "metadata": {},
     "output_type": "execute_result"
    }
   ],
   "source": [
    "nameRegex = re.compile(r'First Name: (.*) Last Name: (.*)')\n",
    "mo = nameRegex.search('First Name: Al Last Name: Sweigart')\n",
    "mo.groups()"
   ]
  },
  {
   "cell_type": "code",
   "execution_count": 41,
   "id": "9d345597",
   "metadata": {},
   "outputs": [
    {
     "data": {
      "text/plain": [
       "'Al'"
      ]
     },
     "execution_count": 41,
     "metadata": {},
     "output_type": "execute_result"
    }
   ],
   "source": [
    "mo.group(1)"
   ]
  },
  {
   "cell_type": "code",
   "execution_count": 42,
   "id": "9de5f581",
   "metadata": {},
   "outputs": [
    {
     "data": {
      "text/plain": [
       "'Sweigart'"
      ]
     },
     "execution_count": 42,
     "metadata": {},
     "output_type": "execute_result"
    }
   ],
   "source": [
    "mo.group(2)"
   ]
  },
  {
   "cell_type": "markdown",
   "id": "f85f39f8",
   "metadata": {},
   "source": [
    "回忆加 `?` 表示“非贪心”模式，不加表示“贪心”模式."
   ]
  },
  {
   "cell_type": "code",
   "execution_count": 43,
   "id": "6a71a319",
   "metadata": {},
   "outputs": [
    {
     "data": {
      "text/plain": [
       "'<To serve man>'"
      ]
     },
     "execution_count": 43,
     "metadata": {},
     "output_type": "execute_result"
    }
   ],
   "source": [
    "nongreedyRegex = re.compile(r'<.*?>')\n",
    "mo = nongreedyRegex.search('<To serve man> for dinner.>')\n",
    "mo.group()"
   ]
  },
  {
   "cell_type": "code",
   "execution_count": 44,
   "id": "078a261d",
   "metadata": {},
   "outputs": [
    {
     "data": {
      "text/plain": [
       "'<To serve man> for dinner.>'"
      ]
     },
     "execution_count": 44,
     "metadata": {},
     "output_type": "execute_result"
    }
   ],
   "source": [
    "nongreedyRegex = re.compile(r'<.*>')\n",
    "mo = nongreedyRegex.search('<To serve man> for dinner.>')\n",
    "mo.group()"
   ]
  },
  {
   "cell_type": "markdown",
   "id": "1b1a76a3",
   "metadata": {},
   "source": [
    "## 使得句点符也匹配换行符\n",
    "\n",
    "通过传入 `re.DOTALL` 作为 `re.compile()` 的第二个参数，可以让句点字符匹配所有字符，包括换行字符."
   ]
  },
  {
   "cell_type": "code",
   "execution_count": 45,
   "id": "e751367d",
   "metadata": {},
   "outputs": [
    {
     "data": {
      "text/plain": [
       "'Serve the public trust.'"
      ]
     },
     "execution_count": 45,
     "metadata": {},
     "output_type": "execute_result"
    }
   ],
   "source": [
    "noNewlineRegex = re.compile(r'.*')\n",
    "noNewlineRegex.search('Serve the public trust.\\nProtect the innocent. \\nUphold the law.').group()"
   ]
  },
  {
   "cell_type": "code",
   "execution_count": 46,
   "id": "a8f6e888",
   "metadata": {},
   "outputs": [
    {
     "data": {
      "text/plain": [
       "'Serve the public trust.\\nProtect the innocent. \\nUphold the law.'"
      ]
     },
     "execution_count": 46,
     "metadata": {},
     "output_type": "execute_result"
    }
   ],
   "source": [
    "NewlineRegex = re.compile(r'.*', re.DOTALL)\n",
    "NewlineRegex.search('Serve the public trust.\\nProtect the innocent. \\nUphold the law.').group()"
   ]
  },
  {
   "cell_type": "markdown",
   "id": "c9f05ad5",
   "metadata": {},
   "source": [
    "# 不区分大小写的匹配\n",
    "\n",
    "向 `re.compile()` 传入 `re.IGNORECASE` 或 `re.I`，作为第二个参数，可以使得正则表达式不区分大小写."
   ]
  },
  {
   "cell_type": "code",
   "execution_count": 47,
   "id": "31037ee1",
   "metadata": {},
   "outputs": [
    {
     "data": {
      "text/plain": [
       "'RoboCop'"
      ]
     },
     "execution_count": 47,
     "metadata": {},
     "output_type": "execute_result"
    }
   ],
   "source": [
    "robocop = re.compile(r'robocop', re.I)\n",
    "robocop.search('RoboCop is part man, part machine, all cop.').group()"
   ]
  },
  {
   "cell_type": "markdown",
   "id": "3efa1b31",
   "metadata": {},
   "source": [
    "# sub() 方法替换字符串\n",
    "\n",
    "Regex 对象的 sub() 方法需要传入两个参数：\n",
    "* 第一个参数是一个字符串，用于取代发现的匹配。\n",
    "* 第二个参数是一个用于匹配的字符串文本。\n",
    "\n",
    "sub()方法返回替换完成后的字符串。"
   ]
  },
  {
   "cell_type": "code",
   "execution_count": 50,
   "id": "9f57a2af",
   "metadata": {},
   "outputs": [
    {
     "data": {
      "text/plain": [
       "'Agent **** gave the secret documents to Agent ****.'"
      ]
     },
     "execution_count": 50,
     "metadata": {},
     "output_type": "execute_result"
    }
   ],
   "source": [
    "namesRegex = re.compile(r'Agent \\w+')\n",
    "namesRegex.sub('Agent ****', 'Agent Alice gave the secret documents to Agent Bob.')"
   ]
  },
  {
   "cell_type": "markdown",
   "id": "8332c286",
   "metadata": {},
   "source": [
    "当需要使用匹配的文本本身作为替换的一部分时，可以这样做：\n",
    "* 对 re.compile 的正则表达式加括号分组。\n",
    "* 在 sub()的第一个参数中，可以输入\\1、\\2、\\3……，表示“在替换中输入分组 1、2、3……的文本”。"
   ]
  },
  {
   "cell_type": "code",
   "execution_count": 51,
   "id": "4119c366",
   "metadata": {},
   "outputs": [
    {
     "data": {
      "text/plain": [
       "'Agent A**** told Agent C**** that Agent E**** knew Agent B**** was a double agent.'"
      ]
     },
     "execution_count": 51,
     "metadata": {},
     "output_type": "execute_result"
    }
   ],
   "source": [
    "agentNamesRegex = re.compile(r'(Agent \\w)\\w*')\n",
    "agentNamesRegex.sub(r'\\1****', 'Agent Alice told Agent Carol that Agent Eve knew Agent Bob was a double agent.')"
   ]
  },
  {
   "cell_type": "markdown",
   "id": "b320b226",
   "metadata": {},
   "source": [
    "# 管理复杂的正则表达式\n",
    "\n",
    "匹配复杂的文本模式时，最好在正则表达式字符串中增加适当的空白符和注释，以便于阅读。为了让 re.compile() 忽略这些空白符和注释（不认为是正则表达式的一部分），要向 re.compile() 传入变量 re.VERBOSE，作为第二个参数。\n",
    "\n",
    "下面这个正则表达式难以阅读："
   ]
  },
  {
   "cell_type": "code",
   "execution_count": 52,
   "id": "de9b641c",
   "metadata": {},
   "outputs": [],
   "source": [
    "phoneRegex = re.compile(r'((\\d{3}|\\(\\d{3}\\))?(\\s|-|\\.)?\\d{3}(\\s|-|\\.)\\d{4}(\\s*(ext|x|ext.)\\s*\\d{2,5})?)')"
   ]
  },
  {
   "cell_type": "markdown",
   "id": "f890287b",
   "metadata": {},
   "source": [
    "如果写成多行，并加上注释，则方便阅读："
   ]
  },
  {
   "cell_type": "code",
   "execution_count": 54,
   "id": "3a41439d",
   "metadata": {},
   "outputs": [],
   "source": [
    "phoneRegex = re.compile(r'''(\n",
    "    (\\d{3}|\\(\\d{3}\\))?               # area code\n",
    "    (\\s|-|\\.)?                       # separator\n",
    "    (\\d{3})                          # first 3 digits\n",
    "    (\\s|-|\\.)                        # separator\n",
    "    (\\d{4})                          # last 4 digits\n",
    "    (\\s*(ext|x|ext.)\\s*\\d{2,5})?     # extension\n",
    ")''', re.VERBOSE)"
   ]
  },
  {
   "cell_type": "markdown",
   "id": "bc9570fc",
   "metadata": {},
   "source": [
    "# 组合使用 re.IGNORECASE, re.DOTALL 和 re.VERBOSE\n",
    "\n",
    "由于 re.compile()函数只接受一个值作为它的第二参数，所以不能同时使用上述多个参数。但可以使用管道字符（`|`）将变量组合起来，从而绕过这个限制。管道字符在这里称为“按位或”操作符。\n",
    "\n",
    "例如，如果希望正则表达式不区分大小写，并且句点字符匹配换行，就可以这样构造 re.compile()调用："
   ]
  },
  {
   "cell_type": "code",
   "execution_count": 55,
   "id": "65c8e63f",
   "metadata": {},
   "outputs": [],
   "source": [
    "someRegexValue = re.compile('foo', re.IGNORECASE | re.DOTALL)"
   ]
  },
  {
   "cell_type": "markdown",
   "id": "c7fdd326",
   "metadata": {},
   "source": [
    "# 项目：电话号码和 E-mail 地址提取程序\n",
    "\n",
    "任务：\n",
    "* 从剪贴板取得文本。 \n",
    "* 找出文本中所有的电话号码和 E-mail 地址。 \n",
    "* 将它们粘贴到剪贴板。\n",
    "\n",
    "大致想法：\n",
    "\n",
    "```python\n",
    "\n",
    "# TODO: Create phone regex\n",
    "\n",
    "# TODO: Create email regex\n",
    "\n",
    "# TODO: Find matches in clipboard text.\n",
    "\n",
    "# TODO: Copy results to the clipboard.\n",
    "\n",
    "```"
   ]
  },
  {
   "cell_type": "code",
   "execution_count": 69,
   "id": "bc88f581",
   "metadata": {},
   "outputs": [],
   "source": [
    "import pyperclip, re"
   ]
  },
  {
   "cell_type": "markdown",
   "id": "4052449b",
   "metadata": {},
   "source": [
    "创建电话号码的正则表达式："
   ]
  },
  {
   "cell_type": "code",
   "execution_count": 74,
   "id": "5567e11c",
   "metadata": {},
   "outputs": [],
   "source": [
    "phoneRegex = re.compile(r'''(\n",
    "    (\\d{3}|\\(\\d{3}\\))?               # area code\n",
    "    (\\s|-|\\.)?                       # separator\n",
    "    (\\d{3})                          # first 3 digits\n",
    "    (\\s|-|\\.)                        # separator\n",
    "    (\\d{4})                          # last 4 digits\n",
    "    (\\s*(ext|x|ext.)\\s*(\\d{2,5}))?   # extension\n",
    ")''', re.VERBOSE)"
   ]
  },
  {
   "cell_type": "markdown",
   "id": "e87e9fd4",
   "metadata": {},
   "source": [
    "创建 E-mail 的正则表达式："
   ]
  },
  {
   "cell_type": "code",
   "execution_count": 75,
   "id": "b8262a32",
   "metadata": {},
   "outputs": [],
   "source": [
    "emailRegex = re.compile(r'''(\n",
    "    [a-zA-Z0-9._%+-]+           # username\n",
    "    @                           # @ symbol\n",
    "    [a-zA-Z0-9.-]+              # domain name\n",
    "    (\\.[a-zA-Z]{2,4})           # dot-something\n",
    ")''', re.VERBOSE)"
   ]
  },
  {
   "cell_type": "markdown",
   "id": "863842f5",
   "metadata": {},
   "source": [
    "获取剪贴板上的文本，保存成一个字符串. 例如，先复制以下的一段文本：\n",
    "\n",
    "Contact Us\n",
    "\n",
    "No Starch Press, Inc.\n",
    "245 8th Street\n",
    "San Francisco, CA 94103 USA\n",
    "Phone: 800.420.7240 or +1 415.863.9900 (9 a.m. to 5 p.m., M-F, PST)\n",
    "Fax: +1 415.863.9950\n",
    "\n",
    "Reach Us by Email\n",
    "\n",
    "    General inquiries: info@nostarch.com\n",
    "    Media requests: media@nostarch.com\n",
    "    Academic requests: academic@nostarch.com (Please see this page for academic review requests)\n",
    "    Help with your order: info@nostarch.com \n",
    "\n",
    "Reach Us on Social Media\n",
    "\n",
    "    Twitter\n",
    "    Facebook\n"
   ]
  },
  {
   "cell_type": "code",
   "execution_count": 76,
   "id": "ec4ce3f7",
   "metadata": {},
   "outputs": [],
   "source": [
    "text = str(pyperclip.paste())"
   ]
  },
  {
   "cell_type": "markdown",
   "id": "ac1e14ba",
   "metadata": {},
   "source": [
    "对该字符进行匹配，找出电话号码和电邮地址：\n",
    "\n",
    "关于分组编号：**从头阅读该正则表达式，每遇到一个左括号就计数加一。**"
   ]
  },
  {
   "cell_type": "code",
   "execution_count": 77,
   "id": "12a35eeb",
   "metadata": {},
   "outputs": [],
   "source": [
    "matches = []\n",
    "for groups in phoneRegex.findall(text):\n",
    "    phoneNum = '-'.join([groups[1], groups[3], groups[5]])\n",
    "    if groups[8] != '':\n",
    "        phoneNum += ' X' + groups[8]\n",
    "    matches.append(phoneNum)\n",
    "\n",
    "for groups in emailRegex.findall(text):\n",
    "    matches.append(groups[0])"
   ]
  },
  {
   "cell_type": "markdown",
   "id": "1e27a378",
   "metadata": {},
   "source": [
    "将找到的匹配输出终端，并复制到剪贴板："
   ]
  },
  {
   "cell_type": "code",
   "execution_count": 83,
   "id": "978b9d61",
   "metadata": {},
   "outputs": [
    {
     "name": "stdout",
     "output_type": "stream",
     "text": [
      "Copied to clipboard:\n",
      "800-420-7240\n",
      "415-863-9900\n",
      "415-863-9950\n",
      "info@nostarch.com\n",
      "media@nostarch.com\n",
      "academic@nostarch.com\n",
      "info@nostarch.com\n"
     ]
    }
   ],
   "source": [
    "if len(matches) > 0:\n",
    "    pyperclip.copy('\\n'.join(matches))\n",
    "    print('Copied to clipboard:')\n",
    "    print('\\n'.join(matches))\n",
    "else:\n",
    "    print('No phone numbers or email address found.')"
   ]
  },
  {
   "cell_type": "code",
   "execution_count": null,
   "id": "2983ddfc",
   "metadata": {},
   "outputs": [],
   "source": []
  }
 ],
 "metadata": {
  "kernelspec": {
   "display_name": "Python 3 (ipykernel)",
   "language": "python",
   "name": "python3"
  },
  "language_info": {
   "codemirror_mode": {
    "name": "ipython",
    "version": 3
   },
   "file_extension": ".py",
   "mimetype": "text/x-python",
   "name": "python",
   "nbconvert_exporter": "python",
   "pygments_lexer": "ipython3",
   "version": "3.7.6"
  }
 },
 "nbformat": 4,
 "nbformat_minor": 5
}
