{
 "cells": [
  {
   "cell_type": "markdown",
   "id": "af4f9dea",
   "metadata": {},
   "source": [
    "# If 语句\n",
    "\n",
    "If 语句后面可以加（或者不加）：elif, else\n",
    "\n",
    "**例1**\n",
    "```python\n",
    "if name == 'Alice':\n",
    "    print('Hi, Alice.')\n",
    "```\n",
    "\n",
    "**例2**\n",
    "```python\n",
    "if name == 'Alice':\n",
    "    print('Hi, Alice.')\n",
    "elif name == 'Sam':\n",
    "    print('Hi, Sam.')\n",
    "```\n",
    "\n",
    "**例3**\n",
    "```python\n",
    "if name == 'Alice':\n",
    "    print('Hi, Alice.')\n",
    "else:\n",
    "    print('You are not Alice')\n",
    "```\n",
    "\n",
    "**例4**\n",
    "```python\n",
    "if name == 'Alice':\n",
    "    print('Hi, Alice.')\n",
    "elif name == 'Sam':\n",
    "    print('Hi, Sam.')\n",
    "else:\n",
    "    print('Hello, stranger')\n",
    "```"
   ]
  },
  {
   "cell_type": "code",
   "execution_count": 1,
   "id": "5002ecc3",
   "metadata": {},
   "outputs": [],
   "source": [
    "name = 'aaa'\n",
    "if name == 'Alice':\n",
    "    print('Hi, Alice.')"
   ]
  },
  {
   "cell_type": "markdown",
   "id": "108cd3f5",
   "metadata": {},
   "source": [
    "# While 语句\n",
    "\n",
    "比较一下两个例子："
   ]
  },
  {
   "cell_type": "code",
   "execution_count": 2,
   "id": "8653a810",
   "metadata": {},
   "outputs": [
    {
     "name": "stdout",
     "output_type": "stream",
     "text": [
      "Hello, world.\n"
     ]
    }
   ],
   "source": [
    "spam = 0\n",
    "if spam < 5:\n",
    "    print('Hello, world.')\n",
    "    spam = spam + 1"
   ]
  },
  {
   "cell_type": "code",
   "execution_count": 3,
   "id": "48b5dcde",
   "metadata": {},
   "outputs": [
    {
     "name": "stdout",
     "output_type": "stream",
     "text": [
      "Hello, world.\n",
      "Hello, world.\n",
      "Hello, world.\n",
      "Hello, world.\n",
      "Hello, world.\n"
     ]
    }
   ],
   "source": [
    "spam = 0\n",
    "while spam < 5:\n",
    "    print('Hello, world.')\n",
    "    spam = spam + 1"
   ]
  },
  {
   "cell_type": "markdown",
   "id": "8f32f10e",
   "metadata": {},
   "source": [
    "while 语句中的 `break` 和 `continue`，理解下面的例子："
   ]
  },
  {
   "cell_type": "code",
   "execution_count": 4,
   "id": "751d02e8",
   "metadata": {},
   "outputs": [
    {
     "name": "stdout",
     "output_type": "stream",
     "text": [
      "Who are you?\n",
      "> kk\n",
      "名字不对\n",
      "Who are you?\n",
      "> Cheukpun\n",
      "Hello, Cheukpun. What is the password?\n",
      "> 888\n",
      "登陆成功\n"
     ]
    }
   ],
   "source": [
    "while True:\n",
    "    name = input('Who are you?\\n> ')\n",
    "    if name != 'Cheukpun':\n",
    "        print('名字不对')\n",
    "        continue   #如果名字不对，则回到开头，重来一遍（后面的命令不执行）\n",
    "    password = input('Hello, Cheukpun. What is the password?\\n> ')\n",
    "    if password == '888':\n",
    "        break\n",
    "    print('密码不对，重来一遍')\n",
    "print('登陆成功')"
   ]
  },
  {
   "cell_type": "markdown",
   "id": "1bc66412",
   "metadata": {},
   "source": [
    "# For 循环"
   ]
  },
  {
   "cell_type": "code",
   "execution_count": 5,
   "id": "23d16f6f",
   "metadata": {},
   "outputs": [
    {
     "name": "stdout",
     "output_type": "stream",
     "text": [
      "5\n"
     ]
    }
   ],
   "source": [
    "total = 0\n",
    "for i in range(5):\n",
    "    total += 1\n",
    "print(total)"
   ]
  },
  {
   "cell_type": "markdown",
   "id": "d1703594",
   "metadata": {},
   "source": [
    "`range()` 最多三个参数：开始（含）、停止（不含）、步长"
   ]
  },
  {
   "cell_type": "code",
   "execution_count": 6,
   "id": "59bdc72a",
   "metadata": {},
   "outputs": [
    {
     "name": "stdout",
     "output_type": "stream",
     "text": [
      "0\n",
      "1\n",
      "2\n",
      "3\n",
      "4\n"
     ]
    }
   ],
   "source": [
    "for i in range(5):\n",
    "    print(i)"
   ]
  },
  {
   "cell_type": "code",
   "execution_count": 7,
   "id": "c273e3d9",
   "metadata": {},
   "outputs": [
    {
     "name": "stdout",
     "output_type": "stream",
     "text": [
      "0\n",
      "1\n",
      "2\n",
      "3\n",
      "4\n"
     ]
    }
   ],
   "source": [
    "for i in range(0,5):\n",
    "    print(i)"
   ]
  },
  {
   "cell_type": "code",
   "execution_count": 8,
   "id": "79eec168",
   "metadata": {},
   "outputs": [
    {
     "name": "stdout",
     "output_type": "stream",
     "text": [
      "0\n",
      "2\n",
      "4\n"
     ]
    }
   ],
   "source": [
    "for i in range(0,5,2):\n",
    "    print(i)"
   ]
  },
  {
   "cell_type": "markdown",
   "id": "5d846daf",
   "metadata": {},
   "source": [
    "# 导入模块\n",
    "\n",
    "注意 `import` 和 `from import` 区别。"
   ]
  },
  {
   "cell_type": "code",
   "execution_count": 9,
   "id": "be3f4bbf",
   "metadata": {},
   "outputs": [
    {
     "name": "stdout",
     "output_type": "stream",
     "text": [
      "3\n",
      "1\n",
      "3\n",
      "3\n",
      "3\n"
     ]
    }
   ],
   "source": [
    "import random\n",
    "for i in range(5):\n",
    "    print(random.randint(1,3)) #生成的随机数字只有1，2，但不包括3，"
   ]
  },
  {
   "cell_type": "markdown",
   "id": "2aaa2a0b",
   "metadata": {},
   "source": [
    "使用 `from random import *` 则调用 random 模块中的函数时不需要 random.前缀"
   ]
  },
  {
   "cell_type": "code",
   "execution_count": null,
   "id": "6a38de0f",
   "metadata": {},
   "outputs": [],
   "source": []
  }
 ],
 "metadata": {
  "kernelspec": {
   "display_name": "python_learning",
   "language": "python",
   "name": "python_learning"
  },
  "language_info": {
   "codemirror_mode": {
    "name": "ipython",
    "version": 3
   },
   "file_extension": ".py",
   "mimetype": "text/x-python",
   "name": "python",
   "nbconvert_exporter": "python",
   "pygments_lexer": "ipython3",
   "version": "3.9.13"
  }
 },
 "nbformat": 4,
 "nbformat_minor": 5
}
