{
 "cells": [
  {
   "cell_type": "markdown",
   "id": "00baebcb",
   "metadata": {},
   "source": [
    "以下几个模块能使得在 Python 中抓取网页变得容易：\n",
    "\n",
    "* webbrowser：是 Python 自带的，打开浏览器获取指定页面。\n",
    "\n",
    "* requests：从因特网上下载文件和网页。\n",
    "\n",
    "* Beautiful Soup：解析 HTML，即网页编写的格式。\n",
    "\n",
    "* selenium：启动并控制一个 Web 浏览器。selenium 能够填写表单，并模拟鼠标在这个浏览器中点击。"
   ]
  },
  {
   "cell_type": "code",
   "execution_count": 1,
   "id": "8e5472e1",
   "metadata": {},
   "outputs": [],
   "source": [
    "import webbrowser"
   ]
  },
  {
   "cell_type": "code",
   "execution_count": 2,
   "id": "8de809d2",
   "metadata": {},
   "outputs": [
    {
     "data": {
      "text/plain": [
       "True"
      ]
     },
     "execution_count": 2,
     "metadata": {},
     "output_type": "execute_result"
    }
   ],
   "source": [
    "webbrowser.open('http://www.google.com')"
   ]
  },
  {
   "cell_type": "markdown",
   "id": "2e496dd6",
   "metadata": {},
   "source": [
    "## 项目：利用webbrowser模块自动进行google搜索"
   ]
  },
  {
   "cell_type": "code",
   "execution_count": 4,
   "id": "fac759fb",
   "metadata": {},
   "outputs": [
    {
     "data": {
      "text/plain": [
       "True"
      ]
     },
     "execution_count": 4,
     "metadata": {},
     "output_type": "execute_result"
    }
   ],
   "source": [
    "import webbrowser, pyperclip\n",
    "\n",
    "address = pyperclip.paste()\n",
    "\n",
    "webbrowser.open('https://www.google.com/search?q=' + address)"
   ]
  },
  {
   "cell_type": "markdown",
   "id": "7d1ea274",
   "metadata": {},
   "source": [
    "## 用 requests 模块从 Web 下载文件"
   ]
  },
  {
   "cell_type": "code",
   "execution_count": 5,
   "id": "c5d9061f",
   "metadata": {},
   "outputs": [],
   "source": [
    "import requests"
   ]
  },
  {
   "cell_type": "markdown",
   "id": "945d6aec",
   "metadata": {},
   "source": [
    "requests.get()函数接受一个要下载的 URL 字符串，返回一个 Response 对象，其中包含了 Web 服务器对你的请求做出的响应。"
   ]
  },
  {
   "cell_type": "code",
   "execution_count": 6,
   "id": "969eb8a3",
   "metadata": {},
   "outputs": [
    {
     "data": {
      "text/plain": [
       "requests.models.Response"
      ]
     },
     "execution_count": 6,
     "metadata": {},
     "output_type": "execute_result"
    }
   ],
   "source": [
    "res = requests.get('https://www.gutenberg.org/cache/epub/1112/pg1112.txt')\n",
    "type(res)"
   ]
  },
  {
   "cell_type": "markdown",
   "id": "2aaf3265",
   "metadata": {},
   "source": [
    "如果 Response 对象的 status_code 属性的值等于 requests.codes.ok，那么表示对这个网页的请求是成功的。\n",
    "\n",
    "如果请求成功，下载的页面就作为一个字符串，保存在 Response 对象的 text 变量中。"
   ]
  },
  {
   "cell_type": "code",
   "execution_count": 7,
   "id": "94b4252f",
   "metadata": {},
   "outputs": [
    {
     "data": {
      "text/plain": [
       "True"
      ]
     },
     "execution_count": 7,
     "metadata": {},
     "output_type": "execute_result"
    }
   ],
   "source": [
    "res.status_code == requests.codes.ok"
   ]
  },
  {
   "cell_type": "code",
   "execution_count": 8,
   "id": "5b413e7e",
   "metadata": {},
   "outputs": [
    {
     "data": {
      "text/plain": [
       "179380"
      ]
     },
     "execution_count": 8,
     "metadata": {},
     "output_type": "execute_result"
    }
   ],
   "source": [
    "len(res.text)"
   ]
  },
  {
   "cell_type": "code",
   "execution_count": 10,
   "id": "e4bb9426",
   "metadata": {},
   "outputs": [
    {
     "name": "stdout",
     "output_type": "stream",
     "text": [
      "﻿The Project Gutenberg EBook of Romeo and Juliet, by William Shakespeare\r\n",
      "\r\n",
      "\r\n",
      "*******************************************************************\r\n",
      "THIS EBOOK WAS ONE OF PROJECT GUTENBERG'S EARLY FILES PRODUCED AT A\r\n",
      "TIME WHEN PROOFING METHODS AND TOOLS WERE NOT WELL DEVELOPED. THERE\r\n",
      "IS AN IMPROVED EDITION OF THIS TITLE WHICH MAY BE VIEWED AS EBOOK\n"
     ]
    }
   ],
   "source": [
    "print(res.text[:350])"
   ]
  },
  {
   "cell_type": "markdown",
   "id": "8efd8e41",
   "metadata": {},
   "source": [
    "检查文件是否下载成功，也可以使用 raise_for_status() 方法。这是是一种很好的方式，确保程序在下载失败时停止"
   ]
  },
  {
   "cell_type": "code",
   "execution_count": 11,
   "id": "0812c533",
   "metadata": {},
   "outputs": [],
   "source": [
    "res.raise_for_status()"
   ]
  },
  {
   "cell_type": "markdown",
   "id": "18fbcb48",
   "metadata": {},
   "source": [
    "用标准的 open()函数和 write()方法，将 Web 页面保存到硬盘中的一 个文件。但是，这里必须用“写二进制”模式打开该文件， 即向函数传入字符串'wb'，作为 open()的第二参数。即使该页面是纯文本的也需要写入二进制数据，而不是文本数据， 目的是为了保存该文本中的“Unicode 编码”。"
   ]
  },
  {
   "cell_type": "code",
   "execution_count": 12,
   "id": "70735a85",
   "metadata": {},
   "outputs": [],
   "source": [
    "playFile = open('RomeoAndJuliet.txt', 'wb')\n",
    "for chunk in res.iter_content(1000000):\n",
    "    playFile.write(chunk)"
   ]
  },
  {
   "cell_type": "markdown",
   "id": "83c5876c",
   "metadata": {},
   "source": [
    "## 用 BeautifulSoup 模块解析 HTML\n",
    "\n",
    "BeautifulSoup 模块的名称是 bs4（表示 Beautiful Soup， 第 4 版）。虽然安装时使用的名字是 beautifulsoup4，但要导入它，就使用 import bs4。"
   ]
  },
  {
   "cell_type": "code",
   "execution_count": 22,
   "id": "6a00eed0",
   "metadata": {},
   "outputs": [],
   "source": [
    "import requests, bs4\n",
    "res = requests.get('https://nostarch.com/')\n",
    "res.raise_for_status()"
   ]
  },
  {
   "cell_type": "code",
   "execution_count": 23,
   "id": "db478a15",
   "metadata": {},
   "outputs": [],
   "source": [
    "noStarchSoup = bs4.BeautifulSoup(res.text)"
   ]
  },
  {
   "cell_type": "code",
   "execution_count": 24,
   "id": "d9f103fa",
   "metadata": {},
   "outputs": [],
   "source": [
    "res.raise_for_status()"
   ]
  },
  {
   "cell_type": "code",
   "execution_count": 25,
   "id": "9ce8a536",
   "metadata": {},
   "outputs": [
    {
     "data": {
      "text/plain": [
       "62503"
      ]
     },
     "execution_count": 25,
     "metadata": {},
     "output_type": "execute_result"
    }
   ],
   "source": [
    "len(res.text)"
   ]
  },
  {
   "cell_type": "code",
   "execution_count": 26,
   "id": "a2c3844c",
   "metadata": {},
   "outputs": [
    {
     "name": "stdout",
     "output_type": "stream",
     "text": [
      "<!DOCTYPE html>\n",
      "<html lang=\"en\" dir=\"ltr\" xmlns:og=\"http://ogp.me/ns#\">\n",
      "<head>\n",
      "<script src=\"/cdn-cgi/apps/head/j5v88GAcO1Pymf91CQYvgLZqNao.js\"></script><link rel=\"profile\" href=\"https://www.w3.org/1999/xhtml/vocab\" />\n",
      "<meta name=\"viewport\" content=\"width=device-width, initial-scale=1.0\">\n",
      "<meta http-equiv=\"Content-Type\" content=\"text/html; charset=utf-8\" />\n",
      "<link rel=\"shortcut icon\" href=\"https://nostarch.com/sites/default/files/favicon.ico\" type=\"image/vnd.microsoft.icon\" />\n",
      "<meta name=\"generato\n"
     ]
    }
   ],
   "source": [
    "print(res.text[:500])"
   ]
  },
  {
   "cell_type": "code",
   "execution_count": 39,
   "id": "2a5f2868",
   "metadata": {},
   "outputs": [
    {
     "data": {
      "text/plain": [
       "39"
      ]
     },
     "execution_count": 39,
     "metadata": {},
     "output_type": "execute_result"
    }
   ],
   "source": [
    "pElems = noStarchSoup.select('span')\n",
    "len(pElems)"
   ]
  },
  {
   "cell_type": "code",
   "execution_count": 43,
   "id": "1180c10d",
   "metadata": {},
   "outputs": [
    {
     "data": {
      "text/plain": [
       "<span class=\"btn-text\">Topics</span>"
      ]
     },
     "execution_count": 43,
     "metadata": {},
     "output_type": "execute_result"
    }
   ],
   "source": [
    "pElems[5]"
   ]
  },
  {
   "cell_type": "code",
   "execution_count": 45,
   "id": "3f082a88",
   "metadata": {},
   "outputs": [
    {
     "data": {
      "text/plain": [
       "['btn-text']"
      ]
     },
     "execution_count": 45,
     "metadata": {},
     "output_type": "execute_result"
    }
   ],
   "source": [
    "pElems[5].get('class')"
   ]
  },
  {
   "cell_type": "code",
   "execution_count": 46,
   "id": "a02c3672",
   "metadata": {},
   "outputs": [
    {
     "data": {
      "text/plain": [
       "{'class': ['btn-text']}"
      ]
     },
     "execution_count": 46,
     "metadata": {},
     "output_type": "execute_result"
    }
   ],
   "source": [
    "pElems[5].attrs"
   ]
  },
  {
   "cell_type": "code",
   "execution_count": null,
   "id": "3b171ad5",
   "metadata": {},
   "outputs": [],
   "source": []
  }
 ],
 "metadata": {
  "kernelspec": {
   "display_name": "Python 3 (ipykernel)",
   "language": "python",
   "name": "python3"
  },
  "language_info": {
   "codemirror_mode": {
    "name": "ipython",
    "version": 3
   },
   "file_extension": ".py",
   "mimetype": "text/x-python",
   "name": "python",
   "nbconvert_exporter": "python",
   "pygments_lexer": "ipython3",
   "version": "3.7.6"
  }
 },
 "nbformat": 4,
 "nbformat_minor": 5
}
