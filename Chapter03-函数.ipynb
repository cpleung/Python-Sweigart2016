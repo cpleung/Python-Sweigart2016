{
 "cells": [
  {
   "cell_type": "markdown",
   "id": "72c75f3c",
   "metadata": {},
   "source": [
    "# 函数\n",
    "\n",
    "在幕后，对于所有没有 return 语句的函数定义，Python 都会在末尾加上 return None."
   ]
  },
  {
   "cell_type": "code",
   "execution_count": 1,
   "id": "d20daa3d",
   "metadata": {},
   "outputs": [
    {
     "name": "stdout",
     "output_type": "stream",
     "text": [
      "Hello cp!\n"
     ]
    }
   ],
   "source": [
    "def Hello(name):\n",
    "    print('Hello ' + name +'!')\n",
    "    \n",
    "name = 'cp'\n",
    "eggs = Hello(name)"
   ]
  },
  {
   "cell_type": "code",
   "execution_count": 2,
   "id": "d4386c4a",
   "metadata": {},
   "outputs": [
    {
     "data": {
      "text/plain": [
       "True"
      ]
     },
     "execution_count": 2,
     "metadata": {},
     "output_type": "execute_result"
    }
   ],
   "source": [
    "eggs == None"
   ]
  },
  {
   "cell_type": "markdown",
   "id": "9f32ff15",
   "metadata": {},
   "source": [
    "# print 函数"
   ]
  },
  {
   "cell_type": "markdown",
   "id": "47051e57",
   "metadata": {},
   "source": [
    "`print` 有两个参数 `end` 和 `sep`.\n",
    "省缺 `end` 时，打印出来的字符串默认以换行符为末尾."
   ]
  },
  {
   "cell_type": "code",
   "execution_count": 5,
   "id": "7711f86f",
   "metadata": {},
   "outputs": [
    {
     "name": "stdout",
     "output_type": "stream",
     "text": [
      "Hello\n",
      "Kate.\n",
      "Hello Kate.\n"
     ]
    }
   ],
   "source": [
    "print('Hello')\n",
    "print('Kate.')\n",
    "\n",
    "print('Hello', end=' ')\n",
    "print('Kate.')"
   ]
  },
  {
   "cell_type": "code",
   "execution_count": 6,
   "id": "e3df7efe",
   "metadata": {},
   "outputs": [
    {
     "name": "stdout",
     "output_type": "stream",
     "text": [
      "a b c\n",
      "a*b*c\n"
     ]
    }
   ],
   "source": [
    "print('a', 'b', 'c')\n",
    "print('a', 'b', 'c', sep='*')"
   ]
  },
  {
   "cell_type": "markdown",
   "id": "fbd38f7b",
   "metadata": {},
   "source": [
    "# global 语句\n",
    "\n",
    "一般来说，函数定义中的变量只是局部变量，不能影响函数意外的环境。但如果使用 `global`， 就可以改变函数之外的变量。比较以下两个例子："
   ]
  },
  {
   "cell_type": "code",
   "execution_count": 13,
   "id": "6c7be098",
   "metadata": {},
   "outputs": [
    {
     "name": "stdout",
     "output_type": "stream",
     "text": [
      "I am an egg.\n"
     ]
    }
   ],
   "source": [
    "def spam():\n",
    "    eggs = 'I change to spam.'\n",
    "\n",
    "eggs = 'I am an egg.'\n",
    "spam()\n",
    "print(eggs)"
   ]
  },
  {
   "cell_type": "code",
   "execution_count": 14,
   "id": "7f663e7a",
   "metadata": {},
   "outputs": [
    {
     "name": "stdout",
     "output_type": "stream",
     "text": [
      "I change to spam.\n"
     ]
    }
   ],
   "source": [
    "def spam():\n",
    "    global eggs\n",
    "    eggs = 'I change to spam.'\n",
    "\n",
    "eggs = 'I am an eagg.'\n",
    "spam()\n",
    "print(eggs)"
   ]
  },
  {
   "cell_type": "markdown",
   "id": "9941029c",
   "metadata": {},
   "source": [
    "# 异常处理\n",
    "\n",
    "运行以下代码会显示错误："
   ]
  },
  {
   "cell_type": "code",
   "execution_count": 20,
   "id": "b55569c9",
   "metadata": {},
   "outputs": [
    {
     "name": "stdout",
     "output_type": "stream",
     "text": [
      "21.0\n",
      "3.5\n"
     ]
    },
    {
     "ename": "ZeroDivisionError",
     "evalue": "division by zero",
     "output_type": "error",
     "traceback": [
      "\u001b[0;31m---------------------------------------------------------------------------\u001b[0m",
      "\u001b[0;31mZeroDivisionError\u001b[0m                         Traceback (most recent call last)",
      "\u001b[0;32m/var/folders/0s/vp6102qx53d1ktkfr7t2_xk00000gn/T/ipykernel_64159/4098228668.py\u001b[0m in \u001b[0;36m<module>\u001b[0;34m\u001b[0m\n\u001b[1;32m      4\u001b[0m \u001b[0mprint\u001b[0m\u001b[0;34m(\u001b[0m\u001b[0mspam\u001b[0m\u001b[0;34m(\u001b[0m\u001b[0;36m2\u001b[0m\u001b[0;34m)\u001b[0m\u001b[0;34m)\u001b[0m\u001b[0;34m\u001b[0m\u001b[0;34m\u001b[0m\u001b[0m\n\u001b[1;32m      5\u001b[0m \u001b[0mprint\u001b[0m\u001b[0;34m(\u001b[0m\u001b[0mspam\u001b[0m\u001b[0;34m(\u001b[0m\u001b[0;36m12\u001b[0m\u001b[0;34m)\u001b[0m\u001b[0;34m)\u001b[0m\u001b[0;34m\u001b[0m\u001b[0;34m\u001b[0m\u001b[0m\n\u001b[0;32m----> 6\u001b[0;31m \u001b[0mprint\u001b[0m\u001b[0;34m(\u001b[0m\u001b[0mspam\u001b[0m\u001b[0;34m(\u001b[0m\u001b[0;36m0\u001b[0m\u001b[0;34m)\u001b[0m\u001b[0;34m)\u001b[0m\u001b[0;34m\u001b[0m\u001b[0;34m\u001b[0m\u001b[0m\n\u001b[0m\u001b[1;32m      7\u001b[0m \u001b[0mprint\u001b[0m\u001b[0;34m(\u001b[0m\u001b[0mspam\u001b[0m\u001b[0;34m(\u001b[0m\u001b[0;36m1\u001b[0m\u001b[0;34m)\u001b[0m\u001b[0;34m)\u001b[0m\u001b[0;34m\u001b[0m\u001b[0;34m\u001b[0m\u001b[0m\n\u001b[1;32m      8\u001b[0m \u001b[0mprint\u001b[0m\u001b[0;34m(\u001b[0m\u001b[0mspam\u001b[0m\u001b[0;34m(\u001b[0m\u001b[0;36m3\u001b[0m\u001b[0;34m)\u001b[0m\u001b[0;34m)\u001b[0m\u001b[0;34m\u001b[0m\u001b[0;34m\u001b[0m\u001b[0m\n",
      "\u001b[0;32m/var/folders/0s/vp6102qx53d1ktkfr7t2_xk00000gn/T/ipykernel_64159/4098228668.py\u001b[0m in \u001b[0;36mspam\u001b[0;34m(divide_by)\u001b[0m\n\u001b[1;32m      1\u001b[0m \u001b[0;32mdef\u001b[0m \u001b[0mspam\u001b[0m\u001b[0;34m(\u001b[0m\u001b[0mdivide_by\u001b[0m\u001b[0;34m)\u001b[0m\u001b[0;34m:\u001b[0m\u001b[0;34m\u001b[0m\u001b[0;34m\u001b[0m\u001b[0m\n\u001b[0;32m----> 2\u001b[0;31m     \u001b[0;32mreturn\u001b[0m \u001b[0;36m42\u001b[0m \u001b[0;34m/\u001b[0m \u001b[0mdivide_by\u001b[0m\u001b[0;34m\u001b[0m\u001b[0;34m\u001b[0m\u001b[0m\n\u001b[0m\u001b[1;32m      3\u001b[0m \u001b[0;34m\u001b[0m\u001b[0m\n\u001b[1;32m      4\u001b[0m \u001b[0mprint\u001b[0m\u001b[0;34m(\u001b[0m\u001b[0mspam\u001b[0m\u001b[0;34m(\u001b[0m\u001b[0;36m2\u001b[0m\u001b[0;34m)\u001b[0m\u001b[0;34m)\u001b[0m\u001b[0;34m\u001b[0m\u001b[0;34m\u001b[0m\u001b[0m\n\u001b[1;32m      5\u001b[0m \u001b[0mprint\u001b[0m\u001b[0;34m(\u001b[0m\u001b[0mspam\u001b[0m\u001b[0;34m(\u001b[0m\u001b[0;36m12\u001b[0m\u001b[0;34m)\u001b[0m\u001b[0;34m)\u001b[0m\u001b[0;34m\u001b[0m\u001b[0;34m\u001b[0m\u001b[0m\n",
      "\u001b[0;31mZeroDivisionError\u001b[0m: division by zero"
     ]
    }
   ],
   "source": [
    "def spam(divide_by):\n",
    "    return 42 / divide_by\n",
    "\n",
    "print(spam(2))\n",
    "print(spam(12))\n",
    "print(spam(0))\n",
    "print(spam(1))\n",
    "print(spam(3))"
   ]
  },
  {
   "cell_type": "markdown",
   "id": "82352de0",
   "metadata": {},
   "source": [
    "原因是运行到 `print(spam(0))` 时，分母为0。注意上面的提示：`ZeroDivisionError: division by zero`.\n",
    "\n",
    "出错后，后面的所有命令也不会进行。如果想跳过错误，继续运行后面的命令，可以用 `try` 和 `except` 命令："
   ]
  },
  {
   "cell_type": "code",
   "execution_count": 21,
   "id": "8ded45d5",
   "metadata": {},
   "outputs": [
    {
     "name": "stdout",
     "output_type": "stream",
     "text": [
      "21.0\n",
      "3.5\n",
      "Error: Invalid argument\n",
      "14.0\n"
     ]
    }
   ],
   "source": [
    "def spam(divide_by):\n",
    "    return 42 / divide_by\n",
    "\n",
    "try:\n",
    "    print(spam(2))\n",
    "    print(spam(12))\n",
    "    print(spam(0))\n",
    "    print(spam(1))\n",
    "except ZeroDivisionError:    # 其中的 `ZeroDivisionError` 是由运行上面的例子，系统所给出的出错提示.\n",
    "    print('Error: Invalid argument')\n",
    "    \n",
    "\n",
    "print(spam(3))"
   ]
  },
  {
   "cell_type": "markdown",
   "id": "40e44b18",
   "metadata": {},
   "source": [
    "`print(spam(1))` 从未被执行是因为，一旦执行跳到 `except` 子句的代码，就不会回到 `try` 子句。它会继续照常向下执行。"
   ]
  },
  {
   "cell_type": "markdown",
   "id": "627bf36d",
   "metadata": {},
   "source": [
    "# 练习：Collatz 序列\n",
    "\n",
    "编写一个名为 collatz( )的函数，它有一个名为 number 的参数。如果参数是偶数， 那么 collatz( )就打印出 number // 2，并返回该值。如果 number 是奇数，collatz( )就打 印并返回 3 * number + 1。\n",
    "\n",
    "然后编写一个程序，让用户输入一个整数，并不断对这个数调用 collatz( )，直 到函数返回值１（令人惊奇的是，这个序列对于任何整数都有效，利用这个序列， 你迟早会得到 1！既使数学家也不能确定为什么。你的程序在研究所谓的“Collatz 序列”，它有时候被称为“最简单的、不可能的数学问题”）。\n",
    "\n",
    "记得将 input()的返回值用 int()函数转成一个整数，否则它会是一个字符串。"
   ]
  },
  {
   "cell_type": "code",
   "execution_count": 35,
   "id": "c6f3be9e",
   "metadata": {},
   "outputs": [
    {
     "name": "stdout",
     "output_type": "stream",
     "text": [
      "2.0\n"
     ]
    }
   ],
   "source": [
    "def collatz(number):\n",
    "    if number % 2 == 0:\n",
    "        return number/2\n",
    "    else:\n",
    "        return 3 * number + 1\n",
    "\n",
    "print(collatz(4))"
   ]
  },
  {
   "cell_type": "code",
   "execution_count": 37,
   "id": "04412b6c",
   "metadata": {},
   "outputs": [
    {
     "data": {
      "text/plain": [
       "True"
      ]
     },
     "execution_count": 37,
     "metadata": {},
     "output_type": "execute_result"
    }
   ],
   "source": [
    "4%2 == 0"
   ]
  },
  {
   "cell_type": "code",
   "execution_count": 82,
   "id": "56acef4c",
   "metadata": {},
   "outputs": [
    {
     "name": "stdout",
     "output_type": "stream",
     "text": [
      "输入一个正整数 > 10\n",
      "10, 5, 16, 8, 4, 2, 1 End.\n",
      "\n",
      "运算的总次数：7\n"
     ]
    }
   ],
   "source": [
    "def collatz(number):\n",
    "    if number % 2 == 0:\n",
    "        return int(number/2)\n",
    "    else:\n",
    "        return 3 * number + 1\n",
    "\n",
    "\n",
    "number = int(input('输入一个正整数 > '))\n",
    "    \n",
    "frequence = 1\n",
    "\n",
    "print(number, end='')\n",
    "\n",
    "for i in range(300): #原则上可以改为： ‘while True:’，但是担心出现运行次数太多，所以设定最多计算300次。 \n",
    "    if number == 1:\n",
    "        print(' End.')\n",
    "        break\n",
    "    else:\n",
    "        print(', ', end='')\n",
    "        print(collatz(number), end='')\n",
    "        number = collatz(number)\n",
    "        frequence += 1\n",
    "if (number != 1):\n",
    "    print('\\n' + '已经超过设定的300次运算，仍没有得到 1')\n",
    "else:\n",
    "    print('\\n' + '运算的总次数：' + str(frequence))"
   ]
  },
  {
   "cell_type": "markdown",
   "id": "e6a5159b",
   "metadata": {},
   "source": [
    "尝试在 collatz 函数中输入负整数，似乎会得到循环的数列."
   ]
  },
  {
   "cell_type": "code",
   "execution_count": null,
   "id": "d781581e",
   "metadata": {},
   "outputs": [],
   "source": []
  }
 ],
 "metadata": {
  "kernelspec": {
   "display_name": "Python 3 (ipykernel)",
   "language": "python",
   "name": "python3"
  },
  "language_info": {
   "codemirror_mode": {
    "name": "ipython",
    "version": 3
   },
   "file_extension": ".py",
   "mimetype": "text/x-python",
   "name": "python",
   "nbconvert_exporter": "python",
   "pygments_lexer": "ipython3",
   "version": "3.7.6"
  }
 },
 "nbformat": 4,
 "nbformat_minor": 5
}
