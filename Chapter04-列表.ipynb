{
 "cells": [
  {
   "cell_type": "code",
   "execution_count": 1,
   "id": "cd44ceca",
   "metadata": {},
   "outputs": [
    {
     "name": "stdout",
     "output_type": "stream",
     "text": [
      "cat\n",
      "elephant\n",
      "rat\n",
      "['cat', 'bat', 'rat']\n",
      "['cat', 'bat']\n"
     ]
    }
   ],
   "source": [
    "spam = ['cat', 'bat', 'rat', 'elephant']\n",
    "\n",
    "print(spam[0])\n",
    "print(spam[-1])\n",
    "print(spam[-2])\n",
    "print(spam[0:3])\n",
    "print(spam[0:-2])"
   ]
  },
  {
   "cell_type": "markdown",
   "id": "c6656255",
   "metadata": {},
   "source": [
    "列表也可以包含列表"
   ]
  },
  {
   "cell_type": "code",
   "execution_count": 2,
   "id": "3951a3e2",
   "metadata": {},
   "outputs": [
    {
     "data": {
      "text/plain": [
       "'bat'"
      ]
     },
     "execution_count": 2,
     "metadata": {},
     "output_type": "execute_result"
    }
   ],
   "source": [
    "spam = [['cat', 'bat'], [10, 20, 30, 40, 50]]\n",
    "spam[0][1]"
   ]
  },
  {
   "cell_type": "code",
   "execution_count": 3,
   "id": "918f54a6",
   "metadata": {},
   "outputs": [
    {
     "name": "stdout",
     "output_type": "stream",
     "text": [
      "2\n",
      "2\n",
      "3\n"
     ]
    }
   ],
   "source": [
    "print(len(spam))\n",
    "print(len(spam[0]))\n",
    "print(len(spam[0][1]))"
   ]
  },
  {
   "cell_type": "markdown",
   "id": "18256bbd",
   "metadata": {},
   "source": [
    "改变列表的值"
   ]
  },
  {
   "cell_type": "code",
   "execution_count": 4,
   "id": "57c2d39e",
   "metadata": {},
   "outputs": [
    {
     "data": {
      "text/plain": [
       "['cat', 'aardvark', 'rat', 'elephant']"
      ]
     },
     "execution_count": 4,
     "metadata": {},
     "output_type": "execute_result"
    }
   ],
   "source": [
    "spam = ['cat', 'bat', 'rat', 'elephant']\n",
    "spam[1] = 'aardvark'\n",
    "spam"
   ]
  },
  {
   "cell_type": "code",
   "execution_count": 5,
   "id": "0b394145",
   "metadata": {},
   "outputs": [
    {
     "data": {
      "text/plain": [
       "['cat', 'aardvark', 'aardvark', 'elephant']"
      ]
     },
     "execution_count": 5,
     "metadata": {},
     "output_type": "execute_result"
    }
   ],
   "source": [
    "spam[2] = spam[1]\n",
    "spam"
   ]
  },
  {
   "cell_type": "code",
   "execution_count": 6,
   "id": "d56967e3",
   "metadata": {},
   "outputs": [
    {
     "data": {
      "text/plain": [
       "['cat', 'aardvark', 'aardvark', 12345]"
      ]
     },
     "execution_count": 6,
     "metadata": {},
     "output_type": "execute_result"
    }
   ],
   "source": [
    "spam[-1] = 12345\n",
    "spam"
   ]
  },
  {
   "cell_type": "markdown",
   "id": "953bc2df",
   "metadata": {},
   "source": [
    "# 列表连接和复制"
   ]
  },
  {
   "cell_type": "code",
   "execution_count": 7,
   "id": "f5165273",
   "metadata": {},
   "outputs": [
    {
     "data": {
      "text/plain": [
       "[1, 2, 3, 'A', 'B', 'C', 'A', 'B', 'C']"
      ]
     },
     "execution_count": 7,
     "metadata": {},
     "output_type": "execute_result"
    }
   ],
   "source": [
    "[1, 2, 3] + ['A', 'B', 'C']*2"
   ]
  },
  {
   "cell_type": "markdown",
   "id": "f2aaf07e",
   "metadata": {},
   "source": [
    "# 用 del 语句从列表删除值"
   ]
  },
  {
   "cell_type": "code",
   "execution_count": 8,
   "id": "1ed81fa4",
   "metadata": {},
   "outputs": [
    {
     "data": {
      "text/plain": [
       "['cat', 'bat', 'elephant']"
      ]
     },
     "execution_count": 8,
     "metadata": {},
     "output_type": "execute_result"
    }
   ],
   "source": [
    "spam = ['cat', 'bat', 'rat', 'elephant']\n",
    "del spam[2]\n",
    "spam"
   ]
  },
  {
   "cell_type": "code",
   "execution_count": 9,
   "id": "e03b7ea1",
   "metadata": {},
   "outputs": [
    {
     "data": {
      "text/plain": [
       "['cat', 'bat']"
      ]
     },
     "execution_count": 9,
     "metadata": {},
     "output_type": "execute_result"
    }
   ],
   "source": [
    "del spam[2]\n",
    "spam"
   ]
  },
  {
   "cell_type": "markdown",
   "id": "9111c205",
   "metadata": {},
   "source": [
    "# 列表用于循环"
   ]
  },
  {
   "cell_type": "code",
   "execution_count": 10,
   "id": "bc85c8bc",
   "metadata": {},
   "outputs": [
    {
     "name": "stdout",
     "output_type": "stream",
     "text": [
      "10\n",
      "21\n",
      "cat\n",
      "['a', 'b']\n"
     ]
    }
   ],
   "source": [
    "for i in [10, 21, 'cat', ['a', 'b']]:\n",
    "    print(i)"
   ]
  },
  {
   "cell_type": "markdown",
   "id": "6eb9f8a8",
   "metadata": {},
   "source": [
    "技巧：`range(len(someList))`"
   ]
  },
  {
   "cell_type": "code",
   "execution_count": 11,
   "id": "f8b1b7e0",
   "metadata": {},
   "outputs": [
    {
     "name": "stdout",
     "output_type": "stream",
     "text": [
      "Index 0 in the list is: cat\n",
      "Index 1 in the list is: bat\n",
      "Index 2 in the list is: rat\n",
      "Index 3 in the list is: elephant\n"
     ]
    }
   ],
   "source": [
    "spam = ['cat', 'bat', 'rat', 'elephant']\n",
    "for i in range(len(spam)):\n",
    "    print('Index ' + str(i) + ' in the list is: ' + spam[i])"
   ]
  },
  {
   "cell_type": "markdown",
   "id": "bfce361e",
   "metadata": {},
   "source": [
    "# in 和 not in 操作符"
   ]
  },
  {
   "cell_type": "code",
   "execution_count": 12,
   "id": "2d13d916",
   "metadata": {},
   "outputs": [
    {
     "data": {
      "text/plain": [
       "True"
      ]
     },
     "execution_count": 12,
     "metadata": {},
     "output_type": "execute_result"
    }
   ],
   "source": [
    "'cat' in ['cat', 'bat', 'rat', 'elephant']"
   ]
  },
  {
   "cell_type": "code",
   "execution_count": 13,
   "id": "0f7e0a9e",
   "metadata": {},
   "outputs": [
    {
     "data": {
      "text/plain": [
       "False"
      ]
     },
     "execution_count": 13,
     "metadata": {},
     "output_type": "execute_result"
    }
   ],
   "source": [
    "'rat' not in ['cat', 'bat', 'rat', 'elephant']"
   ]
  },
  {
   "cell_type": "markdown",
   "id": "54883007",
   "metadata": {},
   "source": [
    "# 多重赋值技巧"
   ]
  },
  {
   "cell_type": "code",
   "execution_count": 14,
   "id": "899c1dff",
   "metadata": {},
   "outputs": [
    {
     "name": "stdout",
     "output_type": "stream",
     "text": [
      "fat\n",
      "black\n",
      "loud\n"
     ]
    }
   ],
   "source": [
    "cat = ['fat', 'black', 'loud']\n",
    "size, color, disposition = cat\n",
    "print(size)\n",
    "print(color)\n",
    "print(disposition)"
   ]
  },
  {
   "cell_type": "markdown",
   "id": "733c12db",
   "metadata": {},
   "source": [
    "# 方法\n",
    "\n",
    "每种数据类型都有它自己的一组方法。例如，列表数据类型有一些有用的方法， 用来查找、添加、删除或操作列表中的值。\n",
    "\n",
    "## index() 方法\n",
    "\n",
    "查找某个东西是否在列表中，如果是，返回在**第一次**出现的位置。"
   ]
  },
  {
   "cell_type": "code",
   "execution_count": 15,
   "id": "07e2399f",
   "metadata": {},
   "outputs": [
    {
     "data": {
      "text/plain": [
       "2"
      ]
     },
     "execution_count": 15,
     "metadata": {},
     "output_type": "execute_result"
    }
   ],
   "source": [
    "[1,2,3,1,2,3,1,2,3].index(3)"
   ]
  },
  {
   "cell_type": "markdown",
   "id": "7056b2ba",
   "metadata": {},
   "source": [
    "## append() 和 insert() 方法\n",
    "\n",
    "在列表中添加值."
   ]
  },
  {
   "cell_type": "code",
   "execution_count": 16,
   "id": "4318dce8",
   "metadata": {},
   "outputs": [
    {
     "data": {
      "text/plain": [
       "[0, 'a', 1, 2, 3, 4]"
      ]
     },
     "execution_count": 16,
     "metadata": {},
     "output_type": "execute_result"
    }
   ],
   "source": [
    "spam = [0,1,2,3,4]\n",
    "spam.insert(1,'a')\n",
    "spam"
   ]
  },
  {
   "cell_type": "code",
   "execution_count": 17,
   "id": "043b29ff",
   "metadata": {},
   "outputs": [
    {
     "data": {
      "text/plain": [
       "[0, 1, 2, 3, 4, 5]"
      ]
     },
     "execution_count": 17,
     "metadata": {},
     "output_type": "execute_result"
    }
   ],
   "source": [
    "spam = [0,1,2,3,4]\n",
    "spam.append(5)\n",
    "spam"
   ]
  },
  {
   "cell_type": "markdown",
   "id": "8d295795",
   "metadata": {},
   "source": [
    "**注意** append()和 insert() 直接修改了原列表，并且返回值是 None，所以不能把它保存为变量的新值. 留意以下的例子："
   ]
  },
  {
   "cell_type": "code",
   "execution_count": 18,
   "id": "82de8b5c",
   "metadata": {},
   "outputs": [
    {
     "name": "stdout",
     "output_type": "stream",
     "text": [
      "None\n"
     ]
    }
   ],
   "source": [
    "spam = [0,1,2,3,4]\n",
    "spam = spam.insert(1,'a')\n",
    "print(spam)"
   ]
  },
  {
   "cell_type": "code",
   "execution_count": 19,
   "id": "66f8977f",
   "metadata": {},
   "outputs": [
    {
     "name": "stdout",
     "output_type": "stream",
     "text": [
      "None\n"
     ]
    }
   ],
   "source": [
    "spam = [0,1,2,3,4]\n",
    "spam = spam.append(5)\n",
    "print(spam)"
   ]
  },
  {
   "cell_type": "markdown",
   "id": "ec42ad62",
   "metadata": {},
   "source": [
    "## remove() 方法\n",
    "\n",
    "删除列表中第一次出现的指定值."
   ]
  },
  {
   "cell_type": "code",
   "execution_count": 20,
   "id": "8799e856",
   "metadata": {},
   "outputs": [
    {
     "data": {
      "text/plain": [
       "['a', 'c', 'a', 'b', 'c']"
      ]
     },
     "execution_count": 20,
     "metadata": {},
     "output_type": "execute_result"
    }
   ],
   "source": [
    "spam = ['a', 'b', 'c', 'a', 'b', 'c']\n",
    "spam.remove('b')\n",
    "spam"
   ]
  },
  {
   "cell_type": "markdown",
   "id": "7b0e9930",
   "metadata": {},
   "source": [
    "## sort() 方法\n",
    "\n",
    "`sort()` 方法对字符串排序时，使用“ASCII 字符顺序”，而不是实际的字 典顺序。这意味着大写字母排在小写字母之前。因此在排序时，小写的 a 在大写的 Z 之后。"
   ]
  },
  {
   "cell_type": "code",
   "execution_count": 21,
   "id": "1b3bf846",
   "metadata": {},
   "outputs": [
    {
     "data": {
      "text/plain": [
       "[-7, 1, 2, 3.14, 5]"
      ]
     },
     "execution_count": 21,
     "metadata": {},
     "output_type": "execute_result"
    }
   ],
   "source": [
    "spam = [2, 5, 3.14, 1, -7]\n",
    "spam.sort()\n",
    "spam"
   ]
  },
  {
   "cell_type": "code",
   "execution_count": 22,
   "id": "15b7637a",
   "metadata": {},
   "outputs": [
    {
     "data": {
      "text/plain": [
       "['a2', 'aA', 'aa', 'ab', 'c']"
      ]
     },
     "execution_count": 22,
     "metadata": {},
     "output_type": "execute_result"
    }
   ],
   "source": [
    "spam = ['c', 'aA', 'aa', 'ab', 'a2']\n",
    "spam.sort()\n",
    "spam"
   ]
  },
  {
   "cell_type": "code",
   "execution_count": 23,
   "id": "300f5cec",
   "metadata": {},
   "outputs": [
    {
     "data": {
      "text/plain": [
       "['c', 'ab', 'aa', 'aA', 'a2']"
      ]
     },
     "execution_count": 23,
     "metadata": {},
     "output_type": "execute_result"
    }
   ],
   "source": [
    "spam.sort(reverse=True)\n",
    "spam"
   ]
  },
  {
   "cell_type": "markdown",
   "id": "a262fa92",
   "metadata": {},
   "source": [
    "## 字符串"
   ]
  },
  {
   "cell_type": "code",
   "execution_count": 24,
   "id": "d2169846",
   "metadata": {},
   "outputs": [
    {
     "data": {
      "text/plain": [
       "'c0123'"
      ]
     },
     "execution_count": 24,
     "metadata": {},
     "output_type": "execute_result"
    }
   ],
   "source": [
    "'abcd'[2] + '0123456'[0:-3]"
   ]
  },
  {
   "cell_type": "markdown",
   "id": "f64d8b02",
   "metadata": {},
   "source": [
    "## 元组数据\n",
    "\n",
    "元组与列表的主要区别在于，元组像字符串一样，是不可变的. 元组的值不能被修改、添加或删除."
   ]
  },
  {
   "cell_type": "code",
   "execution_count": 25,
   "id": "509083a5",
   "metadata": {},
   "outputs": [
    {
     "data": {
      "text/plain": [
       "'hello'"
      ]
     },
     "execution_count": 25,
     "metadata": {},
     "output_type": "execute_result"
    }
   ],
   "source": [
    "eggs = ('hello', 2, 4, 6, 8)\n",
    "eggs[0]"
   ]
  },
  {
   "cell_type": "code",
   "execution_count": 26,
   "id": "f05925fb",
   "metadata": {},
   "outputs": [
    {
     "data": {
      "text/plain": [
       "(2, 4, 6)"
      ]
     },
     "execution_count": 26,
     "metadata": {},
     "output_type": "execute_result"
    }
   ],
   "source": [
    "eggs[1:4]"
   ]
  },
  {
   "cell_type": "markdown",
   "id": "879c70c6",
   "metadata": {},
   "source": [
    "## 用 list() 和 tuple() 函数转换类型"
   ]
  },
  {
   "cell_type": "code",
   "execution_count": 27,
   "id": "9977f259",
   "metadata": {},
   "outputs": [
    {
     "data": {
      "text/plain": [
       "['h', 'e', 'l', 'l', 'o']"
      ]
     },
     "execution_count": 27,
     "metadata": {},
     "output_type": "execute_result"
    }
   ],
   "source": [
    "list('hello')"
   ]
  },
  {
   "cell_type": "code",
   "execution_count": 28,
   "id": "c17752ac",
   "metadata": {},
   "outputs": [
    {
     "data": {
      "text/plain": [
       "['hello', 2, 4, 6, 8]"
      ]
     },
     "execution_count": 28,
     "metadata": {},
     "output_type": "execute_result"
    }
   ],
   "source": [
    "list(('hello', 2, 4, 6, 8))"
   ]
  },
  {
   "cell_type": "code",
   "execution_count": 29,
   "id": "1b9b799d",
   "metadata": {},
   "outputs": [
    {
     "data": {
      "text/plain": [
       "('hello', 2, 4, 6, 8)"
      ]
     },
     "execution_count": 29,
     "metadata": {},
     "output_type": "execute_result"
    }
   ],
   "source": [
    "tuple(['hello', 2, 4, 6, 8])"
   ]
  },
  {
   "cell_type": "markdown",
   "id": "84927b0b",
   "metadata": {},
   "source": [
    "# 引用"
   ]
  },
  {
   "cell_type": "markdown",
   "id": "4f47dfd6",
   "metadata": {},
   "source": [
    "当你将列表赋给一个变量时，实际上是将列表的“引用” 赋给了该变量。变量改变时，原列表也随之改变。"
   ]
  },
  {
   "cell_type": "code",
   "execution_count": 30,
   "id": "59dd4bd3",
   "metadata": {},
   "outputs": [
    {
     "data": {
      "text/plain": [
       "[0, 'Hello!', 2, 3, 4, 5]"
      ]
     },
     "execution_count": 30,
     "metadata": {},
     "output_type": "execute_result"
    }
   ],
   "source": [
    "spam = [0, 1, 2, 3, 4, 5]\n",
    "cheese = spam\n",
    "cheese[1] = 'Hello!'\n",
    "spam"
   ]
  },
  {
   "cell_type": "code",
   "execution_count": 31,
   "id": "7a157ac4",
   "metadata": {},
   "outputs": [
    {
     "data": {
      "text/plain": [
       "[0, 'Hello!', 2, 3, 4, 5]"
      ]
     },
     "execution_count": 31,
     "metadata": {},
     "output_type": "execute_result"
    }
   ],
   "source": [
    "cheese"
   ]
  },
  {
   "cell_type": "code",
   "execution_count": 32,
   "id": "8902ba4e",
   "metadata": {},
   "outputs": [
    {
     "name": "stdout",
     "output_type": "stream",
     "text": [
      "[1, 2, 3, 'Hello']\n"
     ]
    }
   ],
   "source": [
    "def eggs(some_list):\n",
    "    some_list.append('Hello')\n",
    "    \n",
    "spam = [1, 2, 3]\n",
    "elephant = spam\n",
    "eggs(spam)\n",
    "print(elephant)"
   ]
  },
  {
   "cell_type": "markdown",
   "id": "3744a282",
   "metadata": {},
   "source": [
    "## copy 模块的 copy() 和 deepcopy() 函数\n",
    "\n",
    "copy.copy()，可以用来复制列表或字典这样的可变值，而不只是复制引用. 留意下面的例子与上面的区别："
   ]
  },
  {
   "cell_type": "code",
   "execution_count": 33,
   "id": "9e2dadad",
   "metadata": {},
   "outputs": [
    {
     "name": "stdout",
     "output_type": "stream",
     "text": [
      "[1, 2, 3]\n"
     ]
    }
   ],
   "source": [
    "import copy\n",
    "\n",
    "def eggs(some_list):\n",
    "    some_list.append('Hello')\n",
    "    \n",
    "spam = [1, 2, 3]\n",
    "elephant = copy.copy(spam)\n",
    "eggs(spam)\n",
    "print(elephant)"
   ]
  },
  {
   "cell_type": "markdown",
   "id": "59c9cd39",
   "metadata": {},
   "source": [
    "如果要复制的列表中包含了列表， 那就使用 copy.deepcopy() 函数来代替。deepcopy()函数将同时复制它们内部的列表。"
   ]
  },
  {
   "cell_type": "markdown",
   "id": "11f8ef8e",
   "metadata": {},
   "source": [
    "## 练习\n",
    "\n",
    "1. 假定有下面这样的列表：\n",
    "\n",
    "```\n",
    "spam = ['apples', 'bananas', 'tofu', 'cats']\n",
    "```\n",
    "\n",
    "编写一个函数，它以一个列表值作为参数，返回一个字符串。该字符串包含所 有表项，表项之间以逗号和空格分隔，并在最后一个表项之前插入 and。例如，将 前面的 spam 列表传递给函数，将返回'apples, bananas, tofu, and cats'。但你的函数应 该能够处理传递给它的任何列表。"
   ]
  },
  {
   "cell_type": "code",
   "execution_count": 34,
   "id": "42d35905",
   "metadata": {},
   "outputs": [
    {
     "name": "stdout",
     "output_type": "stream",
     "text": [
      "apples, bananas, tofu, and cats\n"
     ]
    }
   ],
   "source": [
    "def show_list_term(some_list):\n",
    "    term = ''\n",
    "    for i in range(len(some_list)-1):\n",
    "        term = term + some_list[i] + ', '\n",
    "    print(term + 'and ' + some_list[-1])\n",
    "    \n",
    "spam = ['apples', 'bananas', 'tofu', 'cats']\n",
    "show_list_term(spam)"
   ]
  },
  {
   "cell_type": "code",
   "execution_count": null,
   "id": "951a5685",
   "metadata": {},
   "outputs": [],
   "source": []
  }
 ],
 "metadata": {
  "kernelspec": {
   "display_name": "Python 3 (ipykernel)",
   "language": "python",
   "name": "python3"
  },
  "language_info": {
   "codemirror_mode": {
    "name": "ipython",
    "version": 3
   },
   "file_extension": ".py",
   "mimetype": "text/x-python",
   "name": "python",
   "nbconvert_exporter": "python",
   "pygments_lexer": "ipython3",
   "version": "3.7.6"
  }
 },
 "nbformat": 4,
 "nbformat_minor": 5
}
