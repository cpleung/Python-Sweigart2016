{
 "cells": [
  {
   "cell_type": "markdown",
   "id": "8334cf01",
   "metadata": {},
   "source": [
    "## 数学操作符\n",
    "\n",
    "|操作符 |操作 |例子 |值 |\n",
    "|:---|:---|:---|:---|\n",
    "|`**` |指数 |`2**3` |8 |\n",
    "|`%` |取余数 |`22%8` |6 |\n",
    "|`//`|商取整 |`22//8` |2|\n",
    "\n",
    "注意的是，上述数字可以不是整数。"
   ]
  },
  {
   "cell_type": "code",
   "execution_count": 1,
   "id": "de611409",
   "metadata": {},
   "outputs": [
    {
     "data": {
      "text/plain": [
       "2.0"
      ]
     },
     "execution_count": 1,
     "metadata": {},
     "output_type": "execute_result"
    }
   ],
   "source": [
    "22.5//8.5"
   ]
  },
  {
   "cell_type": "code",
   "execution_count": 2,
   "id": "1b5e523f",
   "metadata": {},
   "outputs": [
    {
     "data": {
      "text/plain": [
       "5.5"
      ]
     },
     "execution_count": 2,
     "metadata": {},
     "output_type": "execute_result"
    }
   ],
   "source": [
    "22.5%8.5"
   ]
  },
  {
   "cell_type": "markdown",
   "id": "f52fe274",
   "metadata": {},
   "source": [
    "## 字符串操作\n",
    "\n",
    "字符串可以做 **加法** 和 **乘法**，以及求**长度**."
   ]
  },
  {
   "cell_type": "code",
   "execution_count": 3,
   "id": "884dfb34",
   "metadata": {},
   "outputs": [
    {
     "data": {
      "text/plain": [
       "'Alice Bob!!!!!'"
      ]
     },
     "execution_count": 3,
     "metadata": {},
     "output_type": "execute_result"
    }
   ],
   "source": [
    "X = 'Alice' + ' ' + 'Bob' + '!'*5\n",
    "X"
   ]
  },
  {
   "cell_type": "code",
   "execution_count": 4,
   "id": "e17adfcf",
   "metadata": {},
   "outputs": [
    {
     "data": {
      "text/plain": [
       "14"
      ]
     },
     "execution_count": 4,
     "metadata": {},
     "output_type": "execute_result"
    }
   ],
   "source": [
    "len(X)"
   ]
  },
  {
   "cell_type": "code",
   "execution_count": 5,
   "id": "5836cd98",
   "metadata": {},
   "outputs": [
    {
     "data": {
      "text/plain": [
       "'The next year is 2023'"
      ]
     },
     "execution_count": 5,
     "metadata": {},
     "output_type": "execute_result"
    }
   ],
   "source": [
    "'The next year is ' + str(int('2022')+1)"
   ]
  },
  {
   "cell_type": "markdown",
   "id": "0c14d4dd",
   "metadata": {},
   "source": [
    "## 变量\n",
    "\n",
    "当变量名字不需要有意义时，Python 倾向于把变量取名为：spam，ham，eggs，bacon\n",
    "\n",
    "变量取名规则：\n",
    "* 只能是一个词\n",
    "* 只能由字母、数字和下划线组成\n",
    "* 不能以数字开头\n",
    "\n",
    "以下都是无效的变量名：\n",
    "`current-balance`, `current balance`, `4account`, `42` \n",
    "\n",
    "常见的变量取名形式：\n",
    "* 驼峰形式：`lookLikeThis`\n",
    "* 下划线：`looking_like_this`"
   ]
  },
  {
   "cell_type": "code",
   "execution_count": 6,
   "id": "543ca9f0",
   "metadata": {},
   "outputs": [
    {
     "name": "stdout",
     "output_type": "stream",
     "text": [
      "What is your age? > 10\n",
      "You will be 11 in a year.\n"
     ]
    }
   ],
   "source": [
    "my_age = input('What is your age? > ')\n",
    "print('You will be ' + str(int(my_age) + 1) + ' in a year.')"
   ]
  },
  {
   "cell_type": "code",
   "execution_count": null,
   "id": "c6681711",
   "metadata": {},
   "outputs": [],
   "source": []
  }
 ],
 "metadata": {
  "kernelspec": {
   "display_name": "python_learning",
   "language": "python",
   "name": "python_learning"
  },
  "language_info": {
   "codemirror_mode": {
    "name": "ipython",
    "version": 3
   },
   "file_extension": ".py",
   "mimetype": "text/x-python",
   "name": "python",
   "nbconvert_exporter": "python",
   "pygments_lexer": "ipython3",
   "version": "3.9.13"
  }
 },
 "nbformat": 4,
 "nbformat_minor": 5
}
